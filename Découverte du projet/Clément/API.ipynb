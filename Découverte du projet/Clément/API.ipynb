{
 "cells": [
  {
   "cell_type": "code",
   "execution_count": 3,
   "id": "800bae84-b428-4d44-afef-7b71f1db8c26",
   "metadata": {},
   "outputs": [],
   "source": [
    "import requests\n",
    "import pandas as pd\n",
    "import time"
   ]
  },
  {
   "cell_type": "code",
   "execution_count": 4,
   "id": "80d37444-a0f1-4b34-9aae-0966e07345e4",
   "metadata": {},
   "outputs": [],
   "source": [
    "key = \"RGAPI-c6392c67-5223-4bd1-a76a-0fa0d8c30a7c\"\n",
    "summonerName = \"Bytaizer\"\n",
    "nb_games = 10"
   ]
  },
  {
   "cell_type": "markdown",
   "id": "184234d7-656e-45cc-b65b-9b2d55b82bfa",
   "metadata": {},
   "source": [
    "## Récup du PUUID"
   ]
  },
  {
   "cell_type": "code",
   "execution_count": 5,
   "id": "5935eae4-57c4-499e-98f4-4e5a94966ec4",
   "metadata": {},
   "outputs": [],
   "source": [
    "recup_puuid = f\"https://euw1.api.riotgames.com/lol/summoner/v4/summoners/by-name/{summonerName}?api_key={key}\"\n",
    "reponse_puuid = requests.get(recup_puuid)\n",
    "res_puuid=reponse_puuid.json()\n",
    "puuid = res_puuid[\"puuid\"]"
   ]
  },
  {
   "cell_type": "markdown",
   "id": "5acece34-b76e-4311-b015-6f0266551bec",
   "metadata": {},
   "source": [
    "## A partir du PUUID, on récup jusqu'à 100 games"
   ]
  },
  {
   "cell_type": "code",
   "execution_count": 112,
   "id": "aecaffc7-45c3-4d4e-9deb-80b985ad4ee3",
   "metadata": {},
   "outputs": [],
   "source": [
    "recup_games = f\"https://europe.api.riotgames.com/lol/match/v5/matches/by-puuid/{puuid}/ids?start=0&count={nb_games}&api_key={key}\"\n",
    "reponse_games = requests.get(recup_games)\n",
    "res_games=reponse_games.json()"
   ]
  },
  {
   "cell_type": "markdown",
   "id": "1c2bc976-4d8d-48dd-b0f4-068bcc38460b",
   "metadata": {},
   "source": [
    "## Création d'un Dataframe"
   ]
  },
  {
   "cell_type": "markdown",
   "id": "00fec13b-c6cd-4fe1-a15a-5202358cb486",
   "metadata": {},
   "source": [
    "### Fonction pour faciliter l'accession aux infos de ['info'][['participants']"
   ]
  },
  {
   "cell_type": "code",
   "execution_count": 15,
   "id": "8cb9ecb6-db7c-412c-b49a-1aa5f3ad7c91",
   "metadata": {},
   "outputs": [],
   "source": [
    "def donnees_part(data,key):\n",
    "    \"\"\" la fonction permet de récupérer des valeurs du dictionnaire ayant comme clé ['info']['participant'] par equipe\n",
    "    data est le dictionnaire des participants\"\"\"\n",
    "    L1,L2=[],[] # création de listes pours les données des team 1 et 2 (pour une des games)\n",
    "    for participant in data:\n",
    "        if len(L1) <5:# une fois la première équipe remplie, on remplie la deuxième\n",
    "            L1.append(participant[key])\n",
    "        else :\n",
    "            L2.append(participant[key])\n",
    "    return(L1,L2)\n",
    "    "
   ]
  },
  {
   "cell_type": "code",
   "execution_count": 14,
   "id": "d1fd98b2-36f2-446e-a7b9-c559cffd8139",
   "metadata": {},
   "outputs": [],
   "source": [
    "def recup_donnees_team(keys,data,dict_final):\n",
    "    \"\"\"permet de récup les données par team (de ['info']['participants']) et de les implémenter dans un dictionnaire\"\"\"\n",
    "    dict=data['info']['participants']\n",
    "    for key in keys :\n",
    "        x=donnees_part(dict,key)\n",
    "        dict_final[key+\"1\"].append(x[0])\n",
    "        dict_final[key+\"2\"].append(x[1])\n",
    "    return(dict_final)"
   ]
  },
  {
   "cell_type": "code",
   "execution_count": 94,
   "id": "ef4bf193-ad46-4fb1-9ab2-12c22f6cd61e",
   "metadata": {},
   "outputs": [],
   "source": [
    "gameDuration,gameMode,win = [],[],[]\n",
    "keys = ['championName','championId','champExperience','champLevel'] #clés des informations qu'il faut trier par équipe\n",
    "dict_final = {keys[i]+ str(a): [] for i in range(len(keys)) for a in (1, 2)} #création du dictionnaire vide pour les infos par team : [champExperience1 : [], champExperience2 : [],\n",
    "\n",
    "for games in res_games : #on parcours l'ensemble des parties de la liste\n",
    "    api_url =f\"https://europe.api.riotgames.com/lol/match/v5/matches/{games}?api_key={key}\"\n",
    "    response = requests.get(api_url)\n",
    "    data = response.json()\n",
    "    \n",
    "    dict_final=recup_donnees_team(keys,data,dict_final)\n",
    "\n",
    "    gameDuration.append(data['info']['gameDuration'])\n",
    "    gameMode.append(data['info']['gameMode'])\n",
    "    win.append(1 if data['info']['participants'][0]['win']==True else 2) #permet de savoir quelle équipe a gagné (on regarde pour le premier joueur)\n",
    "    \n",
    "dict2 = {'GameId': res_games, 'GameDuration' : gameDuration, 'gameMode': gameMode,'win':win}\n",
    "dict2.update(dict_final) #on concatène ensuite les dictionnaires\n",
    "data_info = pd.DataFrame(dict2)"
   ]
  },
  {
   "cell_type": "code",
   "execution_count": 92,
   "id": "a21984e7-5267-4952-b48e-31558223bd0e",
   "metadata": {},
   "outputs": [],
   "source": [
    "#print(data_info)"
   ]
  },
  {
   "cell_type": "code",
   "execution_count": 95,
   "id": "bfa51f87-0911-4f45-b765-685bf1cada80",
   "metadata": {},
   "outputs": [],
   "source": [
    "data_info.to_csv(\"infos_games.csv \")"
   ]
  },
  {
   "cell_type": "markdown",
   "id": "99e3552b-3a47-46f5-a654-ca354ccedc37",
   "metadata": {},
   "source": [
    "## Pagination et problèmes de quotas"
   ]
  },
  {
   "cell_type": "code",
   "execution_count": 13,
   "id": "ca7fafa3-f62b-4bb0-8acc-68082a3d5306",
   "metadata": {},
   "outputs": [],
   "source": [
    "def bcp_demandes(nb_games):\n",
    "    if nb_games >100 :\n",
    "        recup_games = f\"https://europe.api.riotgames.com/lol/match/v5/matches/by-puuid/{puuid}/ids?start=0&count={100}&api_key={key}\"\n",
    "        nb_games = nb_games - 100\n",
    "        reponse_games = requests.get(recup_games)\n",
    "        res_games=reponse_games.json()\n",
    "    if response.status_code == 429:\n",
    "        print(\"trop de demandes\")\n",
    "        time.sleep(int(reponse_games.headers[\"Retry-After\"]))\n",
    "        print(reponse_games.headers[\"Retry-After\"])\n",
    "    print(res_games)\n",
    "\n"
   ]
  },
  {
   "cell_type": "markdown",
   "id": "360d0223-e6fd-4d3d-b307-c3fe0393374f",
   "metadata": {},
   "source": [
    "### Si on demande plus de 100 games :"
   ]
  },
  {
   "cell_type": "code",
   "execution_count": 8,
   "id": "996a1b30-f1fe-4a82-b999-41362de1ed8d",
   "metadata": {},
   "outputs": [],
   "source": [
    "nb_games = 300"
   ]
  },
  {
   "cell_type": "code",
   "execution_count": 11,
   "id": "d29931e0-0f44-4fdf-b7f5-a77adc69eaa3",
   "metadata": {},
   "outputs": [],
   "source": [
    "res_games = []\n",
    "while nb_games >100:\n",
    "    recup_games = f\"https://europe.api.riotgames.com/lol/match/v5/matches/by-puuid/{puuid}/ids?start=0&count={100}&api_key={key}\"\n",
    "    reponse_games = requests.get(recup_games)\n",
    "    res_games = res_games + reponse_games.json()\n",
    "    nb_games-=100\n",
    "    \n",
    "recup_games = f\"https://europe.api.riotgames.com/lol/match/v5/matches/by-puuid/{puuid}/ids?start=0&count={nb_games}&api_key={key}\"\n",
    "reponse_games = requests.get(recup_games)\n",
    "res_games = res_games + reponse_games.json()\n",
    "#print(res_games)"
   ]
  },
  {
   "cell_type": "code",
   "execution_count": 16,
   "id": "a5e384f9-83b7-4842-becc-fb6d7dd47b6f",
   "metadata": {},
   "outputs": [
    {
     "name": "stdout",
     "output_type": "stream",
     "text": [
      "trop de demandes\n"
     ]
    }
   ],
   "source": [
    "gameDuration,gameMode,win = [],[],[]\n",
    "keys = ['championName','championId','champExperience','champLevel'] #clés des informations qu'il faut trier par équipe\n",
    "dict_final = {keys[i]+ str(a): [] for i in range(len(keys)) for a in (1, 2)} #création du dictionnaire vide pour les infos par team : [champExperience1 : [], champExperience2 : [],\n",
    "\n",
    "i=0\n",
    "\n",
    "for games in res_games : #on parcours l'ensemble des parties de la liste\n",
    "    api_url =f\"https://europe.api.riotgames.com/lol/match/v5/matches/{games}?api_key={key}\"\n",
    "    response = requests.get(api_url)\n",
    "    \n",
    "    if response.status_code == 429:\n",
    "        print(\"trop de demandes\")\n",
    "        time.sleep(int(response.headers[\"Retry-After\"])+2) # +2 car sinon le time.sleep semblait être un tout petit peu trop court\n",
    "        response = requests.get(api_url)\n",
    "    \n",
    "    data = response.json()\n",
    "    \n",
    "    dict_final=recup_donnees_team(keys,data,dict_final)\n",
    "\n",
    "    gameDuration.append(data['info']['gameDuration'])\n",
    "    gameMode.append(data['info']['gameMode'])\n",
    "    win.append(1 if data['info']['participants'][0]['win']==True else 2) #permet de savoir quelle équipe a gagné (on regarde pour le premier joueur)\n",
    "    \n",
    "dict2 = {'GameId': res_games, 'GameDuration' : gameDuration, 'gameMode': gameMode,'win':win}\n",
    "dict2.update(dict_final) #on concatène ensuite les dictionnaires\n",
    "data_info = pd.DataFrame(dict2)"
   ]
  },
  {
   "cell_type": "code",
   "execution_count": 17,
   "id": "613494fb-4821-445d-9a3d-001bcbfd7c47",
   "metadata": {},
   "outputs": [],
   "source": [
    "data_info.to_pickle(\"infos_games.pickle \")"
   ]
  },
  {
   "cell_type": "markdown",
   "id": "449eb098-3e1e-4c92-a8e2-eb01acc113d9",
   "metadata": {},
   "source": [
    "## Premiers essais Machine Learning (j'ai un problème de type si je récupère la même chose à partir du csv dans un autre notebook)"
   ]
  },
  {
   "cell_type": "markdown",
   "id": "2b769a83-44b5-49b1-88cc-45fdedc16309",
   "metadata": {},
   "source": [
    "#### On split les colonnes pour obtenir quelque chose de traitable"
   ]
  },
  {
   "cell_type": "code",
   "execution_count": 55,
   "id": "edd1932e-337d-48d0-8b92-b85031e0246f",
   "metadata": {},
   "outputs": [],
   "source": [
    "from sklearn.model_selection import cross_val_score\n",
    "from sklearn.ensemble import RandomForestClassifier\n",
    "from sklearn.metrics import mean_absolute_error # pour importer la fonction de la MAE\n",
    "from sklearn.model_selection import train_test_split"
   ]
  },
  {
   "cell_type": "code",
   "execution_count": 56,
   "id": "29542b56-e9a9-4627-9e4b-a9bf7edbed1c",
   "metadata": {},
   "outputs": [],
   "source": [
    "data2 = data_info[[\"championId1\",\"championId2\",\"win\"]] "
   ]
  },
  {
   "cell_type": "code",
   "execution_count": 57,
   "id": "76585a57-73df-4cd9-b7fe-e86ee0f3e093",
   "metadata": {},
   "outputs": [
    {
     "data": {
      "text/html": [
       "<div>\n",
       "<style scoped>\n",
       "    .dataframe tbody tr th:only-of-type {\n",
       "        vertical-align: middle;\n",
       "    }\n",
       "\n",
       "    .dataframe tbody tr th {\n",
       "        vertical-align: top;\n",
       "    }\n",
       "\n",
       "    .dataframe thead th {\n",
       "        text-align: right;\n",
       "    }\n",
       "</style>\n",
       "<table border=\"1\" class=\"dataframe\">\n",
       "  <thead>\n",
       "    <tr style=\"text-align: right;\">\n",
       "      <th></th>\n",
       "      <th>win</th>\n",
       "      <th>1</th>\n",
       "      <th>2</th>\n",
       "      <th>3</th>\n",
       "      <th>4</th>\n",
       "      <th>5</th>\n",
       "      <th>6</th>\n",
       "      <th>7</th>\n",
       "      <th>8</th>\n",
       "      <th>9</th>\n",
       "      <th>10</th>\n",
       "    </tr>\n",
       "  </thead>\n",
       "  <tbody>\n",
       "    <tr>\n",
       "      <th>0</th>\n",
       "      <td>2</td>\n",
       "      <td>134</td>\n",
       "      <td>96</td>\n",
       "      <td>517</td>\n",
       "      <td>555</td>\n",
       "      <td>11</td>\n",
       "      <td>18</td>\n",
       "      <td>98</td>\n",
       "      <td>166</td>\n",
       "      <td>517</td>\n",
       "      <td>45</td>\n",
       "    </tr>\n",
       "    <tr>\n",
       "      <th>1</th>\n",
       "      <td>2</td>\n",
       "      <td>86</td>\n",
       "      <td>20</td>\n",
       "      <td>38</td>\n",
       "      <td>99</td>\n",
       "      <td>84</td>\n",
       "      <td>22</td>\n",
       "      <td>202</td>\n",
       "      <td>126</td>\n",
       "      <td>115</td>\n",
       "      <td>79</td>\n",
       "    </tr>\n",
       "    <tr>\n",
       "      <th>2</th>\n",
       "      <td>1</td>\n",
       "      <td>161</td>\n",
       "      <td>120</td>\n",
       "      <td>48</td>\n",
       "      <td>91</td>\n",
       "      <td>238</td>\n",
       "      <td>45</td>\n",
       "      <td>143</td>\n",
       "      <td>22</td>\n",
       "      <td>119</td>\n",
       "      <td>53</td>\n",
       "    </tr>\n",
       "    <tr>\n",
       "      <th>3</th>\n",
       "      <td>2</td>\n",
       "      <td>81</td>\n",
       "      <td>20</td>\n",
       "      <td>25</td>\n",
       "      <td>45</td>\n",
       "      <td>145</td>\n",
       "      <td>72</td>\n",
       "      <td>12</td>\n",
       "      <td>360</td>\n",
       "      <td>45</td>\n",
       "      <td>497</td>\n",
       "    </tr>\n",
       "    <tr>\n",
       "      <th>4</th>\n",
       "      <td>1</td>\n",
       "      <td>777</td>\n",
       "      <td>22</td>\n",
       "      <td>115</td>\n",
       "      <td>222</td>\n",
       "      <td>74</td>\n",
       "      <td>106</td>\n",
       "      <td>240</td>\n",
       "      <td>238</td>\n",
       "      <td>887</td>\n",
       "      <td>64</td>\n",
       "    </tr>\n",
       "    <tr>\n",
       "      <th>...</th>\n",
       "      <td>...</td>\n",
       "      <td>...</td>\n",
       "      <td>...</td>\n",
       "      <td>...</td>\n",
       "      <td>...</td>\n",
       "      <td>...</td>\n",
       "      <td>...</td>\n",
       "      <td>...</td>\n",
       "      <td>...</td>\n",
       "      <td>...</td>\n",
       "      <td>...</td>\n",
       "    </tr>\n",
       "    <tr>\n",
       "      <th>95</th>\n",
       "      <td>2</td>\n",
       "      <td>887</td>\n",
       "      <td>11</td>\n",
       "      <td>777</td>\n",
       "      <td>895</td>\n",
       "      <td>555</td>\n",
       "      <td>122</td>\n",
       "      <td>245</td>\n",
       "      <td>4</td>\n",
       "      <td>15</td>\n",
       "      <td>25</td>\n",
       "    </tr>\n",
       "    <tr>\n",
       "      <th>96</th>\n",
       "      <td>2</td>\n",
       "      <td>58</td>\n",
       "      <td>77</td>\n",
       "      <td>112</td>\n",
       "      <td>81</td>\n",
       "      <td>99</td>\n",
       "      <td>122</td>\n",
       "      <td>141</td>\n",
       "      <td>163</td>\n",
       "      <td>29</td>\n",
       "      <td>25</td>\n",
       "    </tr>\n",
       "    <tr>\n",
       "      <th>97</th>\n",
       "      <td>2</td>\n",
       "      <td>122</td>\n",
       "      <td>77</td>\n",
       "      <td>61</td>\n",
       "      <td>51</td>\n",
       "      <td>101</td>\n",
       "      <td>19</td>\n",
       "      <td>56</td>\n",
       "      <td>31</td>\n",
       "      <td>21</td>\n",
       "      <td>143</td>\n",
       "    </tr>\n",
       "    <tr>\n",
       "      <th>98</th>\n",
       "      <td>1</td>\n",
       "      <td>122</td>\n",
       "      <td>11</td>\n",
       "      <td>517</td>\n",
       "      <td>51</td>\n",
       "      <td>201</td>\n",
       "      <td>62</td>\n",
       "      <td>113</td>\n",
       "      <td>134</td>\n",
       "      <td>119</td>\n",
       "      <td>53</td>\n",
       "    </tr>\n",
       "    <tr>\n",
       "      <th>99</th>\n",
       "      <td>2</td>\n",
       "      <td>83</td>\n",
       "      <td>28</td>\n",
       "      <td>115</td>\n",
       "      <td>51</td>\n",
       "      <td>526</td>\n",
       "      <td>122</td>\n",
       "      <td>77</td>\n",
       "      <td>55</td>\n",
       "      <td>145</td>\n",
       "      <td>16</td>\n",
       "    </tr>\n",
       "  </tbody>\n",
       "</table>\n",
       "<p>100 rows × 11 columns</p>\n",
       "</div>"
      ],
      "text/plain": [
       "    win    1    2    3    4    5    6    7    8    9   10\n",
       "0     2  134   96  517  555   11   18   98  166  517   45\n",
       "1     2   86   20   38   99   84   22  202  126  115   79\n",
       "2     1  161  120   48   91  238   45  143   22  119   53\n",
       "3     2   81   20   25   45  145   72   12  360   45  497\n",
       "4     1  777   22  115  222   74  106  240  238  887   64\n",
       "..  ...  ...  ...  ...  ...  ...  ...  ...  ...  ...  ...\n",
       "95    2  887   11  777  895  555  122  245    4   15   25\n",
       "96    2   58   77  112   81   99  122  141  163   29   25\n",
       "97    2  122   77   61   51  101   19   56   31   21  143\n",
       "98    1  122   11  517   51  201   62  113  134  119   53\n",
       "99    2   83   28  115   51  526  122   77   55  145   16\n",
       "\n",
       "[100 rows x 11 columns]"
      ]
     },
     "execution_count": 57,
     "metadata": {},
     "output_type": "execute_result"
    }
   ],
   "source": [
    "pd.options.mode.chained_assignment = None  # default='warn' on enlève le warning\n",
    "data2[['1', '2','3','4','5']] = pd.DataFrame(data2.championId1.tolist(), index= data2.index)\n",
    "data2[['6','7','8','9','10']] = pd.DataFrame(data2.championId2.tolist(), index= data2.index)\n",
    "data2.drop(columns=[\"championId1\",\"championId2\"])"
   ]
  },
  {
   "cell_type": "code",
   "execution_count": 58,
   "id": "14fd6531-0902-497b-ac69-b97aa57bf3d8",
   "metadata": {},
   "outputs": [],
   "source": [
    "modele = RandomForestClassifier(n_estimators=200)"
   ]
  },
  {
   "cell_type": "code",
   "execution_count": 59,
   "id": "0d1ea0dd-bf3e-45d5-8091-c743f27ee717",
   "metadata": {},
   "outputs": [],
   "source": [
    "X = data2[['1', '2','3','4','5','6','7','8','9','10']]\n",
    "y = data2[\"win\"]"
   ]
  },
  {
   "cell_type": "code",
   "execution_count": 60,
   "id": "dbac5567-73d1-4aca-84d1-aa73032ac602",
   "metadata": {},
   "outputs": [],
   "source": [
    "train_X, val_X, train_y, val_y = train_test_split(X, y,train_size=0.8, test_size=0.2, random_state=1)"
   ]
  },
  {
   "cell_type": "code",
   "execution_count": 61,
   "id": "4cc1476d-e456-4d9f-a5a3-357c62f22bcc",
   "metadata": {},
   "outputs": [
    {
     "data": {
      "text/html": [
       "<div>\n",
       "<style scoped>\n",
       "    .dataframe tbody tr th:only-of-type {\n",
       "        vertical-align: middle;\n",
       "    }\n",
       "\n",
       "    .dataframe tbody tr th {\n",
       "        vertical-align: top;\n",
       "    }\n",
       "\n",
       "    .dataframe thead th {\n",
       "        text-align: right;\n",
       "    }\n",
       "</style>\n",
       "<table border=\"1\" class=\"dataframe\">\n",
       "  <thead>\n",
       "    <tr style=\"text-align: right;\">\n",
       "      <th></th>\n",
       "      <th>1</th>\n",
       "      <th>2</th>\n",
       "      <th>3</th>\n",
       "      <th>4</th>\n",
       "      <th>5</th>\n",
       "      <th>6</th>\n",
       "      <th>7</th>\n",
       "      <th>8</th>\n",
       "      <th>9</th>\n",
       "      <th>10</th>\n",
       "    </tr>\n",
       "  </thead>\n",
       "  <tbody>\n",
       "    <tr>\n",
       "      <th>2</th>\n",
       "      <td>161</td>\n",
       "      <td>120</td>\n",
       "      <td>48</td>\n",
       "      <td>91</td>\n",
       "      <td>238</td>\n",
       "      <td>45</td>\n",
       "      <td>143</td>\n",
       "      <td>22</td>\n",
       "      <td>119</td>\n",
       "      <td>53</td>\n",
       "    </tr>\n",
       "    <tr>\n",
       "      <th>73</th>\n",
       "      <td>875</td>\n",
       "      <td>77</td>\n",
       "      <td>127</td>\n",
       "      <td>145</td>\n",
       "      <td>516</td>\n",
       "      <td>84</td>\n",
       "      <td>141</td>\n",
       "      <td>238</td>\n",
       "      <td>81</td>\n",
       "      <td>40</td>\n",
       "    </tr>\n",
       "    <tr>\n",
       "      <th>97</th>\n",
       "      <td>122</td>\n",
       "      <td>77</td>\n",
       "      <td>61</td>\n",
       "      <td>51</td>\n",
       "      <td>101</td>\n",
       "      <td>19</td>\n",
       "      <td>56</td>\n",
       "      <td>31</td>\n",
       "      <td>21</td>\n",
       "      <td>143</td>\n",
       "    </tr>\n",
       "    <tr>\n",
       "      <th>62</th>\n",
       "      <td>80</td>\n",
       "      <td>64</td>\n",
       "      <td>84</td>\n",
       "      <td>51</td>\n",
       "      <td>22</td>\n",
       "      <td>887</td>\n",
       "      <td>121</td>\n",
       "      <td>54</td>\n",
       "      <td>145</td>\n",
       "      <td>555</td>\n",
       "    </tr>\n",
       "    <tr>\n",
       "      <th>19</th>\n",
       "      <td>876</td>\n",
       "      <td>200</td>\n",
       "      <td>54</td>\n",
       "      <td>360</td>\n",
       "      <td>888</td>\n",
       "      <td>122</td>\n",
       "      <td>24</td>\n",
       "      <td>112</td>\n",
       "      <td>202</td>\n",
       "      <td>117</td>\n",
       "    </tr>\n",
       "    <tr>\n",
       "      <th>...</th>\n",
       "      <td>...</td>\n",
       "      <td>...</td>\n",
       "      <td>...</td>\n",
       "      <td>...</td>\n",
       "      <td>...</td>\n",
       "      <td>...</td>\n",
       "      <td>...</td>\n",
       "      <td>...</td>\n",
       "      <td>...</td>\n",
       "      <td>...</td>\n",
       "    </tr>\n",
       "    <tr>\n",
       "      <th>75</th>\n",
       "      <td>10</td>\n",
       "      <td>131</td>\n",
       "      <td>112</td>\n",
       "      <td>236</td>\n",
       "      <td>888</td>\n",
       "      <td>41</td>\n",
       "      <td>141</td>\n",
       "      <td>238</td>\n",
       "      <td>360</td>\n",
       "      <td>267</td>\n",
       "    </tr>\n",
       "    <tr>\n",
       "      <th>9</th>\n",
       "      <td>99</td>\n",
       "      <td>51</td>\n",
       "      <td>143</td>\n",
       "      <td>517</td>\n",
       "      <td>25</td>\n",
       "      <td>80</td>\n",
       "      <td>888</td>\n",
       "      <td>84</td>\n",
       "      <td>147</td>\n",
       "      <td>37</td>\n",
       "    </tr>\n",
       "    <tr>\n",
       "      <th>72</th>\n",
       "      <td>84</td>\n",
       "      <td>48</td>\n",
       "      <td>777</td>\n",
       "      <td>18</td>\n",
       "      <td>267</td>\n",
       "      <td>82</td>\n",
       "      <td>20</td>\n",
       "      <td>105</td>\n",
       "      <td>145</td>\n",
       "      <td>40</td>\n",
       "    </tr>\n",
       "    <tr>\n",
       "      <th>12</th>\n",
       "      <td>25</td>\n",
       "      <td>29</td>\n",
       "      <td>236</td>\n",
       "      <td>45</td>\n",
       "      <td>21</td>\n",
       "      <td>203</td>\n",
       "      <td>63</td>\n",
       "      <td>33</td>\n",
       "      <td>238</td>\n",
       "      <td>43</td>\n",
       "    </tr>\n",
       "    <tr>\n",
       "      <th>37</th>\n",
       "      <td>122</td>\n",
       "      <td>60</td>\n",
       "      <td>238</td>\n",
       "      <td>51</td>\n",
       "      <td>25</td>\n",
       "      <td>420</td>\n",
       "      <td>77</td>\n",
       "      <td>69</td>\n",
       "      <td>110</td>\n",
       "      <td>37</td>\n",
       "    </tr>\n",
       "  </tbody>\n",
       "</table>\n",
       "<p>80 rows × 10 columns</p>\n",
       "</div>"
      ],
      "text/plain": [
       "      1    2    3    4    5    6    7    8    9   10\n",
       "2   161  120   48   91  238   45  143   22  119   53\n",
       "73  875   77  127  145  516   84  141  238   81   40\n",
       "97  122   77   61   51  101   19   56   31   21  143\n",
       "62   80   64   84   51   22  887  121   54  145  555\n",
       "19  876  200   54  360  888  122   24  112  202  117\n",
       "..  ...  ...  ...  ...  ...  ...  ...  ...  ...  ...\n",
       "75   10  131  112  236  888   41  141  238  360  267\n",
       "9    99   51  143  517   25   80  888   84  147   37\n",
       "72   84   48  777   18  267   82   20  105  145   40\n",
       "12   25   29  236   45   21  203   63   33  238   43\n",
       "37  122   60  238   51   25  420   77   69  110   37\n",
       "\n",
       "[80 rows x 10 columns]"
      ]
     },
     "execution_count": 61,
     "metadata": {},
     "output_type": "execute_result"
    }
   ],
   "source": [
    "train_X"
   ]
  },
  {
   "cell_type": "code",
   "execution_count": 62,
   "id": "4058361b-e767-42ff-b04a-3a90a00a900f",
   "metadata": {},
   "outputs": [
    {
     "data": {
      "text/html": [
       "<div>\n",
       "<style scoped>\n",
       "    .dataframe tbody tr th:only-of-type {\n",
       "        vertical-align: middle;\n",
       "    }\n",
       "\n",
       "    .dataframe tbody tr th {\n",
       "        vertical-align: top;\n",
       "    }\n",
       "\n",
       "    .dataframe thead th {\n",
       "        text-align: right;\n",
       "    }\n",
       "</style>\n",
       "<table border=\"1\" class=\"dataframe\">\n",
       "  <thead>\n",
       "    <tr style=\"text-align: right;\">\n",
       "      <th></th>\n",
       "      <th>1</th>\n",
       "      <th>2</th>\n",
       "      <th>3</th>\n",
       "      <th>4</th>\n",
       "      <th>5</th>\n",
       "      <th>6</th>\n",
       "      <th>7</th>\n",
       "      <th>8</th>\n",
       "      <th>9</th>\n",
       "      <th>10</th>\n",
       "    </tr>\n",
       "  </thead>\n",
       "  <tbody>\n",
       "    <tr>\n",
       "      <th>80</th>\n",
       "      <td>92</td>\n",
       "      <td>60</td>\n",
       "      <td>127</td>\n",
       "      <td>235</td>\n",
       "      <td>63</td>\n",
       "      <td>777</td>\n",
       "      <td>131</td>\n",
       "      <td>157</td>\n",
       "      <td>145</td>\n",
       "      <td>50</td>\n",
       "    </tr>\n",
       "    <tr>\n",
       "      <th>84</th>\n",
       "      <td>875</td>\n",
       "      <td>141</td>\n",
       "      <td>245</td>\n",
       "      <td>236</td>\n",
       "      <td>53</td>\n",
       "      <td>31</td>\n",
       "      <td>77</td>\n",
       "      <td>99</td>\n",
       "      <td>360</td>\n",
       "      <td>12</td>\n",
       "    </tr>\n",
       "    <tr>\n",
       "      <th>33</th>\n",
       "      <td>24</td>\n",
       "      <td>32</td>\n",
       "      <td>157</td>\n",
       "      <td>119</td>\n",
       "      <td>267</td>\n",
       "      <td>516</td>\n",
       "      <td>141</td>\n",
       "      <td>62</td>\n",
       "      <td>21</td>\n",
       "      <td>143</td>\n",
       "    </tr>\n",
       "    <tr>\n",
       "      <th>81</th>\n",
       "      <td>75</td>\n",
       "      <td>79</td>\n",
       "      <td>517</td>\n",
       "      <td>236</td>\n",
       "      <td>80</td>\n",
       "      <td>41</td>\n",
       "      <td>141</td>\n",
       "      <td>103</td>\n",
       "      <td>360</td>\n",
       "      <td>267</td>\n",
       "    </tr>\n",
       "    <tr>\n",
       "      <th>93</th>\n",
       "      <td>82</td>\n",
       "      <td>104</td>\n",
       "      <td>161</td>\n",
       "      <td>221</td>\n",
       "      <td>43</td>\n",
       "      <td>420</td>\n",
       "      <td>131</td>\n",
       "      <td>103</td>\n",
       "      <td>222</td>\n",
       "      <td>350</td>\n",
       "    </tr>\n",
       "    <tr>\n",
       "      <th>17</th>\n",
       "      <td>266</td>\n",
       "      <td>11</td>\n",
       "      <td>268</td>\n",
       "      <td>145</td>\n",
       "      <td>350</td>\n",
       "      <td>67</td>\n",
       "      <td>35</td>\n",
       "      <td>112</td>\n",
       "      <td>202</td>\n",
       "      <td>40</td>\n",
       "    </tr>\n",
       "    <tr>\n",
       "      <th>36</th>\n",
       "      <td>57</td>\n",
       "      <td>245</td>\n",
       "      <td>50</td>\n",
       "      <td>51</td>\n",
       "      <td>40</td>\n",
       "      <td>516</td>\n",
       "      <td>120</td>\n",
       "      <td>246</td>\n",
       "      <td>29</td>\n",
       "      <td>432</td>\n",
       "    </tr>\n",
       "    <tr>\n",
       "      <th>82</th>\n",
       "      <td>83</td>\n",
       "      <td>254</td>\n",
       "      <td>105</td>\n",
       "      <td>119</td>\n",
       "      <td>25</td>\n",
       "      <td>36</td>\n",
       "      <td>131</td>\n",
       "      <td>112</td>\n",
       "      <td>15</td>\n",
       "      <td>432</td>\n",
       "    </tr>\n",
       "    <tr>\n",
       "      <th>69</th>\n",
       "      <td>86</td>\n",
       "      <td>141</td>\n",
       "      <td>38</td>\n",
       "      <td>222</td>\n",
       "      <td>101</td>\n",
       "      <td>10</td>\n",
       "      <td>106</td>\n",
       "      <td>145</td>\n",
       "      <td>15</td>\n",
       "      <td>888</td>\n",
       "    </tr>\n",
       "    <tr>\n",
       "      <th>65</th>\n",
       "      <td>39</td>\n",
       "      <td>35</td>\n",
       "      <td>517</td>\n",
       "      <td>81</td>\n",
       "      <td>235</td>\n",
       "      <td>17</td>\n",
       "      <td>141</td>\n",
       "      <td>136</td>\n",
       "      <td>145</td>\n",
       "      <td>22</td>\n",
       "    </tr>\n",
       "    <tr>\n",
       "      <th>92</th>\n",
       "      <td>23</td>\n",
       "      <td>77</td>\n",
       "      <td>103</td>\n",
       "      <td>145</td>\n",
       "      <td>25</td>\n",
       "      <td>24</td>\n",
       "      <td>19</td>\n",
       "      <td>517</td>\n",
       "      <td>202</td>\n",
       "      <td>350</td>\n",
       "    </tr>\n",
       "    <tr>\n",
       "      <th>39</th>\n",
       "      <td>67</td>\n",
       "      <td>33</td>\n",
       "      <td>61</td>\n",
       "      <td>29</td>\n",
       "      <td>16</td>\n",
       "      <td>266</td>\n",
       "      <td>200</td>\n",
       "      <td>142</td>\n",
       "      <td>96</td>\n",
       "      <td>26</td>\n",
       "    </tr>\n",
       "    <tr>\n",
       "      <th>56</th>\n",
       "      <td>39</td>\n",
       "      <td>56</td>\n",
       "      <td>161</td>\n",
       "      <td>236</td>\n",
       "      <td>143</td>\n",
       "      <td>14</td>\n",
       "      <td>102</td>\n",
       "      <td>711</td>\n",
       "      <td>15</td>\n",
       "      <td>267</td>\n",
       "    </tr>\n",
       "    <tr>\n",
       "      <th>52</th>\n",
       "      <td>133</td>\n",
       "      <td>82</td>\n",
       "      <td>157</td>\n",
       "      <td>895</td>\n",
       "      <td>12</td>\n",
       "      <td>122</td>\n",
       "      <td>245</td>\n",
       "      <td>110</td>\n",
       "      <td>81</td>\n",
       "      <td>350</td>\n",
       "    </tr>\n",
       "    <tr>\n",
       "      <th>51</th>\n",
       "      <td>77</td>\n",
       "      <td>141</td>\n",
       "      <td>55</td>\n",
       "      <td>119</td>\n",
       "      <td>89</td>\n",
       "      <td>114</td>\n",
       "      <td>200</td>\n",
       "      <td>517</td>\n",
       "      <td>96</td>\n",
       "      <td>40</td>\n",
       "    </tr>\n",
       "    <tr>\n",
       "      <th>32</th>\n",
       "      <td>266</td>\n",
       "      <td>235</td>\n",
       "      <td>1</td>\n",
       "      <td>360</td>\n",
       "      <td>121</td>\n",
       "      <td>98</td>\n",
       "      <td>35</td>\n",
       "      <td>99</td>\n",
       "      <td>523</td>\n",
       "      <td>412</td>\n",
       "    </tr>\n",
       "    <tr>\n",
       "      <th>31</th>\n",
       "      <td>875</td>\n",
       "      <td>35</td>\n",
       "      <td>84</td>\n",
       "      <td>145</td>\n",
       "      <td>412</td>\n",
       "      <td>113</td>\n",
       "      <td>131</td>\n",
       "      <td>45</td>\n",
       "      <td>202</td>\n",
       "      <td>43</td>\n",
       "    </tr>\n",
       "    <tr>\n",
       "      <th>44</th>\n",
       "      <td>57</td>\n",
       "      <td>104</td>\n",
       "      <td>517</td>\n",
       "      <td>67</td>\n",
       "      <td>53</td>\n",
       "      <td>64</td>\n",
       "      <td>78</td>\n",
       "      <td>103</td>\n",
       "      <td>21</td>\n",
       "      <td>34</td>\n",
       "    </tr>\n",
       "    <tr>\n",
       "      <th>78</th>\n",
       "      <td>82</td>\n",
       "      <td>121</td>\n",
       "      <td>238</td>\n",
       "      <td>51</td>\n",
       "      <td>25</td>\n",
       "      <td>122</td>\n",
       "      <td>245</td>\n",
       "      <td>45</td>\n",
       "      <td>145</td>\n",
       "      <td>37</td>\n",
       "    </tr>\n",
       "    <tr>\n",
       "      <th>10</th>\n",
       "      <td>17</td>\n",
       "      <td>21</td>\n",
       "      <td>517</td>\n",
       "      <td>876</td>\n",
       "      <td>61</td>\n",
       "      <td>55</td>\n",
       "      <td>875</td>\n",
       "      <td>29</td>\n",
       "      <td>85</td>\n",
       "      <td>22</td>\n",
       "    </tr>\n",
       "  </tbody>\n",
       "</table>\n",
       "</div>"
      ],
      "text/plain": [
       "      1    2    3    4    5    6    7    8    9   10\n",
       "80   92   60  127  235   63  777  131  157  145   50\n",
       "84  875  141  245  236   53   31   77   99  360   12\n",
       "33   24   32  157  119  267  516  141   62   21  143\n",
       "81   75   79  517  236   80   41  141  103  360  267\n",
       "93   82  104  161  221   43  420  131  103  222  350\n",
       "17  266   11  268  145  350   67   35  112  202   40\n",
       "36   57  245   50   51   40  516  120  246   29  432\n",
       "82   83  254  105  119   25   36  131  112   15  432\n",
       "69   86  141   38  222  101   10  106  145   15  888\n",
       "65   39   35  517   81  235   17  141  136  145   22\n",
       "92   23   77  103  145   25   24   19  517  202  350\n",
       "39   67   33   61   29   16  266  200  142   96   26\n",
       "56   39   56  161  236  143   14  102  711   15  267\n",
       "52  133   82  157  895   12  122  245  110   81  350\n",
       "51   77  141   55  119   89  114  200  517   96   40\n",
       "32  266  235    1  360  121   98   35   99  523  412\n",
       "31  875   35   84  145  412  113  131   45  202   43\n",
       "44   57  104  517   67   53   64   78  103   21   34\n",
       "78   82  121  238   51   25  122  245   45  145   37\n",
       "10   17   21  517  876   61   55  875   29   85   22"
      ]
     },
     "execution_count": 62,
     "metadata": {},
     "output_type": "execute_result"
    }
   ],
   "source": [
    "val_X"
   ]
  },
  {
   "cell_type": "code",
   "execution_count": 63,
   "id": "1a13b1ef-88e0-420b-bda2-45ff553fc6f2",
   "metadata": {},
   "outputs": [
    {
     "data": {
      "text/plain": [
       "2     1\n",
       "73    2\n",
       "97    2\n",
       "62    2\n",
       "19    2\n",
       "     ..\n",
       "75    2\n",
       "9     2\n",
       "72    2\n",
       "12    2\n",
       "37    1\n",
       "Name: win, Length: 80, dtype: int64"
      ]
     },
     "execution_count": 63,
     "metadata": {},
     "output_type": "execute_result"
    }
   ],
   "source": [
    "train_y"
   ]
  },
  {
   "cell_type": "code",
   "execution_count": 64,
   "id": "ffe5f603-f1dc-45db-9302-bfd8b966ed66",
   "metadata": {},
   "outputs": [],
   "source": [
    "modele.fit(train_X,train_y) # pour entrainer le modèle\n",
    "donnees_predites = modele.predict(val_X)"
   ]
  },
  {
   "cell_type": "code",
   "execution_count": 65,
   "id": "e0c264ce-c9c2-437f-bafe-caf3589c767b",
   "metadata": {},
   "outputs": [
    {
     "data": {
      "text/plain": [
       "0.35"
      ]
     },
     "execution_count": 65,
     "metadata": {},
     "output_type": "execute_result"
    }
   ],
   "source": [
    "mean_absolute_error(val_y, donnees_predites)"
   ]
  },
  {
   "cell_type": "code",
   "execution_count": 66,
   "id": "461f48bf-e428-4d09-a41f-484b50a15b22",
   "metadata": {},
   "outputs": [
    {
     "name": "stdout",
     "output_type": "stream",
     "text": [
      "   prédictions  win\n",
      "0            2    2\n",
      "1            2    1\n",
      "2            1    2\n",
      "3            2    2\n",
      "4            2    2\n"
     ]
    }
   ],
   "source": [
    "predictions = pd.DataFrame({\"prédictions\" : donnees_predites}) # on compare en regardant les valeurs pour que ce soit plus sympa que la MAE\n",
    "val_y.reset_index(drop=True, inplace=True)\n",
    "predictions.reset_index(drop=True, inplace=True)\n",
    "comparaison = pd.concat( [predictions, val_y], axis=1)\n",
    "print(comparaison.head())"
   ]
  },
  {
   "cell_type": "markdown",
   "id": "c2000498-3d21-4867-ba85-ea6fdd676a47",
   "metadata": {},
   "source": [
    "#### On essaye d'être un peu plus précis avec de la cross-validation"
   ]
  },
  {
   "cell_type": "code",
   "execution_count": 67,
   "id": "3c9c7776-e048-477e-b0c4-62aa9e18698b",
   "metadata": {},
   "outputs": [
    {
     "name": "stdout",
     "output_type": "stream",
     "text": [
      "[0.75   0.6875 0.4375 0.4375 0.4375]\n"
     ]
    }
   ],
   "source": [
    "## cross validation\n",
    "\n",
    "scores = -1 * cross_val_score(RandomForestClassifier(n_estimators=200), train_X, train_y,cv=5, scoring='neg_mean_absolute_error')\n",
    "print(scores)"
   ]
  },
  {
   "cell_type": "code",
   "execution_count": 68,
   "id": "d8a183d2-7b63-47fa-9fcc-1093bd73193c",
   "metadata": {},
   "outputs": [
    {
     "ename": "TypeError",
     "evalue": "ForestClassifier.predict() takes 2 positional arguments but 3 were given",
     "output_type": "error",
     "traceback": [
      "\u001b[1;31m---------------------------------------------------------------------------\u001b[0m",
      "\u001b[1;31mTypeError\u001b[0m                                 Traceback (most recent call last)",
      "Cell \u001b[1;32mIn [68], line 1\u001b[0m\n\u001b[1;32m----> 1\u001b[0m pred \u001b[38;5;241m=\u001b[39m modele\u001b[38;5;241m.\u001b[39mpredict(val_X,val_y)\n",
      "\u001b[1;31mTypeError\u001b[0m: ForestClassifier.predict() takes 2 positional arguments but 3 were given"
     ]
    }
   ],
   "source": [
    "pred = modele.predict(val_X)"
   ]
  },
  {
   "cell_type": "code",
   "execution_count": 54,
   "id": "8e5ec44c-5393-489a-9791-a6df05649507",
   "metadata": {},
   "outputs": [
    {
     "ename": "TypeError",
     "evalue": "Expected sequence or array-like, got <class 'sklearn.ensemble._forest.RandomForestClassifier'>",
     "output_type": "error",
     "traceback": [
      "\u001b[1;31m---------------------------------------------------------------------------\u001b[0m",
      "\u001b[1;31mTypeError\u001b[0m                                 Traceback (most recent call last)",
      "Cell \u001b[1;32mIn [54], line 1\u001b[0m\n\u001b[1;32m----> 1\u001b[0m \u001b[38;5;28mprint\u001b[39m(mean_absolute_error(pred,val_y))\n",
      "File \u001b[1;32m~\\anaconda3\\envs\\Projet\\lib\\site-packages\\sklearn\\metrics\\_regression.py:196\u001b[0m, in \u001b[0;36mmean_absolute_error\u001b[1;34m(y_true, y_pred, sample_weight, multioutput)\u001b[0m\n\u001b[0;32m    141\u001b[0m \u001b[38;5;28;01mdef\u001b[39;00m \u001b[38;5;21mmean_absolute_error\u001b[39m(\n\u001b[0;32m    142\u001b[0m     y_true, y_pred, \u001b[38;5;241m*\u001b[39m, sample_weight\u001b[38;5;241m=\u001b[39m\u001b[38;5;28;01mNone\u001b[39;00m, multioutput\u001b[38;5;241m=\u001b[39m\u001b[38;5;124m\"\u001b[39m\u001b[38;5;124muniform_average\u001b[39m\u001b[38;5;124m\"\u001b[39m\n\u001b[0;32m    143\u001b[0m ):\n\u001b[0;32m    144\u001b[0m     \u001b[38;5;124;03m\"\"\"Mean absolute error regression loss.\u001b[39;00m\n\u001b[0;32m    145\u001b[0m \n\u001b[0;32m    146\u001b[0m \u001b[38;5;124;03m    Read more in the :ref:`User Guide <mean_absolute_error>`.\u001b[39;00m\n\u001b[1;32m   (...)\u001b[0m\n\u001b[0;32m    194\u001b[0m \u001b[38;5;124;03m    0.85...\u001b[39;00m\n\u001b[0;32m    195\u001b[0m \u001b[38;5;124;03m    \"\"\"\u001b[39;00m\n\u001b[1;32m--> 196\u001b[0m     y_type, y_true, y_pred, multioutput \u001b[38;5;241m=\u001b[39m \u001b[43m_check_reg_targets\u001b[49m\u001b[43m(\u001b[49m\n\u001b[0;32m    197\u001b[0m \u001b[43m        \u001b[49m\u001b[43my_true\u001b[49m\u001b[43m,\u001b[49m\u001b[43m \u001b[49m\u001b[43my_pred\u001b[49m\u001b[43m,\u001b[49m\u001b[43m \u001b[49m\u001b[43mmultioutput\u001b[49m\n\u001b[0;32m    198\u001b[0m \u001b[43m    \u001b[49m\u001b[43m)\u001b[49m\n\u001b[0;32m    199\u001b[0m     check_consistent_length(y_true, y_pred, sample_weight)\n\u001b[0;32m    200\u001b[0m     output_errors \u001b[38;5;241m=\u001b[39m np\u001b[38;5;241m.\u001b[39maverage(np\u001b[38;5;241m.\u001b[39mabs(y_pred \u001b[38;5;241m-\u001b[39m y_true), weights\u001b[38;5;241m=\u001b[39msample_weight, axis\u001b[38;5;241m=\u001b[39m\u001b[38;5;241m0\u001b[39m)\n",
      "File \u001b[1;32m~\\anaconda3\\envs\\Projet\\lib\\site-packages\\sklearn\\metrics\\_regression.py:100\u001b[0m, in \u001b[0;36m_check_reg_targets\u001b[1;34m(y_true, y_pred, multioutput, dtype)\u001b[0m\n\u001b[0;32m     66\u001b[0m \u001b[38;5;28;01mdef\u001b[39;00m \u001b[38;5;21m_check_reg_targets\u001b[39m(y_true, y_pred, multioutput, dtype\u001b[38;5;241m=\u001b[39m\u001b[38;5;124m\"\u001b[39m\u001b[38;5;124mnumeric\u001b[39m\u001b[38;5;124m\"\u001b[39m):\n\u001b[0;32m     67\u001b[0m     \u001b[38;5;124;03m\"\"\"Check that y_true and y_pred belong to the same regression task.\u001b[39;00m\n\u001b[0;32m     68\u001b[0m \n\u001b[0;32m     69\u001b[0m \u001b[38;5;124;03m    Parameters\u001b[39;00m\n\u001b[1;32m   (...)\u001b[0m\n\u001b[0;32m     98\u001b[0m \u001b[38;5;124;03m        correct keyword.\u001b[39;00m\n\u001b[0;32m     99\u001b[0m \u001b[38;5;124;03m    \"\"\"\u001b[39;00m\n\u001b[1;32m--> 100\u001b[0m     \u001b[43mcheck_consistent_length\u001b[49m\u001b[43m(\u001b[49m\u001b[43my_true\u001b[49m\u001b[43m,\u001b[49m\u001b[43m \u001b[49m\u001b[43my_pred\u001b[49m\u001b[43m)\u001b[49m\n\u001b[0;32m    101\u001b[0m     y_true \u001b[38;5;241m=\u001b[39m check_array(y_true, ensure_2d\u001b[38;5;241m=\u001b[39m\u001b[38;5;28;01mFalse\u001b[39;00m, dtype\u001b[38;5;241m=\u001b[39mdtype)\n\u001b[0;32m    102\u001b[0m     y_pred \u001b[38;5;241m=\u001b[39m check_array(y_pred, ensure_2d\u001b[38;5;241m=\u001b[39m\u001b[38;5;28;01mFalse\u001b[39;00m, dtype\u001b[38;5;241m=\u001b[39mdtype)\n",
      "File \u001b[1;32m~\\anaconda3\\envs\\Projet\\lib\\site-packages\\sklearn\\utils\\validation.py:384\u001b[0m, in \u001b[0;36mcheck_consistent_length\u001b[1;34m(*arrays)\u001b[0m\n\u001b[0;32m    373\u001b[0m \u001b[38;5;28;01mdef\u001b[39;00m \u001b[38;5;21mcheck_consistent_length\u001b[39m(\u001b[38;5;241m*\u001b[39marrays):\n\u001b[0;32m    374\u001b[0m     \u001b[38;5;124;03m\"\"\"Check that all arrays have consistent first dimensions.\u001b[39;00m\n\u001b[0;32m    375\u001b[0m \n\u001b[0;32m    376\u001b[0m \u001b[38;5;124;03m    Checks whether all objects in arrays have the same shape or length.\u001b[39;00m\n\u001b[1;32m   (...)\u001b[0m\n\u001b[0;32m    381\u001b[0m \u001b[38;5;124;03m        Objects that will be checked for consistent length.\u001b[39;00m\n\u001b[0;32m    382\u001b[0m \u001b[38;5;124;03m    \"\"\"\u001b[39;00m\n\u001b[1;32m--> 384\u001b[0m     lengths \u001b[38;5;241m=\u001b[39m [_num_samples(X) \u001b[38;5;28;01mfor\u001b[39;00m X \u001b[38;5;129;01min\u001b[39;00m arrays \u001b[38;5;28;01mif\u001b[39;00m X \u001b[38;5;129;01mis\u001b[39;00m \u001b[38;5;129;01mnot\u001b[39;00m \u001b[38;5;28;01mNone\u001b[39;00m]\n\u001b[0;32m    385\u001b[0m     uniques \u001b[38;5;241m=\u001b[39m np\u001b[38;5;241m.\u001b[39munique(lengths)\n\u001b[0;32m    386\u001b[0m     \u001b[38;5;28;01mif\u001b[39;00m \u001b[38;5;28mlen\u001b[39m(uniques) \u001b[38;5;241m>\u001b[39m \u001b[38;5;241m1\u001b[39m:\n",
      "File \u001b[1;32m~\\anaconda3\\envs\\Projet\\lib\\site-packages\\sklearn\\utils\\validation.py:384\u001b[0m, in \u001b[0;36m<listcomp>\u001b[1;34m(.0)\u001b[0m\n\u001b[0;32m    373\u001b[0m \u001b[38;5;28;01mdef\u001b[39;00m \u001b[38;5;21mcheck_consistent_length\u001b[39m(\u001b[38;5;241m*\u001b[39marrays):\n\u001b[0;32m    374\u001b[0m     \u001b[38;5;124;03m\"\"\"Check that all arrays have consistent first dimensions.\u001b[39;00m\n\u001b[0;32m    375\u001b[0m \n\u001b[0;32m    376\u001b[0m \u001b[38;5;124;03m    Checks whether all objects in arrays have the same shape or length.\u001b[39;00m\n\u001b[1;32m   (...)\u001b[0m\n\u001b[0;32m    381\u001b[0m \u001b[38;5;124;03m        Objects that will be checked for consistent length.\u001b[39;00m\n\u001b[0;32m    382\u001b[0m \u001b[38;5;124;03m    \"\"\"\u001b[39;00m\n\u001b[1;32m--> 384\u001b[0m     lengths \u001b[38;5;241m=\u001b[39m [\u001b[43m_num_samples\u001b[49m\u001b[43m(\u001b[49m\u001b[43mX\u001b[49m\u001b[43m)\u001b[49m \u001b[38;5;28;01mfor\u001b[39;00m X \u001b[38;5;129;01min\u001b[39;00m arrays \u001b[38;5;28;01mif\u001b[39;00m X \u001b[38;5;129;01mis\u001b[39;00m \u001b[38;5;129;01mnot\u001b[39;00m \u001b[38;5;28;01mNone\u001b[39;00m]\n\u001b[0;32m    385\u001b[0m     uniques \u001b[38;5;241m=\u001b[39m np\u001b[38;5;241m.\u001b[39munique(lengths)\n\u001b[0;32m    386\u001b[0m     \u001b[38;5;28;01mif\u001b[39;00m \u001b[38;5;28mlen\u001b[39m(uniques) \u001b[38;5;241m>\u001b[39m \u001b[38;5;241m1\u001b[39m:\n",
      "File \u001b[1;32m~\\anaconda3\\envs\\Projet\\lib\\site-packages\\sklearn\\utils\\validation.py:315\u001b[0m, in \u001b[0;36m_num_samples\u001b[1;34m(x)\u001b[0m\n\u001b[0;32m    312\u001b[0m message \u001b[38;5;241m=\u001b[39m \u001b[38;5;124m\"\u001b[39m\u001b[38;5;124mExpected sequence or array-like, got \u001b[39m\u001b[38;5;132;01m%s\u001b[39;00m\u001b[38;5;124m\"\u001b[39m \u001b[38;5;241m%\u001b[39m \u001b[38;5;28mtype\u001b[39m(x)\n\u001b[0;32m    313\u001b[0m \u001b[38;5;28;01mif\u001b[39;00m \u001b[38;5;28mhasattr\u001b[39m(x, \u001b[38;5;124m\"\u001b[39m\u001b[38;5;124mfit\u001b[39m\u001b[38;5;124m\"\u001b[39m) \u001b[38;5;129;01mand\u001b[39;00m callable(x\u001b[38;5;241m.\u001b[39mfit):\n\u001b[0;32m    314\u001b[0m     \u001b[38;5;66;03m# Don't get num_samples from an ensembles length!\u001b[39;00m\n\u001b[1;32m--> 315\u001b[0m     \u001b[38;5;28;01mraise\u001b[39;00m \u001b[38;5;167;01mTypeError\u001b[39;00m(message)\n\u001b[0;32m    317\u001b[0m \u001b[38;5;28;01mif\u001b[39;00m \u001b[38;5;129;01mnot\u001b[39;00m \u001b[38;5;28mhasattr\u001b[39m(x, \u001b[38;5;124m\"\u001b[39m\u001b[38;5;124m__len__\u001b[39m\u001b[38;5;124m\"\u001b[39m) \u001b[38;5;129;01mand\u001b[39;00m \u001b[38;5;129;01mnot\u001b[39;00m \u001b[38;5;28mhasattr\u001b[39m(x, \u001b[38;5;124m\"\u001b[39m\u001b[38;5;124mshape\u001b[39m\u001b[38;5;124m\"\u001b[39m):\n\u001b[0;32m    318\u001b[0m     \u001b[38;5;28;01mif\u001b[39;00m \u001b[38;5;28mhasattr\u001b[39m(x, \u001b[38;5;124m\"\u001b[39m\u001b[38;5;124m__array__\u001b[39m\u001b[38;5;124m\"\u001b[39m):\n",
      "\u001b[1;31mTypeError\u001b[0m: Expected sequence or array-like, got <class 'sklearn.ensemble._forest.RandomForestClassifier'>"
     ]
    }
   ],
   "source": [
    "print(mean_absolute_error(pred,val_y))"
   ]
  },
  {
   "cell_type": "markdown",
   "id": "2f28e0bf-e947-4978-8b76-49b76953ddfa",
   "metadata": {},
   "source": [
    "#### A la recherche du meilleur nombre d'arbre (résultats pas hyper concluants)"
   ]
  },
  {
   "cell_type": "code",
   "execution_count": 32,
   "id": "425e7e89-cc61-47d3-9815-0b2829efce73",
   "metadata": {},
   "outputs": [
    {
     "name": "stdout",
     "output_type": "stream",
     "text": [
      "RandomForestClassifier(n_estimators=210)\n"
     ]
    }
   ],
   "source": [
    "from sklearn.model_selection import cross_val_score\n",
    "import statistics\n",
    "\n",
    "def recherche_RFR(max,pas,min=10):\n",
    "    min_mean = 10 #recherche du min des cross évaluations, 10 au début car les moyennnes seront entre 0 et 2\n",
    "    modele=0 #initialisation du meilleur modele\n",
    "    for i in range(min,max,pas):\n",
    "        scores = -1 * cross_val_score(RandomForestClassifier(n_estimators=i), X, y,cv=5, scoring='neg_mean_absolute_error')\n",
    "        if statistics.mean(scores)< min_mean :\n",
    "            modele = RandomForestClassifier(n_estimators=i)\n",
    "            min_mean = statistics.mean(scores)\n",
    "    return (modele)\n",
    "\n",
    "best_modele = recherche_RFR(1000,100)\n",
    "print(best_modele)"
   ]
  },
  {
   "cell_type": "markdown",
   "id": "fe050346-cfcc-42f7-830d-6bc2e114dd96",
   "metadata": {},
   "source": [
    "### test rapide avec XGBoost"
   ]
  },
  {
   "cell_type": "code",
   "execution_count": 27,
   "id": "64e56828-e640-401c-90f1-8f01f6ec98ea",
   "metadata": {},
   "outputs": [],
   "source": [
    "X = data2[['1', '2','3','4','5','6','7','8','9','10']]\n",
    "y = data2[\"win\"]"
   ]
  },
  {
   "cell_type": "code",
   "execution_count": 37,
   "id": "f4e50a9c-cef3-45c9-8ade-cc8a17a49a8b",
   "metadata": {},
   "outputs": [],
   "source": [
    "train_X, val_X, train_y, val_y = train_test_split(X, y,train_size=0.8, test_size=0.2, random_state=1)"
   ]
  },
  {
   "cell_type": "code",
   "execution_count": 38,
   "id": "1a5bc140-bd68-4f61-9145-d47eb544513e",
   "metadata": {},
   "outputs": [
    {
     "ename": "ValueError",
     "evalue": "Invalid classes inferred from unique values of `y`.  Expected: [0 1], got [1 2]",
     "output_type": "error",
     "traceback": [
      "\u001b[1;31m---------------------------------------------------------------------------\u001b[0m",
      "\u001b[1;31mValueError\u001b[0m                                Traceback (most recent call last)",
      "Cell \u001b[1;32mIn [38], line 6\u001b[0m\n\u001b[0;32m      3\u001b[0m modele \u001b[38;5;241m=\u001b[39m XGBClassifier(n_estimators \u001b[38;5;241m=\u001b[39m \u001b[38;5;241m200\u001b[39m, learning_rate\u001b[38;5;241m=\u001b[39m\u001b[38;5;241m0.05\u001b[39m, n_jobs\u001b[38;5;241m=\u001b[39m\u001b[38;5;241m4\u001b[39m) \u001b[38;5;66;03m#bcp de paramètres dont n_estimators qui donne le fois que le cycle est fait = nombre de modèles dans l'ensemble\u001b[39;00m\n\u001b[0;32m      4\u001b[0m                                                                 \u001b[38;5;66;03m# voir utilisation précise learning_rate : multiplication des res de chaque modèle de l'ensemble par un petit nombre\u001b[39;00m\n\u001b[0;32m      5\u001b[0m                                                                 \u001b[38;5;66;03m#n_jobs : = au nb de coeur du PC, pour // les calculs (utile seulement si grd Dataset)\u001b[39;00m\n\u001b[1;32m----> 6\u001b[0m modele\u001b[38;5;241m.\u001b[39mfit(train_X, train_y, \n\u001b[0;32m      7\u001b[0m              early_stopping_rounds\u001b[38;5;241m=\u001b[39m\u001b[38;5;241m5\u001b[39m, \u001b[38;5;66;03m#si l'erreur se détériore sur 5 cycles on arrête le programme même si < n_estimators\u001b[39;00m\n\u001b[0;32m      8\u001b[0m              eval_set\u001b[38;5;241m=\u001b[39m[(val_X, val_y)], \u001b[38;5;66;03m#obligatoire quand early_stopping_rounds utilisé\u001b[39;00m\n\u001b[0;32m      9\u001b[0m              verbose\u001b[38;5;241m=\u001b[39m\u001b[38;5;28;01mFalse\u001b[39;00m)\n\u001b[0;32m     11\u001b[0m donnees_predites \u001b[38;5;241m=\u001b[39m modele\u001b[38;5;241m.\u001b[39mpredict(val_X)\n\u001b[0;32m     13\u001b[0m mean_absolute_error(val_y, donnees_predites)\n",
      "File \u001b[1;32m~\\anaconda3\\envs\\Projet\\lib\\site-packages\\xgboost\\core.py:575\u001b[0m, in \u001b[0;36m_deprecate_positional_args.<locals>.inner_f\u001b[1;34m(*args, **kwargs)\u001b[0m\n\u001b[0;32m    573\u001b[0m \u001b[38;5;28;01mfor\u001b[39;00m k, arg \u001b[38;5;129;01min\u001b[39;00m \u001b[38;5;28mzip\u001b[39m(sig\u001b[38;5;241m.\u001b[39mparameters, args):\n\u001b[0;32m    574\u001b[0m     kwargs[k] \u001b[38;5;241m=\u001b[39m arg\n\u001b[1;32m--> 575\u001b[0m \u001b[38;5;28;01mreturn\u001b[39;00m f(\u001b[38;5;241m*\u001b[39m\u001b[38;5;241m*\u001b[39mkwargs)\n",
      "File \u001b[1;32m~\\anaconda3\\envs\\Projet\\lib\\site-packages\\xgboost\\sklearn.py:1357\u001b[0m, in \u001b[0;36mXGBClassifier.fit\u001b[1;34m(self, X, y, sample_weight, base_margin, eval_set, eval_metric, early_stopping_rounds, verbose, xgb_model, sample_weight_eval_set, base_margin_eval_set, feature_weights, callbacks)\u001b[0m\n\u001b[0;32m   1352\u001b[0m     expected_classes \u001b[38;5;241m=\u001b[39m np\u001b[38;5;241m.\u001b[39marange(\u001b[38;5;28mself\u001b[39m\u001b[38;5;241m.\u001b[39mn_classes_)\n\u001b[0;32m   1353\u001b[0m \u001b[38;5;28;01mif\u001b[39;00m (\n\u001b[0;32m   1354\u001b[0m     \u001b[38;5;28mself\u001b[39m\u001b[38;5;241m.\u001b[39mclasses_\u001b[38;5;241m.\u001b[39mshape \u001b[38;5;241m!=\u001b[39m expected_classes\u001b[38;5;241m.\u001b[39mshape\n\u001b[0;32m   1355\u001b[0m     \u001b[38;5;129;01mor\u001b[39;00m \u001b[38;5;129;01mnot\u001b[39;00m (\u001b[38;5;28mself\u001b[39m\u001b[38;5;241m.\u001b[39mclasses_ \u001b[38;5;241m==\u001b[39m expected_classes)\u001b[38;5;241m.\u001b[39mall()\n\u001b[0;32m   1356\u001b[0m ):\n\u001b[1;32m-> 1357\u001b[0m     \u001b[38;5;28;01mraise\u001b[39;00m \u001b[38;5;167;01mValueError\u001b[39;00m(\n\u001b[0;32m   1358\u001b[0m         \u001b[38;5;124mf\u001b[39m\u001b[38;5;124m\"\u001b[39m\u001b[38;5;124mInvalid classes inferred from unique values of `y`.  \u001b[39m\u001b[38;5;124m\"\u001b[39m\n\u001b[0;32m   1359\u001b[0m         \u001b[38;5;124mf\u001b[39m\u001b[38;5;124m\"\u001b[39m\u001b[38;5;124mExpected: \u001b[39m\u001b[38;5;132;01m{\u001b[39;00mexpected_classes\u001b[38;5;132;01m}\u001b[39;00m\u001b[38;5;124m, got \u001b[39m\u001b[38;5;132;01m{\u001b[39;00m\u001b[38;5;28mself\u001b[39m\u001b[38;5;241m.\u001b[39mclasses_\u001b[38;5;132;01m}\u001b[39;00m\u001b[38;5;124m\"\u001b[39m\n\u001b[0;32m   1360\u001b[0m     )\n\u001b[0;32m   1362\u001b[0m params \u001b[38;5;241m=\u001b[39m \u001b[38;5;28mself\u001b[39m\u001b[38;5;241m.\u001b[39mget_xgb_params()\n\u001b[0;32m   1364\u001b[0m \u001b[38;5;28;01mif\u001b[39;00m callable(\u001b[38;5;28mself\u001b[39m\u001b[38;5;241m.\u001b[39mobjective):\n",
      "\u001b[1;31mValueError\u001b[0m: Invalid classes inferred from unique values of `y`.  Expected: [0 1], got [1 2]"
     ]
    }
   ],
   "source": [
    "from xgboost import XGBClassifier\n",
    "\n",
    "modele = XGBClassifier(n_estimators = 200, learning_rate=0.05, n_jobs=4) #bcp de paramètres dont n_estimators qui donne le fois que le cycle est fait = nombre de modèles dans l'ensemble\n",
    "                                                                # voir utilisation précise learning_rate : multiplication des res de chaque modèle de l'ensemble par un petit nombre\n",
    "                                                                #n_jobs : = au nb de coeur du PC, pour // les calculs (utile seulement si grd Dataset)\n",
    "modele.fit(train_X, train_y, \n",
    "             early_stopping_rounds=5, #si l'erreur se détériore sur 5 cycles on arrête le programme même si < n_estimators\n",
    "             eval_set=[(val_X, val_y)], #obligatoire quand early_stopping_rounds utilisé\n",
    "             verbose=False)\n",
    "\n",
    "donnees_predites = modele.predict(val_X)\n",
    "\n",
    "mean_absolute_error(val_y, donnees_predites)\n"
   ]
  },
  {
   "cell_type": "code",
   "execution_count": 33,
   "id": "8e0c24ee-3e48-4893-afc3-0bd74abfbc05",
   "metadata": {},
   "outputs": [
    {
     "ename": "NameError",
     "evalue": "name 'XGBClassifier' is not defined",
     "output_type": "error",
     "traceback": [
      "\u001b[1;31m---------------------------------------------------------------------------\u001b[0m",
      "\u001b[1;31mNameError\u001b[0m                                 Traceback (most recent call last)",
      "Cell \u001b[1;32mIn [33], line 1\u001b[0m\n\u001b[1;32m----> 1\u001b[0m scores \u001b[38;5;241m=\u001b[39m \u001b[38;5;241m-\u001b[39m\u001b[38;5;241m1\u001b[39m \u001b[38;5;241m*\u001b[39m cross_val_score(XGBClassifier(n_estimators \u001b[38;5;241m=\u001b[39m \u001b[38;5;241m200\u001b[39m, learning_rate\u001b[38;5;241m=\u001b[39m\u001b[38;5;241m0.05\u001b[39m, n_jobs\u001b[38;5;241m=\u001b[39m\u001b[38;5;241m4\u001b[39m), X, y,cv\u001b[38;5;241m=\u001b[39m\u001b[38;5;241m5\u001b[39m, scoring\u001b[38;5;241m=\u001b[39m\u001b[38;5;124m'\u001b[39m\u001b[38;5;124mneg_mean_absolute_error\u001b[39m\u001b[38;5;124m'\u001b[39m)\n\u001b[0;32m      2\u001b[0m \u001b[38;5;28mprint\u001b[39m(scores)\n",
      "\u001b[1;31mNameError\u001b[0m: name 'XGBClassifier' is not defined"
     ]
    }
   ],
   "source": [
    "scores = -1 * cross_val_score(XGBClassifier(n_estimators = 200, learning_rate=0.05, n_jobs=4), X, y,cv=5, scoring='neg_mean_absolute_error')\n",
    "print(scores)"
   ]
  },
  {
   "cell_type": "code",
   "execution_count": 25,
   "id": "11bd1750-69b1-4b04-a6aa-6b2bef9bc27e",
   "metadata": {},
   "outputs": [
    {
     "name": "stdout",
     "output_type": "stream",
     "text": [
      "   prédictions  win\n",
      "0     1.997136    2\n",
      "1     1.006137    1\n",
      "2     1.002926    1\n",
      "3     1.001536    1\n",
      "4     1.998437    2\n"
     ]
    }
   ],
   "source": [
    "predictions = pd.DataFrame({\"prédictions\" : donnees_predites}) # on compare en regardant les valeurs pour que ce soit plus sympa que la MAE\n",
    "val_y.reset_index(drop=True, inplace=True)\n",
    "predictions.reset_index(drop=True, inplace=True)\n",
    "comparaison = pd.concat( [predictions, val_y], axis=1)\n",
    "print(comparaison.head())"
   ]
  },
  {
   "cell_type": "code",
   "execution_count": null,
   "id": "8beaea21-3cb5-476f-9126-765547e69e88",
   "metadata": {},
   "outputs": [],
   "source": []
  }
 ],
 "metadata": {
  "kernelspec": {
   "display_name": "Python 3 (ipykernel)",
   "language": "python",
   "name": "python3"
  },
  "language_info": {
   "codemirror_mode": {
    "name": "ipython",
    "version": 3
   },
   "file_extension": ".py",
   "mimetype": "text/x-python",
   "name": "python",
   "nbconvert_exporter": "python",
   "pygments_lexer": "ipython3",
   "version": "3.10.6"
  },
  "vscode": {
   "interpreter": {
    "hash": "63e22c97e4ed8d431fc724019dffa39fd8054b2d28cf3e66fed132b173246b98"
   }
  }
 },
 "nbformat": 4,
 "nbformat_minor": 5
}
