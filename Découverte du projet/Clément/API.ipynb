{
 "cells": [
  {
   "cell_type": "code",
   "execution_count": 2,
   "id": "800bae84-b428-4d44-afef-7b71f1db8c26",
   "metadata": {},
   "outputs": [],
   "source": [
    "import requests\n",
    "import pandas as pd\n",
    "import time"
   ]
  },
  {
   "cell_type": "code",
   "execution_count": 3,
   "id": "80d37444-a0f1-4b34-9aae-0966e07345e4",
   "metadata": {},
   "outputs": [],
   "source": [
    "key = \"RGAPI-c6392c67-5223-4bd1-a76a-0fa0d8c30a7c\"\n",
    "summonerName = \"Bytaizer\"\n",
    "nb_games = 10"
   ]
  },
  {
   "cell_type": "markdown",
   "id": "184234d7-656e-45cc-b65b-9b2d55b82bfa",
   "metadata": {},
   "source": [
    "## Récup du PUUID"
   ]
  },
  {
   "cell_type": "code",
   "execution_count": 4,
   "id": "5935eae4-57c4-499e-98f4-4e5a94966ec4",
   "metadata": {},
   "outputs": [],
   "source": [
    "recup_puuid = f\"https://euw1.api.riotgames.com/lol/summoner/v4/summoners/by-name/{summonerName}?api_key={key}\"\n",
    "reponse_puuid = requests.get(recup_puuid)\n",
    "res_puuid=reponse_puuid.json()\n",
    "puuid = res_puuid[\"puuid\"]"
   ]
  },
  {
   "cell_type": "markdown",
   "id": "5acece34-b76e-4311-b015-6f0266551bec",
   "metadata": {},
   "source": [
    "## A partir du PUUID, on récup jusqu'à 100 games"
   ]
  },
  {
   "cell_type": "code",
   "execution_count": 112,
   "id": "aecaffc7-45c3-4d4e-9deb-80b985ad4ee3",
   "metadata": {},
   "outputs": [],
   "source": [
    "recup_games = f\"https://europe.api.riotgames.com/lol/match/v5/matches/by-puuid/{puuid}/ids?start=0&count={nb_games}&api_key={key}\"\n",
    "reponse_games = requests.get(recup_games)\n",
    "res_games=reponse_games.json()"
   ]
  },
  {
   "cell_type": "markdown",
   "id": "1c2bc976-4d8d-48dd-b0f4-068bcc38460b",
   "metadata": {},
   "source": [
    "## Création d'un Dataframe"
   ]
  },
  {
   "cell_type": "markdown",
   "id": "00fec13b-c6cd-4fe1-a15a-5202358cb486",
   "metadata": {},
   "source": [
    "### Fonction pour faciliter l'accession aux infos de ['info'][['participants']"
   ]
  },
  {
   "cell_type": "code",
   "execution_count": 9,
   "id": "8cb9ecb6-db7c-412c-b49a-1aa5f3ad7c91",
   "metadata": {},
   "outputs": [],
   "source": [
    "def donnees_part(data,key):\n",
    "    \"\"\" la fonction permet de récupérer des valeurs du dictionnaire ayant comme clé ['info']['participant'] par equipe\n",
    "    data est le dictionnaire des participants\"\"\"\n",
    "    L1,L2=[],[] # création de listes pours les données des team 1 et 2 (pour une des games)\n",
    "    for participant in data:\n",
    "        if len(L1) <5:# une fois la première équipe remplie, on remplie la deuxième\n",
    "            L1.append(participant[key])\n",
    "        else :\n",
    "            L2.append(participant[key])\n",
    "    return(L1,L2)\n",
    "    "
   ]
  },
  {
   "cell_type": "code",
   "execution_count": 10,
   "id": "d1fd98b2-36f2-446e-a7b9-c559cffd8139",
   "metadata": {},
   "outputs": [],
   "source": [
    "def recup_donnees_team(keys,data,dict_final):\n",
    "    \"\"\"permet de récup les données par team (de ['info']['participants']) et de les implémenter dans un dictionnaire\"\"\"\n",
    "    dict=data['info']['participants']\n",
    "    for key in keys :\n",
    "        x=donnees_part(dict,key)\n",
    "        dict_final[key+\"1\"].append(x[0])\n",
    "        dict_final[key+\"2\"].append(x[1])\n",
    "    return(dict_final)"
   ]
  },
  {
   "cell_type": "code",
   "execution_count": 94,
   "id": "ef4bf193-ad46-4fb1-9ab2-12c22f6cd61e",
   "metadata": {},
   "outputs": [],
   "source": [
    "gameDuration,gameMode,win = [],[],[]\n",
    "keys = ['championName','championId','champExperience','champLevel'] #clés des informations qu'il faut trier par équipe\n",
    "dict_final = {keys[i]+ str(a): [] for i in range(len(keys)) for a in (1, 2)} #création du dictionnaire vide pour les infos par team : [champExperience1 : [], champExperience2 : [],\n",
    "\n",
    "for games in res_games : #on parcours l'ensemble des parties de la liste\n",
    "    api_url =f\"https://europe.api.riotgames.com/lol/match/v5/matches/{games}?api_key={key}\"\n",
    "    response = requests.get(api_url)\n",
    "    data = response.json()\n",
    "    \n",
    "    dict_final=recup_donnees_team(keys,data,dict_final)\n",
    "\n",
    "    gameDuration.append(data['info']['gameDuration'])\n",
    "    gameMode.append(data['info']['gameMode'])\n",
    "    win.append(1 if data['info']['participants'][0]['win']==True else 2) #permet de savoir quelle équipe a gagné (on regarde pour le premier joueur)\n",
    "    \n",
    "dict2 = {'GameId': res_games, 'GameDuration' : gameDuration, 'gameMode': gameMode,'win':win}\n",
    "dict2.update(dict_final) #on concatène ensuite les dictionnaires\n",
    "data_info = pd.DataFrame(dict2)"
   ]
  },
  {
   "cell_type": "code",
   "execution_count": 92,
   "id": "a21984e7-5267-4952-b48e-31558223bd0e",
   "metadata": {},
   "outputs": [],
   "source": [
    "#print(data_info)"
   ]
  },
  {
   "cell_type": "code",
   "execution_count": 95,
   "id": "bfa51f87-0911-4f45-b765-685bf1cada80",
   "metadata": {},
   "outputs": [],
   "source": [
    "data_info.to_csv(\"infos_games.csv \")"
   ]
  },
  {
   "cell_type": "markdown",
   "id": "99e3552b-3a47-46f5-a654-ca354ccedc37",
   "metadata": {},
   "source": [
    "## Pagination et problèmes de quotas"
   ]
  },
  {
   "cell_type": "code",
   "execution_count": 5,
   "id": "ca7fafa3-f62b-4bb0-8acc-68082a3d5306",
   "metadata": {},
   "outputs": [],
   "source": [
    "def bcp_demandes(nb_games):\n",
    "    if nb_games >100 :\n",
    "        recup_games = f\"https://europe.api.riotgames.com/lol/match/v5/matches/by-puuid/{puuid}/ids?start=0&count={100}&api_key={key}\"\n",
    "        nb_games = nb_games - 100\n",
    "        reponse_games = requests.get(recup_games)\n",
    "        res_games=reponse_games.json()\n",
    "    if response.status_code == 429:\n",
    "        print(\"trop de demandes\")\n",
    "        time.sleep(int(reponse_games.headers[\"Retry-After\"]))\n",
    "        print(reponse_games.headers[\"Retry-After\"])\n",
    "    print(res_games)\n",
    "\n"
   ]
  },
  {
   "cell_type": "markdown",
   "id": "360d0223-e6fd-4d3d-b307-c3fe0393374f",
   "metadata": {},
   "source": [
    "### Si on demande plus de 100 games :"
   ]
  },
  {
   "cell_type": "code",
   "execution_count": 6,
   "id": "996a1b30-f1fe-4a82-b999-41362de1ed8d",
   "metadata": {},
   "outputs": [],
   "source": [
    "nb_games = 300"
   ]
  },
  {
   "cell_type": "code",
   "execution_count": 7,
   "id": "d29931e0-0f44-4fdf-b7f5-a77adc69eaa3",
   "metadata": {},
   "outputs": [],
   "source": [
    "res_games = []\n",
    "while nb_games >100:\n",
    "    recup_games = f\"https://europe.api.riotgames.com/lol/match/v5/matches/by-puuid/{puuid}/ids?start=0&count={100}&api_key={key}\"\n",
    "    reponse_games = requests.get(recup_games)\n",
    "    res_games = res_games + reponse_games.json()\n",
    "    nb_games-=100\n",
    "    \n",
    "recup_games = f\"https://europe.api.riotgames.com/lol/match/v5/matches/by-puuid/{puuid}/ids?start=0&count={nb_games}&api_key={key}\"\n",
    "reponse_games = requests.get(recup_games)\n",
    "res_games = res_games + reponse_games.json()\n",
    "#print(res_games)"
   ]
  },
  {
   "cell_type": "code",
   "execution_count": 11,
   "id": "a5e384f9-83b7-4842-becc-fb6d7dd47b6f",
   "metadata": {},
   "outputs": [
    {
     "name": "stdout",
     "output_type": "stream",
     "text": [
      "trop de demandes\n",
      "trop de demandes\n"
     ]
    }
   ],
   "source": [
    "gameDuration,gameMode,win = [],[],[]\n",
    "keys = ['championName','championId','champExperience','champLevel'] #clés des informations qu'il faut trier par équipe\n",
    "dict_final = {keys[i]+ str(a): [] for i in range(len(keys)) for a in (1, 2)} #création du dictionnaire vide pour les infos par team : [champExperience1 : [], champExperience2 : [],\n",
    "\n",
    "i=0\n",
    "\n",
    "for games in res_games : #on parcours l'ensemble des parties de la liste\n",
    "    api_url =f\"https://europe.api.riotgames.com/lol/match/v5/matches/{games}?api_key={key}\"\n",
    "    response = requests.get(api_url)\n",
    "    \n",
    "    if response.status_code == 429:\n",
    "        print(\"trop de demandes\")\n",
    "        time.sleep(int(response.headers[\"Retry-After\"])+2) # +2 car sinon le time.sleep semblait être un tout petit peu trop court\n",
    "        response = requests.get(api_url)\n",
    "    \n",
    "    data = response.json()\n",
    "    \n",
    "    dict_final=recup_donnees_team(keys,data,dict_final)\n",
    "\n",
    "    gameDuration.append(data['info']['gameDuration'])\n",
    "    gameMode.append(data['info']['gameMode'])\n",
    "    win.append(1 if data['info']['participants'][0]['win']==True else 2) #permet de savoir quelle équipe a gagné (on regarde pour le premier joueur)\n",
    "    \n",
    "dict2 = {'GameId': res_games, 'GameDuration' : gameDuration, 'gameMode': gameMode,'win':win}\n",
    "dict2.update(dict_final) #on concatène ensuite les dictionnaires\n",
    "data_info = pd.DataFrame(dict2)"
   ]
  },
  {
   "cell_type": "code",
   "execution_count": 12,
   "id": "613494fb-4821-445d-9a3d-001bcbfd7c47",
   "metadata": {},
   "outputs": [],
   "source": [
    "data_info.to_csv(\"infos_games.csv \")"
   ]
  },
  {
   "cell_type": "markdown",
   "id": "449eb098-3e1e-4c92-a8e2-eb01acc113d9",
   "metadata": {},
   "source": [
    "## Premiers essais Machine Learning (j'ai un problème de type si je récupère la même chose à partir du csv dans un autre notebook)"
   ]
  },
  {
   "cell_type": "markdown",
   "id": "2b769a83-44b5-49b1-88cc-45fdedc16309",
   "metadata": {},
   "source": [
    "#### On split les colonnes pour obtenir quelque chose de traitable"
   ]
  },
  {
   "cell_type": "code",
   "execution_count": 26,
   "id": "edd1932e-337d-48d0-8b92-b85031e0246f",
   "metadata": {},
   "outputs": [],
   "source": [
    "from sklearn.model_selection import cross_val_score\n",
    "from sklearn.ensemble import RandomForestRegressor\n",
    "from sklearn.metrics import mean_absolute_error # pour importer la fonction de la MAE\n",
    "from sklearn.model_selection import train_test_split"
   ]
  },
  {
   "cell_type": "code",
   "execution_count": 12,
   "id": "29542b56-e9a9-4627-9e4b-a9bf7edbed1c",
   "metadata": {},
   "outputs": [],
   "source": [
    "data2 = data_info[[\"championId1\",\"championId2\",\"win\"]] "
   ]
  },
  {
   "cell_type": "code",
   "execution_count": 13,
   "id": "76585a57-73df-4cd9-b7fe-e86ee0f3e093",
   "metadata": {},
   "outputs": [
    {
     "data": {
      "text/html": [
       "<div>\n",
       "<style scoped>\n",
       "    .dataframe tbody tr th:only-of-type {\n",
       "        vertical-align: middle;\n",
       "    }\n",
       "\n",
       "    .dataframe tbody tr th {\n",
       "        vertical-align: top;\n",
       "    }\n",
       "\n",
       "    .dataframe thead th {\n",
       "        text-align: right;\n",
       "    }\n",
       "</style>\n",
       "<table border=\"1\" class=\"dataframe\">\n",
       "  <thead>\n",
       "    <tr style=\"text-align: right;\">\n",
       "      <th></th>\n",
       "      <th>win</th>\n",
       "      <th>1</th>\n",
       "      <th>2</th>\n",
       "      <th>3</th>\n",
       "      <th>4</th>\n",
       "      <th>5</th>\n",
       "      <th>6</th>\n",
       "      <th>7</th>\n",
       "      <th>8</th>\n",
       "      <th>9</th>\n",
       "      <th>10</th>\n",
       "    </tr>\n",
       "  </thead>\n",
       "  <tbody>\n",
       "    <tr>\n",
       "      <th>0</th>\n",
       "      <td>2</td>\n",
       "      <td>134</td>\n",
       "      <td>96</td>\n",
       "      <td>517</td>\n",
       "      <td>555</td>\n",
       "      <td>11</td>\n",
       "      <td>18</td>\n",
       "      <td>98</td>\n",
       "      <td>166</td>\n",
       "      <td>517</td>\n",
       "      <td>45</td>\n",
       "    </tr>\n",
       "    <tr>\n",
       "      <th>1</th>\n",
       "      <td>2</td>\n",
       "      <td>86</td>\n",
       "      <td>20</td>\n",
       "      <td>38</td>\n",
       "      <td>99</td>\n",
       "      <td>84</td>\n",
       "      <td>22</td>\n",
       "      <td>202</td>\n",
       "      <td>126</td>\n",
       "      <td>115</td>\n",
       "      <td>79</td>\n",
       "    </tr>\n",
       "    <tr>\n",
       "      <th>2</th>\n",
       "      <td>1</td>\n",
       "      <td>161</td>\n",
       "      <td>120</td>\n",
       "      <td>48</td>\n",
       "      <td>91</td>\n",
       "      <td>238</td>\n",
       "      <td>45</td>\n",
       "      <td>143</td>\n",
       "      <td>22</td>\n",
       "      <td>119</td>\n",
       "      <td>53</td>\n",
       "    </tr>\n",
       "    <tr>\n",
       "      <th>3</th>\n",
       "      <td>2</td>\n",
       "      <td>81</td>\n",
       "      <td>20</td>\n",
       "      <td>25</td>\n",
       "      <td>45</td>\n",
       "      <td>145</td>\n",
       "      <td>72</td>\n",
       "      <td>12</td>\n",
       "      <td>360</td>\n",
       "      <td>45</td>\n",
       "      <td>497</td>\n",
       "    </tr>\n",
       "    <tr>\n",
       "      <th>4</th>\n",
       "      <td>1</td>\n",
       "      <td>777</td>\n",
       "      <td>22</td>\n",
       "      <td>115</td>\n",
       "      <td>222</td>\n",
       "      <td>74</td>\n",
       "      <td>106</td>\n",
       "      <td>240</td>\n",
       "      <td>238</td>\n",
       "      <td>887</td>\n",
       "      <td>64</td>\n",
       "    </tr>\n",
       "    <tr>\n",
       "      <th>...</th>\n",
       "      <td>...</td>\n",
       "      <td>...</td>\n",
       "      <td>...</td>\n",
       "      <td>...</td>\n",
       "      <td>...</td>\n",
       "      <td>...</td>\n",
       "      <td>...</td>\n",
       "      <td>...</td>\n",
       "      <td>...</td>\n",
       "      <td>...</td>\n",
       "      <td>...</td>\n",
       "    </tr>\n",
       "    <tr>\n",
       "      <th>295</th>\n",
       "      <td>2</td>\n",
       "      <td>887</td>\n",
       "      <td>11</td>\n",
       "      <td>777</td>\n",
       "      <td>895</td>\n",
       "      <td>555</td>\n",
       "      <td>122</td>\n",
       "      <td>245</td>\n",
       "      <td>4</td>\n",
       "      <td>15</td>\n",
       "      <td>25</td>\n",
       "    </tr>\n",
       "    <tr>\n",
       "      <th>296</th>\n",
       "      <td>2</td>\n",
       "      <td>58</td>\n",
       "      <td>77</td>\n",
       "      <td>112</td>\n",
       "      <td>81</td>\n",
       "      <td>99</td>\n",
       "      <td>122</td>\n",
       "      <td>141</td>\n",
       "      <td>163</td>\n",
       "      <td>29</td>\n",
       "      <td>25</td>\n",
       "    </tr>\n",
       "    <tr>\n",
       "      <th>297</th>\n",
       "      <td>2</td>\n",
       "      <td>122</td>\n",
       "      <td>77</td>\n",
       "      <td>61</td>\n",
       "      <td>51</td>\n",
       "      <td>101</td>\n",
       "      <td>19</td>\n",
       "      <td>56</td>\n",
       "      <td>31</td>\n",
       "      <td>21</td>\n",
       "      <td>143</td>\n",
       "    </tr>\n",
       "    <tr>\n",
       "      <th>298</th>\n",
       "      <td>1</td>\n",
       "      <td>122</td>\n",
       "      <td>11</td>\n",
       "      <td>517</td>\n",
       "      <td>51</td>\n",
       "      <td>201</td>\n",
       "      <td>62</td>\n",
       "      <td>113</td>\n",
       "      <td>134</td>\n",
       "      <td>119</td>\n",
       "      <td>53</td>\n",
       "    </tr>\n",
       "    <tr>\n",
       "      <th>299</th>\n",
       "      <td>2</td>\n",
       "      <td>83</td>\n",
       "      <td>28</td>\n",
       "      <td>115</td>\n",
       "      <td>51</td>\n",
       "      <td>526</td>\n",
       "      <td>122</td>\n",
       "      <td>77</td>\n",
       "      <td>55</td>\n",
       "      <td>145</td>\n",
       "      <td>16</td>\n",
       "    </tr>\n",
       "  </tbody>\n",
       "</table>\n",
       "<p>300 rows × 11 columns</p>\n",
       "</div>"
      ],
      "text/plain": [
       "     win    1    2    3    4    5    6    7    8    9   10\n",
       "0      2  134   96  517  555   11   18   98  166  517   45\n",
       "1      2   86   20   38   99   84   22  202  126  115   79\n",
       "2      1  161  120   48   91  238   45  143   22  119   53\n",
       "3      2   81   20   25   45  145   72   12  360   45  497\n",
       "4      1  777   22  115  222   74  106  240  238  887   64\n",
       "..   ...  ...  ...  ...  ...  ...  ...  ...  ...  ...  ...\n",
       "295    2  887   11  777  895  555  122  245    4   15   25\n",
       "296    2   58   77  112   81   99  122  141  163   29   25\n",
       "297    2  122   77   61   51  101   19   56   31   21  143\n",
       "298    1  122   11  517   51  201   62  113  134  119   53\n",
       "299    2   83   28  115   51  526  122   77   55  145   16\n",
       "\n",
       "[300 rows x 11 columns]"
      ]
     },
     "execution_count": 13,
     "metadata": {},
     "output_type": "execute_result"
    }
   ],
   "source": [
    "pd.options.mode.chained_assignment = None  # default='warn' on enlève le warning\n",
    "data2[['1', '2','3','4','5']] = pd.DataFrame(data2.championId1.tolist(), index= data2.index)\n",
    "data2[['6','7','8','9','10']] = pd.DataFrame(data2.championId2.tolist(), index= data2.index)\n",
    "data2.drop(columns=[\"championId1\",\"championId2\"])"
   ]
  },
  {
   "cell_type": "code",
   "execution_count": 63,
   "id": "14fd6531-0902-497b-ac69-b97aa57bf3d8",
   "metadata": {},
   "outputs": [],
   "source": [
    "modele = RandomForestRegressor(n_estimators=200)"
   ]
  },
  {
   "cell_type": "code",
   "execution_count": 18,
   "id": "0d1ea0dd-bf3e-45d5-8091-c743f27ee717",
   "metadata": {},
   "outputs": [],
   "source": [
    "X = data2[['1', '2','3','4','5','6','7','8','9','10']]\n",
    "y = data2[\"win\"]"
   ]
  },
  {
   "cell_type": "code",
   "execution_count": 19,
   "id": "dbac5567-73d1-4aca-84d1-aa73032ac602",
   "metadata": {},
   "outputs": [],
   "source": [
    "train_X, val_X, train_y, val_y = train_test_split(X, y,train_size=0.8, test_size=0.2, random_state=1)"
   ]
  },
  {
   "cell_type": "code",
   "execution_count": 81,
   "id": "ffe5f603-f1dc-45db-9302-bfd8b966ed66",
   "metadata": {},
   "outputs": [],
   "source": [
    "modele.fit(train_X,train_y) # pour entrainer le modèle\n",
    "donnees_predites = modele.predict(val_X)"
   ]
  },
  {
   "cell_type": "code",
   "execution_count": null,
   "id": "e0c264ce-c9c2-437f-bafe-caf3589c767b",
   "metadata": {},
   "outputs": [
    {
     "data": {
      "text/plain": [
       "0.10616666666666666"
      ]
     },
     "execution_count": 82,
     "metadata": {},
     "output_type": "execute_result"
    }
   ],
   "source": [
    "mean_absolute_error(val_y, donnees_predites)"
   ]
  },
  {
   "cell_type": "code",
   "execution_count": 100,
   "id": "461f48bf-e428-4d09-a41f-484b50a15b22",
   "metadata": {},
   "outputs": [
    {
     "name": "stdout",
     "output_type": "stream",
     "text": [
      "   prédictions  win\n",
      "0        1.940    2\n",
      "1        1.120    1\n",
      "2        1.160    1\n",
      "3        1.095    1\n",
      "4        1.945    2\n"
     ]
    }
   ],
   "source": [
    "predictions = pd.DataFrame({\"prédictions\" : donnees_predites}) # on compare en regardant les valeurs pour que ce soit plus sympa que la MAE\n",
    "val_y.reset_index(drop=True, inplace=True)\n",
    "predictions.reset_index(drop=True, inplace=True)\n",
    "comparaison = pd.concat( [predictions, val_y], axis=1)\n",
    "print(comparaison.head())"
   ]
  },
  {
   "cell_type": "markdown",
   "id": "c2000498-3d21-4867-ba85-ea6fdd676a47",
   "metadata": {},
   "source": [
    "#### On essaye d'être un peu plus précis avec de la cross-validation"
   ]
  },
  {
   "cell_type": "code",
   "execution_count": 102,
   "id": "3c9c7776-e048-477e-b0c4-62aa9e18698b",
   "metadata": {},
   "outputs": [
    {
     "name": "stdout",
     "output_type": "stream",
     "text": [
      "[0.06308333 0.06158333 0.06383333 0.06783333 0.06233333]\n"
     ]
    }
   ],
   "source": [
    "## cross validation\n",
    "\n",
    "scores = -1 * cross_val_score(RandomForestRegressor(n_estimators=200), X, y,cv=5, scoring='neg_mean_absolute_error')\n",
    "print(scores)"
   ]
  },
  {
   "cell_type": "markdown",
   "id": "2f28e0bf-e947-4978-8b76-49b76953ddfa",
   "metadata": {},
   "source": [
    "#### A la recherche du meilleur nombre d'arbre (résultats pas hyper concluants)"
   ]
  },
  {
   "cell_type": "code",
   "execution_count": 20,
   "id": "425e7e89-cc61-47d3-9815-0b2829efce73",
   "metadata": {},
   "outputs": [
    {
     "name": "stderr",
     "output_type": "stream",
     "text": [
      "\n",
      "KeyboardInterrupt\n",
      "\n"
     ]
    }
   ],
   "source": [
    "from sklearn.model_selection import cross_val_score\n",
    "import statistics\n",
    "\n",
    "def recherche_RFR(max,pas,min=10):\n",
    "    min_mean = 10 #recherche du min des cross évaluations, 10 au début car les moyennnes seront entre 0 et 2\n",
    "    modele=0 #initialisation du meilleur modele\n",
    "    for i in range(min,max,pas):\n",
    "        scores = -1 * cross_val_score(RandomForestRegressor(n_estimators=i), X, y,cv=5, scoring='neg_mean_absolute_error')\n",
    "        if statistics.mean(scores)< min_mean :\n",
    "            modele = RandomForestRegressor(n_estimators=i)\n",
    "            min_mean = statistics.mean(scores)\n",
    "    return (modele)\n",
    "\n",
    "best_modele = recherche_RFR(1000,100)\n",
    "print(best_modele)"
   ]
  },
  {
   "cell_type": "markdown",
   "id": "fe050346-cfcc-42f7-830d-6bc2e114dd96",
   "metadata": {},
   "source": [
    "### test rapide avec XGBoost"
   ]
  },
  {
   "cell_type": "code",
   "execution_count": 27,
   "id": "64e56828-e640-401c-90f1-8f01f6ec98ea",
   "metadata": {},
   "outputs": [],
   "source": [
    "X = data2[['1', '2','3','4','5','6','7','8','9','10']]\n",
    "y = data2[\"win\"]"
   ]
  },
  {
   "cell_type": "code",
   "execution_count": 28,
   "id": "f4e50a9c-cef3-45c9-8ade-cc8a17a49a8b",
   "metadata": {},
   "outputs": [],
   "source": [
    "train_X, val_X, train_y, val_y = train_test_split(X, y,train_size=0.8, test_size=0.2, random_state=1)"
   ]
  },
  {
   "cell_type": "code",
   "execution_count": 29,
   "id": "1a5bc140-bd68-4f61-9145-d47eb544513e",
   "metadata": {},
   "outputs": [
    {
     "name": "stderr",
     "output_type": "stream",
     "text": [
      "C:\\Users\\maila\\anaconda3\\envs\\Projet\\lib\\site-packages\\xgboost\\sklearn.py:793: UserWarning: `early_stopping_rounds` in `fit` method is deprecated for better compatibility with scikit-learn, use `early_stopping_rounds` in constructor or`set_params` instead.\n",
      "  warnings.warn(\n"
     ]
    },
    {
     "data": {
      "text/plain": [
       "0.004452734192212423"
      ]
     },
     "execution_count": 29,
     "metadata": {},
     "output_type": "execute_result"
    }
   ],
   "source": [
    "from xgboost import XGBRegressor\n",
    "\n",
    "modele = XGBRegressor(n_estimators = 200, learning_rate=0.05, n_jobs=4) #bcp de paramètres dont n_estimators qui donne le fois que le cycle est fait = nombre de modèles dans l'ensemble\n",
    "                                                                # voir utilisation précise learning_rate : multiplication des res de chaque modèle de l'ensemble par un petit nombre\n",
    "                                                                #n_jobs : = au nb de coeur du PC, pour // les calculs (utile seulement si grd Dataset)\n",
    "modele.fit(train_X, train_y, \n",
    "             early_stopping_rounds=5, #si l'erreur se détériore sur 5 cycles on arrête le programme même si < n_estimators\n",
    "             eval_set=[(val_X, val_y)], #obligatoire quand early_stopping_rounds utilisé\n",
    "             verbose=False)\n",
    "\n",
    "donnees_predites = modele.predict(val_X)\n",
    "\n",
    "mean_absolute_error(val_y, donnees_predites)\n"
   ]
  },
  {
   "cell_type": "code",
   "execution_count": 30,
   "id": "8e0c24ee-3e48-4893-afc3-0bd74abfbc05",
   "metadata": {},
   "outputs": [
    {
     "name": "stdout",
     "output_type": "stream",
     "text": [
      "[0.00108672 0.00145781 0.00132565 0.00221002 0.00125324]\n"
     ]
    }
   ],
   "source": [
    "scores = -1 * cross_val_score(XGBRegressor(n_estimators = 200, learning_rate=0.05, n_jobs=4), X, y,cv=5, scoring='neg_mean_absolute_error')\n",
    "print(scores)"
   ]
  },
  {
   "cell_type": "code",
   "execution_count": 25,
   "id": "11bd1750-69b1-4b04-a6aa-6b2bef9bc27e",
   "metadata": {},
   "outputs": [
    {
     "name": "stdout",
     "output_type": "stream",
     "text": [
      "   prédictions  win\n",
      "0     1.997136    2\n",
      "1     1.006137    1\n",
      "2     1.002926    1\n",
      "3     1.001536    1\n",
      "4     1.998437    2\n"
     ]
    }
   ],
   "source": [
    "predictions = pd.DataFrame({\"prédictions\" : donnees_predites}) # on compare en regardant les valeurs pour que ce soit plus sympa que la MAE\n",
    "val_y.reset_index(drop=True, inplace=True)\n",
    "predictions.reset_index(drop=True, inplace=True)\n",
    "comparaison = pd.concat( [predictions, val_y], axis=1)\n",
    "print(comparaison.head())"
   ]
  },
  {
   "cell_type": "code",
   "execution_count": null,
   "id": "8beaea21-3cb5-476f-9126-765547e69e88",
   "metadata": {},
   "outputs": [],
   "source": []
  }
 ],
 "metadata": {
  "kernelspec": {
   "display_name": "Python 3 (ipykernel)",
   "language": "python",
   "name": "python3"
  },
  "language_info": {
   "codemirror_mode": {
    "name": "ipython",
    "version": 3
   },
   "file_extension": ".py",
   "mimetype": "text/x-python",
   "name": "python",
   "nbconvert_exporter": "python",
   "pygments_lexer": "ipython3",
   "version": "3.10.6"
  },
  "vscode": {
   "interpreter": {
    "hash": "63e22c97e4ed8d431fc724019dffa39fd8054b2d28cf3e66fed132b173246b98"
   }
  }
 },
 "nbformat": 4,
 "nbformat_minor": 5
}
