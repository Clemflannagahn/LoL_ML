{
 "cells": [
  {
   "cell_type": "markdown",
   "id": "83e3a70d-efe5-4913-9519-3383280606a9",
   "metadata": {},
   "source": [
    "## Commandes de base"
   ]
  },
  {
   "cell_type": "code",
   "execution_count": null,
   "id": "64b16e36-3ad2-4885-9e15-9445672e2a86",
   "metadata": {},
   "outputs": [],
   "source": [
    "import pandas as pd\n",
    "pd.read_csv # pour ouvrir un excel\n",
    "data.describe() #affiche un résumé\n",
    "data.columns #pour obtenir la liste des colonnes du DataFrames\n",
    "# Prediction Target : colomne que l'on voudra prédire\n",
    "# Features : colomnes que l'on va utiliser pour la prédiction\n",
    "data.head() # affiche les premières lignes"
   ]
  },
  {
   "cell_type": "markdown",
   "id": "3706b341-c4e4-4ad5-be3a-2a7ae4ef7b74",
   "metadata": {},
   "source": [
    "## scikit-learn bases"
   ]
  },
  {
   "cell_type": "code",
   "execution_count": null,
   "id": "3bf00a2a-18d1-4feb-bd7d-6b00e7b5b5f5",
   "metadata": {},
   "outputs": [],
   "source": [
    "from sklearn.tree import DecisionTreeRegressor\n",
    "\n",
    "modele = DecisionTreeRegressor(max_leaf_nodes=z,random_state=1) # un exemple de modèle, max_leaf_nodes permet de gérer la profondeur de l'arbre pour \n",
    "                                                                # gérer l'underfitting ou l'overfitting par tests successifs \n",
    "y=data.Nom_Colomne\n",
    "X = data[[liste colomnes]]\n",
    "\n",
    "modele.fit(X,y) # pour entrainer le modèle\n",
    "model.predict(données) # on prédit la colomne y pour des lignes ayant \"données\" comme X"
   ]
  },
  {
   "cell_type": "markdown",
   "id": "4232601e-6c0c-4192-b861-e67528559e91",
   "metadata": {},
   "source": [
    "#### MAE"
   ]
  },
  {
   "cell_type": "code",
   "execution_count": null,
   "id": "9ea4b8e2-9114-4ba8-9f40-bf84bd9cc4aa",
   "metadata": {},
   "outputs": [],
   "source": [
    "from sklearn.metrics import mean_absolute_error # pour importer la fonction de la MAE\n",
    "mean_absolute_error(données_réelles, données_prédites) # donne la valeur absolue"
   ]
  }
 ],
 "metadata": {
  "kernelspec": {
   "display_name": "Python 3.10.6 ('Projet')",
   "language": "python",
   "name": "python3"
  },
  "language_info": {
   "codemirror_mode": {
    "name": "ipython",
    "version": 3
   },
   "file_extension": ".py",
   "mimetype": "text/x-python",
   "name": "python",
   "nbconvert_exporter": "python",
   "pygments_lexer": "ipython3",
   "version": "3.10.6"
  },
  "vscode": {
   "interpreter": {
    "hash": "63e22c97e4ed8d431fc724019dffa39fd8054b2d28cf3e66fed132b173246b98"
   }
  }
 },
 "nbformat": 4,
 "nbformat_minor": 5
}
