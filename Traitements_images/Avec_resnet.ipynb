{
 "cells": [
  {
   "attachments": {},
   "cell_type": "markdown",
   "metadata": {},
   "source": [
    "# Transfert Learning avec ResNet50"
   ]
  },
  {
   "cell_type": "code",
   "execution_count": 1,
   "metadata": {},
   "outputs": [],
   "source": [
    "import os\n",
    "import cv2 \n",
    "import numpy as np\n",
    "import matplotlib.pyplot as plt\n",
    "from sklearn.utils import shuffle\n",
    "from sklearn.model_selection import train_test_split"
   ]
  },
  {
   "cell_type": "code",
   "execution_count": 2,
   "metadata": {},
   "outputs": [
    {
     "name": "stderr",
     "output_type": "stream",
     "text": [
      "2023-02-17 17:00:22.066898: I tensorflow/core/platform/cpu_feature_guard.cc:193] This TensorFlow binary is optimized with oneAPI Deep Neural Network Library (oneDNN) to use the following CPU instructions in performance-critical operations:  AVX2 FMA\n",
      "To enable them in other operations, rebuild TensorFlow with the appropriate compiler flags.\n"
     ]
    }
   ],
   "source": [
    "from keras.utils import np_utils\n",
    "from keras.models import Sequential\n",
    "from keras.layers.core import Dense, Dropout, Activation, Flatten\n",
    "from keras.layers.convolutional import Conv2D, MaxPooling2D\n",
    "from keras.optimizers import SGD, RMSprop, Adam, Adadelta\n",
    "from keras.utils.np_utils import to_categorical"
   ]
  },
  {
   "attachments": {},
   "cell_type": "markdown",
   "metadata": {},
   "source": [
    "> Charger les images et assigner les labels (ne pas relancer)"
   ]
  },
  {
   "cell_type": "code",
   "execution_count": 3,
   "metadata": {},
   "outputs": [],
   "source": [
    "from sklearn import preprocessing"
   ]
  },
  {
   "cell_type": "code",
   "execution_count": null,
   "metadata": {},
   "outputs": [],
   "source": [
    "nom_champions_gen = os.listdir('./images_draft')\n",
    "noms_champions_gen_modif = [nom_champions_gen[x][:-6] for x in range(len(nom_champions_gen))]\n",
    "# Enlever .DS\n",
    "noms_champions_gen_modif = [x for x in noms_champions_gen_modif if x != '.DS']\n",
    "print(noms_champions_gen_modif)\n",
    "for champion in noms_champions_gen_modif:\n",
    "    print(champion)\n",
    "   # Create a folder for each champion and move the unique image of the champion in it\n",
    "#    os.mkdir('./images_draft/'+champion)\n",
    "\n",
    "       \n"
   ]
  },
  {
   "cell_type": "code",
   "execution_count": null,
   "metadata": {},
   "outputs": [],
   "source": [
    "# Move in each folder the file 'the picture\n",
    "print(noms_champions_gen_modif)\n",
    "for champion in noms_champions_gen_modif:\n",
    "    print(champion)\n",
    "    os.rename('./images_draft/'+champion+'_0.jpg', './images_draft/'+champion+'/'+champion+'_0.jpg')"
   ]
  },
  {
   "cell_type": "code",
   "execution_count": 74,
   "metadata": {},
   "outputs": [],
   "source": [
    "# For each folder in the folder images_draft, create duplicates in order to have 5 pictures per champion\n",
    "for champion in noms_champions_gen_modif:\n",
    "    for i in range(6, 11):\n",
    "        # We don't use rename because we want to keep the original picture\n",
    "        os.system('cp ./images_draft/'+champion+'/'+champion+'_0.jpg ./images_draft/'+champion+'/'+champion+'_'+str(i)+'.jpg')\n",
    "            \n"
   ]
  },
  {
   "attachments": {},
   "cell_type": "markdown",
   "metadata": {},
   "source": [
    "Modèle effectif"
   ]
  },
  {
   "cell_type": "code",
   "execution_count": 25,
   "metadata": {},
   "outputs": [
    {
     "name": "stdout",
     "output_type": "stream",
     "text": [
      "['LeeSin', 'Rakan', 'Diana', 'Vayne', 'MasterYi', 'Nilah', 'Sion', 'Zed', 'Talon', 'Akshan', 'Zoe', 'Akali', 'Bard', 'Riven', 'Vi', 'Ashe', 'Syndra', 'Rell', 'Gragas', 'Darius', 'Malzahar', 'Soraka', 'Gwen', 'Graves', 'Qiyana', 'Azir', 'Viego', 'Ahri', 'Kayle', 'Veigar', 'Rammus', 'FiddleSticks', 'Morgana', 'TahmKench', 'Lillia', 'Jinx', 'Thresh', 'Warwick', 'Nasus', 'Fiora', 'Ziggs', 'Nautilus', 'Yasuo', 'Khazix', 'Sylas', 'Ivern', 'Kaisa', 'Shyvana', 'Nami', 'Orianna', 'Ezreal', 'Malphite', 'Mordekaiser', 'Brand', 'Leona', 'Shaco', 'Ryze', 'Nocturne', 'Rengar', 'Kled', 'Senna', 'Varus', 'Jhin', 'Singed', 'MonkeyKing', 'Aatrox', 'Vladimir', 'Belveth', 'Heimerdinger', 'Zilean', 'Skarner', 'Yuumi', 'Samira', 'Lissandra', 'Pantheon', 'Caitlyn', 'Braum', 'Kennen', 'Zac', 'Illaoi', 'Sona', 'Tristana', 'DrMundo', 'Seraphine', 'Viktor', 'Ornn', 'Cassiopeia', 'Garen', 'Yorick', 'Maokai', 'Sivir', 'Zeri', 'Tryndamere', 'Karma', 'Renata', 'Kassadin', 'Katarina', 'Vex', 'Corki', 'Amumu', 'Poppy', 'Trundle', 'Gangplank', 'Elise', 'MissFortune', 'Blitzcrank', 'JarvanIV', 'Quinn', 'Pyke', 'Camille', 'Janna', 'Lucian', 'Teemo', 'Sett', 'Urgot', 'Olaf', 'Gnar', 'Alistar', 'KogMaw', 'Zyra', 'AurelionSol', 'Sejuani', 'Taric', 'Evelynn', 'KSante', 'Kalista', 'Chogath', 'Galio', 'Jayce', 'Rumble', 'Yone', 'Aphelios', 'TwistedFate', 'Anivia', 'Swain', 'XinZhao', 'Ekko', 'Kayn', 'Shen', 'Taliyah', 'RekSai', 'Irelia', 'Nidalee', 'Neeko', 'Xerath', 'Jax', 'Renekton', 'Karthus', 'Twitch', 'Draven', 'Udyr', 'Lulu', 'Hecarim', 'Volibear', 'Velkoz', 'Lux', 'Nunu', 'Leblanc', 'Xayah', 'Fizz', 'Annie', 'Kindred']\n",
      "162\n"
     ]
    }
   ],
   "source": [
    "data_path = \"./images_draft\"\n",
    "data_dir_list = os.listdir(data_path)\n",
    "for x in data_dir_list:\n",
    "    if x == '.DS_Store':\n",
    "        data_dir_list.remove(x)\n",
    "print(data_dir_list)\n",
    "num_classes = len(data_dir_list) \n",
    "print(num_classes)"
   ]
  },
  {
   "cell_type": "code",
   "execution_count": 65,
   "metadata": {},
   "outputs": [],
   "source": [
    "img_rows=224\n",
    "img_cols=224"
   ]
  },
  {
   "cell_type": "code",
   "execution_count": 66,
   "metadata": {},
   "outputs": [],
   "source": [
    "num_channel=3"
   ]
  },
  {
   "cell_type": "code",
   "execution_count": 71,
   "metadata": {},
   "outputs": [
    {
     "name": "stdout",
     "output_type": "stream",
     "text": [
      "Loaded the images of dataset-LeeSin\n",
      "\n",
      "Loaded the images of dataset-Rakan\n",
      "\n",
      "Loaded the images of dataset-Diana\n",
      "\n",
      "Loaded the images of dataset-Vayne\n",
      "\n",
      "Loaded the images of dataset-MasterYi\n",
      "\n",
      "Loaded the images of dataset-Nilah\n",
      "\n",
      "Loaded the images of dataset-Sion\n",
      "\n",
      "Loaded the images of dataset-Zed\n",
      "\n",
      "Loaded the images of dataset-Talon\n",
      "\n",
      "Loaded the images of dataset-Akshan\n",
      "\n",
      "Loaded the images of dataset-Zoe\n",
      "\n",
      "Loaded the images of dataset-Akali\n",
      "\n",
      "Loaded the images of dataset-Bard\n",
      "\n",
      "Loaded the images of dataset-Riven\n",
      "\n",
      "Loaded the images of dataset-Vi\n",
      "\n",
      "Loaded the images of dataset-Ashe\n",
      "\n",
      "Loaded the images of dataset-Syndra\n",
      "\n",
      "Loaded the images of dataset-Rell\n",
      "\n",
      "Loaded the images of dataset-Gragas\n",
      "\n",
      "Loaded the images of dataset-Darius\n",
      "\n",
      "Loaded the images of dataset-Malzahar\n",
      "\n",
      "Loaded the images of dataset-Soraka\n",
      "\n",
      "Loaded the images of dataset-Gwen\n",
      "\n",
      "Loaded the images of dataset-Graves\n",
      "\n",
      "Loaded the images of dataset-Qiyana\n",
      "\n",
      "Loaded the images of dataset-Azir\n",
      "\n",
      "Loaded the images of dataset-Viego\n",
      "\n",
      "Loaded the images of dataset-Ahri\n",
      "\n",
      "Loaded the images of dataset-Kayle\n",
      "\n",
      "Loaded the images of dataset-Veigar\n",
      "\n",
      "Loaded the images of dataset-Rammus\n",
      "\n",
      "Loaded the images of dataset-FiddleSticks\n",
      "\n",
      "Loaded the images of dataset-Morgana\n",
      "\n",
      "Loaded the images of dataset-TahmKench\n",
      "\n",
      "Loaded the images of dataset-Lillia\n",
      "\n",
      "Loaded the images of dataset-Jinx\n",
      "\n",
      "Loaded the images of dataset-Thresh\n",
      "\n",
      "Loaded the images of dataset-Warwick\n",
      "\n",
      "Loaded the images of dataset-Nasus\n",
      "\n",
      "Loaded the images of dataset-Fiora\n",
      "\n",
      "Loaded the images of dataset-Ziggs\n",
      "\n",
      "Loaded the images of dataset-Nautilus\n",
      "\n",
      "Loaded the images of dataset-Yasuo\n",
      "\n",
      "Loaded the images of dataset-Khazix\n",
      "\n",
      "Loaded the images of dataset-Sylas\n",
      "\n",
      "Loaded the images of dataset-Ivern\n",
      "\n",
      "Loaded the images of dataset-Kaisa\n",
      "\n",
      "Loaded the images of dataset-Shyvana\n",
      "\n",
      "Loaded the images of dataset-Nami\n",
      "\n",
      "Loaded the images of dataset-Orianna\n",
      "\n",
      "Loaded the images of dataset-Ezreal\n",
      "\n",
      "Loaded the images of dataset-Malphite\n",
      "\n",
      "Loaded the images of dataset-Mordekaiser\n",
      "\n",
      "Loaded the images of dataset-Brand\n",
      "\n",
      "Loaded the images of dataset-Leona\n",
      "\n",
      "Loaded the images of dataset-Shaco\n",
      "\n",
      "Loaded the images of dataset-Ryze\n",
      "\n",
      "Loaded the images of dataset-Nocturne\n",
      "\n",
      "Loaded the images of dataset-Rengar\n",
      "\n",
      "Loaded the images of dataset-Kled\n",
      "\n",
      "Loaded the images of dataset-Senna\n",
      "\n",
      "Loaded the images of dataset-Varus\n",
      "\n",
      "Loaded the images of dataset-Jhin\n",
      "\n",
      "Loaded the images of dataset-Singed\n",
      "\n",
      "Loaded the images of dataset-MonkeyKing\n",
      "\n",
      "Loaded the images of dataset-Aatrox\n",
      "\n",
      "Loaded the images of dataset-Vladimir\n",
      "\n",
      "Loaded the images of dataset-Belveth\n",
      "\n",
      "Loaded the images of dataset-Heimerdinger\n",
      "\n",
      "Loaded the images of dataset-Zilean\n",
      "\n",
      "Loaded the images of dataset-Skarner\n",
      "\n",
      "Loaded the images of dataset-Yuumi\n",
      "\n",
      "Loaded the images of dataset-Samira\n",
      "\n",
      "Loaded the images of dataset-Lissandra\n",
      "\n",
      "Loaded the images of dataset-Pantheon\n",
      "\n",
      "Loaded the images of dataset-Caitlyn\n",
      "\n",
      "Loaded the images of dataset-Braum\n",
      "\n",
      "Loaded the images of dataset-Kennen\n",
      "\n",
      "Loaded the images of dataset-Zac\n",
      "\n",
      "Loaded the images of dataset-Illaoi\n",
      "\n",
      "Loaded the images of dataset-Sona\n",
      "\n",
      "Loaded the images of dataset-Tristana\n",
      "\n",
      "Loaded the images of dataset-DrMundo\n",
      "\n",
      "Loaded the images of dataset-Seraphine\n",
      "\n",
      "Loaded the images of dataset-Viktor\n",
      "\n",
      "Loaded the images of dataset-Ornn\n",
      "\n",
      "Loaded the images of dataset-Cassiopeia\n",
      "\n",
      "Loaded the images of dataset-Garen\n",
      "\n",
      "Loaded the images of dataset-Yorick\n",
      "\n",
      "Loaded the images of dataset-Maokai\n",
      "\n",
      "Loaded the images of dataset-Sivir\n",
      "\n",
      "Loaded the images of dataset-Zeri\n",
      "\n",
      "Loaded the images of dataset-Tryndamere\n",
      "\n",
      "Loaded the images of dataset-Karma\n",
      "\n",
      "Loaded the images of dataset-Renata\n",
      "\n",
      "Loaded the images of dataset-Kassadin\n",
      "\n",
      "Loaded the images of dataset-Katarina\n",
      "\n",
      "Loaded the images of dataset-Vex\n",
      "\n",
      "Loaded the images of dataset-Corki\n",
      "\n",
      "Loaded the images of dataset-Amumu\n",
      "\n",
      "Loaded the images of dataset-Poppy\n",
      "\n",
      "Loaded the images of dataset-Trundle\n",
      "\n",
      "Loaded the images of dataset-Gangplank\n",
      "\n",
      "Loaded the images of dataset-Elise\n",
      "\n",
      "Loaded the images of dataset-MissFortune\n",
      "\n",
      "Loaded the images of dataset-Blitzcrank\n",
      "\n",
      "Loaded the images of dataset-JarvanIV\n",
      "\n",
      "Loaded the images of dataset-Quinn\n",
      "\n",
      "Loaded the images of dataset-Pyke\n",
      "\n",
      "Loaded the images of dataset-Camille\n",
      "\n",
      "Loaded the images of dataset-Janna\n",
      "\n",
      "Loaded the images of dataset-Lucian\n",
      "\n",
      "Loaded the images of dataset-Teemo\n",
      "\n",
      "Loaded the images of dataset-Sett\n",
      "\n",
      "Loaded the images of dataset-Urgot\n",
      "\n",
      "Loaded the images of dataset-Olaf\n",
      "\n",
      "Loaded the images of dataset-Gnar\n",
      "\n",
      "Loaded the images of dataset-Alistar\n",
      "\n",
      "Loaded the images of dataset-KogMaw\n",
      "\n",
      "Loaded the images of dataset-Zyra\n",
      "\n",
      "Loaded the images of dataset-AurelionSol\n",
      "\n",
      "Loaded the images of dataset-Sejuani\n",
      "\n",
      "Loaded the images of dataset-Taric\n",
      "\n",
      "Loaded the images of dataset-Evelynn\n",
      "\n",
      "Loaded the images of dataset-KSante\n",
      "\n",
      "Loaded the images of dataset-Kalista\n",
      "\n",
      "Loaded the images of dataset-Chogath\n",
      "\n",
      "Loaded the images of dataset-Galio\n",
      "\n",
      "Loaded the images of dataset-Jayce\n",
      "\n",
      "Loaded the images of dataset-Rumble\n",
      "\n",
      "Loaded the images of dataset-Yone\n",
      "\n",
      "Loaded the images of dataset-Aphelios\n",
      "\n",
      "Loaded the images of dataset-TwistedFate\n",
      "\n",
      "Loaded the images of dataset-Anivia\n",
      "\n",
      "Loaded the images of dataset-Swain\n",
      "\n",
      "Loaded the images of dataset-XinZhao\n",
      "\n",
      "Loaded the images of dataset-Ekko\n",
      "\n",
      "Loaded the images of dataset-Kayn\n",
      "\n",
      "Loaded the images of dataset-Shen\n",
      "\n",
      "Loaded the images of dataset-Taliyah\n",
      "\n",
      "Loaded the images of dataset-RekSai\n",
      "\n",
      "Loaded the images of dataset-Irelia\n",
      "\n",
      "Loaded the images of dataset-Nidalee\n",
      "\n",
      "Loaded the images of dataset-Neeko\n",
      "\n",
      "Loaded the images of dataset-Xerath\n",
      "\n",
      "Loaded the images of dataset-Jax\n",
      "\n",
      "Loaded the images of dataset-Renekton\n",
      "\n",
      "Loaded the images of dataset-Karthus\n",
      "\n",
      "Loaded the images of dataset-Twitch\n",
      "\n",
      "Loaded the images of dataset-Draven\n",
      "\n",
      "Loaded the images of dataset-Udyr\n",
      "\n",
      "Loaded the images of dataset-Lulu\n",
      "\n",
      "Loaded the images of dataset-Hecarim\n",
      "\n",
      "Loaded the images of dataset-Volibear\n",
      "\n",
      "Loaded the images of dataset-Velkoz\n",
      "\n",
      "Loaded the images of dataset-Lux\n",
      "\n",
      "Loaded the images of dataset-Nunu\n",
      "\n",
      "Loaded the images of dataset-Leblanc\n",
      "\n",
      "Loaded the images of dataset-Xayah\n",
      "\n",
      "Loaded the images of dataset-Fizz\n",
      "\n",
      "Loaded the images of dataset-Annie\n",
      "\n",
      "Loaded the images of dataset-Kindred\n",
      "\n",
      "(1620, 50176)\n",
      "-1.4041406e-08\n",
      "1.0000007\n",
      "[ 1.7719505e-07 -1.1332241e-08  9.1246619e-09 ... -2.0677660e-08\n",
      "  8.8303178e-09 -4.0913804e-08]\n",
      "[1.0000017  0.9999983  1.0000017  ... 0.9999991  1.0000004  0.99999905]\n"
     ]
    }
   ],
   "source": [
    "from sklearn import preprocessing\n",
    "\n",
    "img_data_list=[]\n",
    "labels_list = []\n",
    "\n",
    "for dataset in data_dir_list:\n",
    "    img_list=os.listdir(data_path+'/'+ dataset)\n",
    "    print ('Loaded the images of dataset-'+'{}\\n'.format(dataset))\n",
    "    for img in img_list:\n",
    "        input_img=cv2.imread(data_path + '/'+ dataset + '/'+ img )\n",
    "        input_img_resize=cv2.resize(input_img,(224,224))\n",
    "        img_data_list.append(input_img_resize)\n",
    "        labels_list.append(dataset)\n",
    "\n",
    "img_data = np.array(img_data_list)\n",
    "img_data = img_data.astype('float32')\n",
    "print (img_data_scaled.shape)\n",
    "\n",
    "print (np.mean(img_data_scaled))\n",
    "print (np.std(img_data_scaled))\n",
    "\n",
    "print (img_data_scaled.mean(axis=0))\n",
    "print (img_data_scaled.std(axis=0)) "
   ]
  },
  {
   "cell_type": "code",
   "execution_count": 72,
   "metadata": {},
   "outputs": [
    {
     "data": {
      "text/plain": [
       "(1620, 224, 224, 3)"
      ]
     },
     "execution_count": 72,
     "metadata": {},
     "output_type": "execute_result"
    }
   ],
   "source": [
    "img_data.shape\n"
   ]
  },
  {
   "cell_type": "code",
   "execution_count": 73,
   "metadata": {},
   "outputs": [],
   "source": [
    "num_of_samples = img_data.shape[0]\n",
    "labels = np.ones((num_of_samples,),dtype='int64')\n",
    "for i in range(0,num_classes):\n",
    "    labels[i*10:(i+1)*10]=i\n",
    "\n",
    "names = data_dir_list"
   ]
  },
  {
   "cell_type": "code",
   "execution_count": 74,
   "metadata": {},
   "outputs": [
    {
     "name": "stdout",
     "output_type": "stream",
     "text": [
      "[[1. 0. 0. ... 0. 0. 0.]\n",
      " [1. 0. 0. ... 0. 0. 0.]\n",
      " [1. 0. 0. ... 0. 0. 0.]\n",
      " ...\n",
      " [0. 0. 0. ... 0. 0. 1.]\n",
      " [0. 0. 0. ... 0. 0. 1.]\n",
      " [0. 0. 0. ... 0. 0. 1.]]\n"
     ]
    }
   ],
   "source": [
    "Y = np_utils.to_categorical(labels, num_classes)\n",
    "print(Y)"
   ]
  },
  {
   "cell_type": "code",
   "execution_count": 77,
   "metadata": {},
   "outputs": [
    {
     "name": "stdout",
     "output_type": "stream",
     "text": [
      "(1296, 224, 224, 3)\n"
     ]
    }
   ],
   "source": [
    "X_train, X_test, y_train, y_test = train_test_split(img_data, Y, test_size=0.2, random_state=2)\n",
    "print(X_train.shape)\n"
   ]
  },
  {
   "attachments": {},
   "cell_type": "markdown",
   "metadata": {},
   "source": [
    "# Unitiliser ResNet en le réentrainant"
   ]
  },
  {
   "cell_type": "code",
   "execution_count": 51,
   "metadata": {},
   "outputs": [],
   "source": [
    "# Import resnet50\n",
    "from keras.applications.resnet import ResNet50\n",
    "from keras.applications.resnet import preprocess_input, decode_predictions\n",
    "\n",
    "# Import load image from keras.utils\n",
    "from tensorflow.keras.utils import load_img\n",
    "from tensorflow.keras.utils import img_to_array\n",
    "\n",
    "# Import Model from keras.models\n",
    "from tensorflow.keras.models import Model\n"
   ]
  },
  {
   "cell_type": "code",
   "execution_count": 78,
   "metadata": {},
   "outputs": [
    {
     "name": "stdout",
     "output_type": "stream",
     "text": [
      "Epoch 1/10\n",
      "41/41 [==============================] - 401s 10s/step - loss: 3.1930 - accuracy: 0.5301 - val_loss: 0.1863 - val_accuracy: 1.0000\n",
      "Epoch 2/10\n",
      " 7/41 [====>.........................] - ETA: 5:26 - loss: 0.1152 - accuracy: 1.0000"
     ]
    },
    {
     "ename": "KeyboardInterrupt",
     "evalue": "",
     "output_type": "error",
     "traceback": [
      "\u001b[0;31m---------------------------------------------------------------------------\u001b[0m",
      "\u001b[0;31mKeyboardInterrupt\u001b[0m                         Traceback (most recent call last)",
      "Cell \u001b[0;32mIn [78], line 17\u001b[0m\n\u001b[1;32m     14\u001b[0m model\u001b[39m.\u001b[39mcompile(optimizer\u001b[39m=\u001b[39m\u001b[39m'\u001b[39m\u001b[39madam\u001b[39m\u001b[39m'\u001b[39m, loss\u001b[39m=\u001b[39m\u001b[39m'\u001b[39m\u001b[39mcategorical_crossentropy\u001b[39m\u001b[39m'\u001b[39m, metrics\u001b[39m=\u001b[39m[\u001b[39m'\u001b[39m\u001b[39maccuracy\u001b[39m\u001b[39m'\u001b[39m])\n\u001b[1;32m     16\u001b[0m \u001b[39m# Fit the model\u001b[39;00m\n\u001b[0;32m---> 17\u001b[0m model\u001b[39m.\u001b[39;49mfit(X_train, y_train, batch_size\u001b[39m=\u001b[39;49m\u001b[39m32\u001b[39;49m, epochs\u001b[39m=\u001b[39;49m\u001b[39m10\u001b[39;49m, verbose\u001b[39m=\u001b[39;49m\u001b[39m1\u001b[39;49m, validation_data\u001b[39m=\u001b[39;49m(X_test, y_test))\n",
      "File \u001b[0;32m/opt/anaconda3/envs/TP1/lib/python3.10/site-packages/keras/utils/traceback_utils.py:65\u001b[0m, in \u001b[0;36mfilter_traceback.<locals>.error_handler\u001b[0;34m(*args, **kwargs)\u001b[0m\n\u001b[1;32m     63\u001b[0m filtered_tb \u001b[39m=\u001b[39m \u001b[39mNone\u001b[39;00m\n\u001b[1;32m     64\u001b[0m \u001b[39mtry\u001b[39;00m:\n\u001b[0;32m---> 65\u001b[0m     \u001b[39mreturn\u001b[39;00m fn(\u001b[39m*\u001b[39;49margs, \u001b[39m*\u001b[39;49m\u001b[39m*\u001b[39;49mkwargs)\n\u001b[1;32m     66\u001b[0m \u001b[39mexcept\u001b[39;00m \u001b[39mException\u001b[39;00m \u001b[39mas\u001b[39;00m e:\n\u001b[1;32m     67\u001b[0m     filtered_tb \u001b[39m=\u001b[39m _process_traceback_frames(e\u001b[39m.\u001b[39m__traceback__)\n",
      "File \u001b[0;32m/opt/anaconda3/envs/TP1/lib/python3.10/site-packages/keras/engine/training.py:1650\u001b[0m, in \u001b[0;36mModel.fit\u001b[0;34m(self, x, y, batch_size, epochs, verbose, callbacks, validation_split, validation_data, shuffle, class_weight, sample_weight, initial_epoch, steps_per_epoch, validation_steps, validation_batch_size, validation_freq, max_queue_size, workers, use_multiprocessing)\u001b[0m\n\u001b[1;32m   1642\u001b[0m \u001b[39mwith\u001b[39;00m tf\u001b[39m.\u001b[39mprofiler\u001b[39m.\u001b[39mexperimental\u001b[39m.\u001b[39mTrace(\n\u001b[1;32m   1643\u001b[0m     \u001b[39m\"\u001b[39m\u001b[39mtrain\u001b[39m\u001b[39m\"\u001b[39m,\n\u001b[1;32m   1644\u001b[0m     epoch_num\u001b[39m=\u001b[39mepoch,\n\u001b[0;32m   (...)\u001b[0m\n\u001b[1;32m   1647\u001b[0m     _r\u001b[39m=\u001b[39m\u001b[39m1\u001b[39m,\n\u001b[1;32m   1648\u001b[0m ):\n\u001b[1;32m   1649\u001b[0m     callbacks\u001b[39m.\u001b[39mon_train_batch_begin(step)\n\u001b[0;32m-> 1650\u001b[0m     tmp_logs \u001b[39m=\u001b[39m \u001b[39mself\u001b[39;49m\u001b[39m.\u001b[39;49mtrain_function(iterator)\n\u001b[1;32m   1651\u001b[0m     \u001b[39mif\u001b[39;00m data_handler\u001b[39m.\u001b[39mshould_sync:\n\u001b[1;32m   1652\u001b[0m         context\u001b[39m.\u001b[39masync_wait()\n",
      "File \u001b[0;32m/opt/anaconda3/envs/TP1/lib/python3.10/site-packages/tensorflow/python/util/traceback_utils.py:150\u001b[0m, in \u001b[0;36mfilter_traceback.<locals>.error_handler\u001b[0;34m(*args, **kwargs)\u001b[0m\n\u001b[1;32m    148\u001b[0m filtered_tb \u001b[39m=\u001b[39m \u001b[39mNone\u001b[39;00m\n\u001b[1;32m    149\u001b[0m \u001b[39mtry\u001b[39;00m:\n\u001b[0;32m--> 150\u001b[0m   \u001b[39mreturn\u001b[39;00m fn(\u001b[39m*\u001b[39;49margs, \u001b[39m*\u001b[39;49m\u001b[39m*\u001b[39;49mkwargs)\n\u001b[1;32m    151\u001b[0m \u001b[39mexcept\u001b[39;00m \u001b[39mException\u001b[39;00m \u001b[39mas\u001b[39;00m e:\n\u001b[1;32m    152\u001b[0m   filtered_tb \u001b[39m=\u001b[39m _process_traceback_frames(e\u001b[39m.\u001b[39m__traceback__)\n",
      "File \u001b[0;32m/opt/anaconda3/envs/TP1/lib/python3.10/site-packages/tensorflow/python/eager/polymorphic_function/polymorphic_function.py:880\u001b[0m, in \u001b[0;36mFunction.__call__\u001b[0;34m(self, *args, **kwds)\u001b[0m\n\u001b[1;32m    877\u001b[0m compiler \u001b[39m=\u001b[39m \u001b[39m\"\u001b[39m\u001b[39mxla\u001b[39m\u001b[39m\"\u001b[39m \u001b[39mif\u001b[39;00m \u001b[39mself\u001b[39m\u001b[39m.\u001b[39m_jit_compile \u001b[39melse\u001b[39;00m \u001b[39m\"\u001b[39m\u001b[39mnonXla\u001b[39m\u001b[39m\"\u001b[39m\n\u001b[1;32m    879\u001b[0m \u001b[39mwith\u001b[39;00m OptionalXlaContext(\u001b[39mself\u001b[39m\u001b[39m.\u001b[39m_jit_compile):\n\u001b[0;32m--> 880\u001b[0m   result \u001b[39m=\u001b[39m \u001b[39mself\u001b[39;49m\u001b[39m.\u001b[39;49m_call(\u001b[39m*\u001b[39;49margs, \u001b[39m*\u001b[39;49m\u001b[39m*\u001b[39;49mkwds)\n\u001b[1;32m    882\u001b[0m new_tracing_count \u001b[39m=\u001b[39m \u001b[39mself\u001b[39m\u001b[39m.\u001b[39mexperimental_get_tracing_count()\n\u001b[1;32m    883\u001b[0m without_tracing \u001b[39m=\u001b[39m (tracing_count \u001b[39m==\u001b[39m new_tracing_count)\n",
      "File \u001b[0;32m/opt/anaconda3/envs/TP1/lib/python3.10/site-packages/tensorflow/python/eager/polymorphic_function/polymorphic_function.py:912\u001b[0m, in \u001b[0;36mFunction._call\u001b[0;34m(self, *args, **kwds)\u001b[0m\n\u001b[1;32m    909\u001b[0m   \u001b[39mself\u001b[39m\u001b[39m.\u001b[39m_lock\u001b[39m.\u001b[39mrelease()\n\u001b[1;32m    910\u001b[0m   \u001b[39m# In this case we have created variables on the first call, so we run the\u001b[39;00m\n\u001b[1;32m    911\u001b[0m   \u001b[39m# defunned version which is guaranteed to never create variables.\u001b[39;00m\n\u001b[0;32m--> 912\u001b[0m   \u001b[39mreturn\u001b[39;00m \u001b[39mself\u001b[39;49m\u001b[39m.\u001b[39;49m_no_variable_creation_fn(\u001b[39m*\u001b[39;49margs, \u001b[39m*\u001b[39;49m\u001b[39m*\u001b[39;49mkwds)  \u001b[39m# pylint: disable=not-callable\u001b[39;00m\n\u001b[1;32m    913\u001b[0m \u001b[39melif\u001b[39;00m \u001b[39mself\u001b[39m\u001b[39m.\u001b[39m_variable_creation_fn \u001b[39mis\u001b[39;00m \u001b[39mnot\u001b[39;00m \u001b[39mNone\u001b[39;00m:\n\u001b[1;32m    914\u001b[0m   \u001b[39m# Release the lock early so that multiple threads can perform the call\u001b[39;00m\n\u001b[1;32m    915\u001b[0m   \u001b[39m# in parallel.\u001b[39;00m\n\u001b[1;32m    916\u001b[0m   \u001b[39mself\u001b[39m\u001b[39m.\u001b[39m_lock\u001b[39m.\u001b[39mrelease()\n",
      "File \u001b[0;32m/opt/anaconda3/envs/TP1/lib/python3.10/site-packages/tensorflow/python/eager/polymorphic_function/tracing_compiler.py:134\u001b[0m, in \u001b[0;36mTracingCompiler.__call__\u001b[0;34m(self, *args, **kwargs)\u001b[0m\n\u001b[1;32m    131\u001b[0m \u001b[39mwith\u001b[39;00m \u001b[39mself\u001b[39m\u001b[39m.\u001b[39m_lock:\n\u001b[1;32m    132\u001b[0m   (concrete_function,\n\u001b[1;32m    133\u001b[0m    filtered_flat_args) \u001b[39m=\u001b[39m \u001b[39mself\u001b[39m\u001b[39m.\u001b[39m_maybe_define_function(args, kwargs)\n\u001b[0;32m--> 134\u001b[0m \u001b[39mreturn\u001b[39;00m concrete_function\u001b[39m.\u001b[39;49m_call_flat(\n\u001b[1;32m    135\u001b[0m     filtered_flat_args, captured_inputs\u001b[39m=\u001b[39;49mconcrete_function\u001b[39m.\u001b[39;49mcaptured_inputs)\n",
      "File \u001b[0;32m/opt/anaconda3/envs/TP1/lib/python3.10/site-packages/tensorflow/python/eager/polymorphic_function/monomorphic_function.py:1745\u001b[0m, in \u001b[0;36mConcreteFunction._call_flat\u001b[0;34m(self, args, captured_inputs, cancellation_manager)\u001b[0m\n\u001b[1;32m   1741\u001b[0m possible_gradient_type \u001b[39m=\u001b[39m gradients_util\u001b[39m.\u001b[39mPossibleTapeGradientTypes(args)\n\u001b[1;32m   1742\u001b[0m \u001b[39mif\u001b[39;00m (possible_gradient_type \u001b[39m==\u001b[39m gradients_util\u001b[39m.\u001b[39mPOSSIBLE_GRADIENT_TYPES_NONE\n\u001b[1;32m   1743\u001b[0m     \u001b[39mand\u001b[39;00m executing_eagerly):\n\u001b[1;32m   1744\u001b[0m   \u001b[39m# No tape is watching; skip to running the function.\u001b[39;00m\n\u001b[0;32m-> 1745\u001b[0m   \u001b[39mreturn\u001b[39;00m \u001b[39mself\u001b[39m\u001b[39m.\u001b[39m_build_call_outputs(\u001b[39mself\u001b[39;49m\u001b[39m.\u001b[39;49m_inference_function\u001b[39m.\u001b[39;49mcall(\n\u001b[1;32m   1746\u001b[0m       ctx, args, cancellation_manager\u001b[39m=\u001b[39;49mcancellation_manager))\n\u001b[1;32m   1747\u001b[0m forward_backward \u001b[39m=\u001b[39m \u001b[39mself\u001b[39m\u001b[39m.\u001b[39m_select_forward_and_backward_functions(\n\u001b[1;32m   1748\u001b[0m     args,\n\u001b[1;32m   1749\u001b[0m     possible_gradient_type,\n\u001b[1;32m   1750\u001b[0m     executing_eagerly)\n\u001b[1;32m   1751\u001b[0m forward_function, args_with_tangents \u001b[39m=\u001b[39m forward_backward\u001b[39m.\u001b[39mforward()\n",
      "File \u001b[0;32m/opt/anaconda3/envs/TP1/lib/python3.10/site-packages/tensorflow/python/eager/polymorphic_function/monomorphic_function.py:378\u001b[0m, in \u001b[0;36m_EagerDefinedFunction.call\u001b[0;34m(self, ctx, args, cancellation_manager)\u001b[0m\n\u001b[1;32m    376\u001b[0m \u001b[39mwith\u001b[39;00m _InterpolateFunctionError(\u001b[39mself\u001b[39m):\n\u001b[1;32m    377\u001b[0m   \u001b[39mif\u001b[39;00m cancellation_manager \u001b[39mis\u001b[39;00m \u001b[39mNone\u001b[39;00m:\n\u001b[0;32m--> 378\u001b[0m     outputs \u001b[39m=\u001b[39m execute\u001b[39m.\u001b[39;49mexecute(\n\u001b[1;32m    379\u001b[0m         \u001b[39mstr\u001b[39;49m(\u001b[39mself\u001b[39;49m\u001b[39m.\u001b[39;49msignature\u001b[39m.\u001b[39;49mname),\n\u001b[1;32m    380\u001b[0m         num_outputs\u001b[39m=\u001b[39;49m\u001b[39mself\u001b[39;49m\u001b[39m.\u001b[39;49m_num_outputs,\n\u001b[1;32m    381\u001b[0m         inputs\u001b[39m=\u001b[39;49margs,\n\u001b[1;32m    382\u001b[0m         attrs\u001b[39m=\u001b[39;49mattrs,\n\u001b[1;32m    383\u001b[0m         ctx\u001b[39m=\u001b[39;49mctx)\n\u001b[1;32m    384\u001b[0m   \u001b[39melse\u001b[39;00m:\n\u001b[1;32m    385\u001b[0m     outputs \u001b[39m=\u001b[39m execute\u001b[39m.\u001b[39mexecute_with_cancellation(\n\u001b[1;32m    386\u001b[0m         \u001b[39mstr\u001b[39m(\u001b[39mself\u001b[39m\u001b[39m.\u001b[39msignature\u001b[39m.\u001b[39mname),\n\u001b[1;32m    387\u001b[0m         num_outputs\u001b[39m=\u001b[39m\u001b[39mself\u001b[39m\u001b[39m.\u001b[39m_num_outputs,\n\u001b[0;32m   (...)\u001b[0m\n\u001b[1;32m    390\u001b[0m         ctx\u001b[39m=\u001b[39mctx,\n\u001b[1;32m    391\u001b[0m         cancellation_manager\u001b[39m=\u001b[39mcancellation_manager)\n",
      "File \u001b[0;32m/opt/anaconda3/envs/TP1/lib/python3.10/site-packages/tensorflow/python/eager/execute.py:52\u001b[0m, in \u001b[0;36mquick_execute\u001b[0;34m(op_name, num_outputs, inputs, attrs, ctx, name)\u001b[0m\n\u001b[1;32m     50\u001b[0m \u001b[39mtry\u001b[39;00m:\n\u001b[1;32m     51\u001b[0m   ctx\u001b[39m.\u001b[39mensure_initialized()\n\u001b[0;32m---> 52\u001b[0m   tensors \u001b[39m=\u001b[39m pywrap_tfe\u001b[39m.\u001b[39;49mTFE_Py_Execute(ctx\u001b[39m.\u001b[39;49m_handle, device_name, op_name,\n\u001b[1;32m     53\u001b[0m                                       inputs, attrs, num_outputs)\n\u001b[1;32m     54\u001b[0m \u001b[39mexcept\u001b[39;00m core\u001b[39m.\u001b[39m_NotOkStatusException \u001b[39mas\u001b[39;00m e:\n\u001b[1;32m     55\u001b[0m   \u001b[39mif\u001b[39;00m name \u001b[39mis\u001b[39;00m \u001b[39mnot\u001b[39;00m \u001b[39mNone\u001b[39;00m:\n",
      "\u001b[0;31mKeyboardInterrupt\u001b[0m: "
     ]
    }
   ],
   "source": [
    "# Load the ResNet50 model\n",
    "resnet_model = ResNet50(weights='imagenet')\n",
    "\n",
    "# Change the last layer of the model\n",
    "x = resnet_model.layers[-2].output\n",
    "predictions = Dense(162, activation='softmax')(x)\n",
    "model = Model(inputs=resnet_model.input, outputs=predictions)\n",
    "\n",
    "# Freeze all the layers except the last 4 layers\n",
    "for layer in model.layers[:-4]:\n",
    "    layer.trainable = False\n",
    "\n",
    "# Compile the model\n",
    "model.compile(optimizer='adam', loss='categorical_crossentropy', metrics=['accuracy'])\n",
    "\n",
    "# Fit the model\n",
    "model.fit(X_train, y_train, batch_size=32, epochs=10, verbose=1, validation_data=(X_test, y_test))\n"
   ]
  }
 ],
 "metadata": {
  "kernelspec": {
   "display_name": "TP1",
   "language": "python",
   "name": "python3"
  },
  "language_info": {
   "codemirror_mode": {
    "name": "ipython",
    "version": 3
   },
   "file_extension": ".py",
   "mimetype": "text/x-python",
   "name": "python",
   "nbconvert_exporter": "python",
   "pygments_lexer": "ipython3",
   "version": "3.10.6"
  },
  "orig_nbformat": 4,
  "vscode": {
   "interpreter": {
    "hash": "97c892bb3c077c71a79e73100b36200d50adffbda6aedb9a1044fd256d6aacf2"
   }
  }
 },
 "nbformat": 4,
 "nbformat_minor": 2
}
