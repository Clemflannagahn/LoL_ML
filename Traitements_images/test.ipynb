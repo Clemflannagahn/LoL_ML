{
 "cells": [
  {
   "cell_type": "code",
   "execution_count": 4,
   "metadata": {},
   "outputs": [
    {
     "data": {
      "text/plain": [
       "array([[[ 77,  64,  50],\n",
       "        [ 76,  63,  49],\n",
       "        [ 76,  63,  49],\n",
       "        ...,\n",
       "        [ 85,  69,  53],\n",
       "        [ 83,  67,  51],\n",
       "        [ 82,  66,  50]],\n",
       "\n",
       "       [[ 74,  61,  47],\n",
       "        [ 74,  61,  47],\n",
       "        [ 74,  61,  47],\n",
       "        ...,\n",
       "        [ 77,  64,  48],\n",
       "        [ 77,  64,  48],\n",
       "        [ 77,  64,  48]],\n",
       "\n",
       "       [[ 73,  60,  46],\n",
       "        [ 73,  60,  46],\n",
       "        [ 73,  60,  46],\n",
       "        ...,\n",
       "        [ 74,  66,  49],\n",
       "        [ 74,  66,  49],\n",
       "        [ 74,  66,  49]],\n",
       "\n",
       "       ...,\n",
       "\n",
       "       [[ 15,   5,  11],\n",
       "        [ 15,   5,  11],\n",
       "        [ 15,   5,  11],\n",
       "        ...,\n",
       "        [139, 130,  66],\n",
       "        [150, 141,  67],\n",
       "        [156, 143,  67]],\n",
       "\n",
       "       [[ 15,   5,  11],\n",
       "        [ 15,   5,  11],\n",
       "        [ 15,   5,  11],\n",
       "        ...,\n",
       "        [139, 127,  63],\n",
       "        [148, 137,  63],\n",
       "        [153, 140,  64]],\n",
       "\n",
       "       [[ 15,   5,  11],\n",
       "        [ 15,   5,  11],\n",
       "        [ 15,   5,  11],\n",
       "        ...,\n",
       "        [141, 124,  61],\n",
       "        [149, 136,  62],\n",
       "        [149, 139,  62]]], dtype=uint8)"
      ]
     },
     "execution_count": 4,
     "metadata": {},
     "output_type": "execute_result"
    }
   ],
   "source": [
    "import cv2\n",
    "cv2.imread(\"Varus_0.jpg\")"
   ]
  }
 ],
 "metadata": {
  "kernelspec": {
   "display_name": "Projet",
   "language": "python",
   "name": "python3"
  },
  "language_info": {
   "codemirror_mode": {
    "name": "ipython",
    "version": 3
   },
   "file_extension": ".py",
   "mimetype": "text/x-python",
   "name": "python",
   "nbconvert_exporter": "python",
   "pygments_lexer": "ipython3",
   "version": "3.10.6"
  },
  "orig_nbformat": 4
 },
 "nbformat": 4,
 "nbformat_minor": 2
}
