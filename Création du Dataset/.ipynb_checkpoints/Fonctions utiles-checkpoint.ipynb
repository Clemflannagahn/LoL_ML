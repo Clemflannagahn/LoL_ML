{
 "cells": [
  {
   "cell_type": "markdown",
   "id": "dd8b429e",
   "metadata": {},
   "source": [
    "# Fonctions Utiles "
   ]
  },
  {
   "cell_type": "markdown",
   "id": "23f97c0c",
   "metadata": {},
   "source": [
    "## Variables Paramètres"
   ]
  },
  {
   "cell_type": "code",
   "execution_count": 35,
   "id": "99e1d52c",
   "metadata": {},
   "outputs": [],
   "source": [
    "KEY = \"RGAPI-6439bb5a-27df-4c8c-86f8-cc9c01262233\""
   ]
  },
  {
   "cell_type": "code",
   "execution_count": 38,
   "id": "5fd62bff",
   "metadata": {},
   "outputs": [],
   "source": [
    "import requests\n",
    "import pandas\n",
    "import json\n",
    "import time"
   ]
  },
  {
   "cell_type": "markdown",
   "id": "7373003d",
   "metadata": {},
   "source": [
    "## Mémoïzation ?\n",
    "Affin d'éviter de demander plusieurs fois la même chose, on pourrait avoir une classe 'Joueur' qui permet de centraliser les infos, pour que toutes les méthodes y aient accès. Dans ce cas, les fonctions de calcul de données deviendraient des méthodes de cette classe."
   ]
  },
  {
   "cell_type": "code",
   "execution_count": 4,
   "id": "51aa53cc",
   "metadata": {},
   "outputs": [],
   "source": [
    "class Player:\n",
    "    pass"
   ]
  },
  {
   "cell_type": "markdown",
   "id": "b5b80496",
   "metadata": {},
   "source": [
    "## Gestion des \"bad requests\""
   ]
  },
  {
   "cell_type": "code",
   "execution_count": 61,
   "id": "ed8bc44e",
   "metadata": {},
   "outputs": [],
   "source": [
    "def badRequestsHandler(url):\n",
    "    \"\"\"\n",
    "    Permet d'analyser le code de retour de la requête pour gérer les problèmes éventuels.\n",
    "    Pas sûr que cela permette de gérer tous les problèmes, certains seront probablement spécifiques.\n",
    "    \"\"\"\n",
    "    r = requests.get(url)\n",
    "    while r.status_code == 429:\n",
    "        time.sleep(5)\n",
    "        print(\"Quota dépassé ...\", end = \"\\r\")\n",
    "        r = requests.get(url)\n",
    "    if r.status_code == 400:\n",
    "        raise Exception(\"Requête invalide\")\n",
    "    elif r.status_code == 403:\n",
    "        raise Exception(\"Non autorisé: vérifiez la clé\")\n",
    "    elif r.status_code == 200:\n",
    "        return r.json()"
   ]
  },
  {
   "cell_type": "markdown",
   "id": "9023d7db",
   "metadata": {},
   "source": [
    "## Récupération des données brutes d'un joueur"
   ]
  },
  {
   "cell_type": "code",
   "execution_count": 60,
   "id": "b3de3e5c",
   "metadata": {},
   "outputs": [
    {
     "name": "stdout",
     "output_type": "stream",
     "text": [
      "https://euw1.api.riotgames.com/lol/summoner/v4/summoners/by-name/Skeanz?api_key=RGAPI-6439bb5a-27df-4c8c-86f8-cc9c01262233\n"
     ]
    },
    {
     "data": {
      "text/plain": [
       "{'id': 'MsJ0SiJEwktncbZVgBlW1uhS7v95GzwvRujuOJir4lKjlhCjBDJDBamZQw',\n",
       " 'accountId': 'UgsvMJCt-77CllcM2LTEmKn8Znx8J8TuaR0rIxOSy2hdn16OarV49TWH',\n",
       " 'puuid': 'vzO2ozpiICei-jK6WD-59daFWSvv2dH3E9VJ_SrFPLwuRZ7LFdza9Em9Z8gcXgZEi8sYjf6yRydTNQ',\n",
       " 'name': 'Skeanz',\n",
       " 'profileIconId': 7,\n",
       " 'revisionDate': 1666001193416,\n",
       " 'summonerLevel': 297}"
      ]
     },
     "execution_count": 60,
     "metadata": {},
     "output_type": "execute_result"
    }
   ],
   "source": [
    "def requestSummonerInfo(summoner_name,key):\n",
    "    \"\"\"\n",
    "    Renvoie un dictionnaire contenant des infos sur le joueur 'summoner_name', à savoir :\n",
    "    accountId :    string - Encrypted account ID. Max length 56 characters.\n",
    "    profileIconId:    int - ID of the summoner icon associated with the summoner.\n",
    "    revisionDate:    long - Date summoner was last modified specified as epoch milliseconds. The following events will update this timestamp: summoner name change, summoner level change, or profile icon change.\n",
    "    name:          string - Summoner name.\n",
    "    id:            string - Encrypted summoner ID. Max length 63 characters.\n",
    "    puuid:         string - Encrypted PUUID. Exact length of 78 characters.\n",
    "    summonerLevel:   long - Summoner level associated with the summoner.\n",
    "    \"\"\"\n",
    "    return badRequestsHandler(f\"https://euw1.api.riotgames.com/lol/summoner/v4/summoners/by-name/{summoner_name}?api_key={key}\")\n",
    "\n",
    "requestSummonerInfo('Skeanz',KEY)"
   ]
  },
  {
   "cell_type": "code",
   "execution_count": null,
   "id": "c500c7ab",
   "metadata": {},
   "outputs": [],
   "source": [
    "def requestMostRecentGamesId(puuid, nb_of_games=None, nb_of_days_ago=None):\n",
    "    \"\"\"\n",
    "    Si nb_of_games    != None : Récupère les 'nb_of_games' dernières parties jouées par le joueur.\n",
    "    Si nb_of_days_ago != None : Récupère toutes les parties jouées par le joueur dans les 'nb_of_days_ago' jours.\n",
    "    Si les deux sont != None ou les deux sont == None, renvoie une erreur.\n",
    "    Renvoie une liste contenant les id de ces parties.\n",
    "    \"\"\"\n",
    "    pass"
   ]
  },
  {
   "cell_type": "code",
   "execution_count": null,
   "id": "b10a90c1",
   "metadata": {},
   "outputs": [],
   "source": [
    "def requestRankedInfo(summoner_id):\n",
    "    \"\"\"\n",
    "    Renvoie un dictionnaire de dictionnaire contenant des infos sur les résultats du joueur en partie classées, à savoir :\n",
    "    FLEXQ: {\n",
    "        tier: string - Iron -> Challenger\n",
    "        rank: string - IV -> I\n",
    "        lp: int - league points\n",
    "        wins: int\n",
    "        losses: int\n",
    "    }\n",
    "    SOLOQ: {pareil}\n",
    "    \"\"\"\n",
    "    pass"
   ]
  },
  {
   "cell_type": "markdown",
   "id": "ca42f617",
   "metadata": {},
   "source": [
    "## Calculs de données"
   ]
  },
  {
   "cell_type": "code",
   "execution_count": null,
   "id": "7b76c906",
   "metadata": {},
   "outputs": [],
   "source": [
    "def getWinrate(nb_of_games=0):\n",
    "    \"\"\"\n",
    "    Calcule le winrate (float) et le KDA moyen (float,float,float) sur les 'nb_of_games' dernières parties.\n",
    "    Si nb_of_games = 0, alors on fait le calcul sur toute la saison.\n",
    "    Renvoie un dictionnaire de la forme:\n",
    "    {\n",
    "        wins: int\n",
    "        losses: int\n",
    "        winrate: float\n",
    "        meanKDA: (float,float,float)\n",
    "    }\n",
    "    \"\"\"\n",
    "    pass"
   ]
  },
  {
   "cell_type": "code",
   "execution_count": null,
   "id": "4a35edf3",
   "metadata": {},
   "outputs": [],
   "source": [
    "def getWinrateOnChampions(nb_of_games=0):\n",
    "    \"\"\"\n",
    "    Calcule le winrate et le KDA moyen sur chaque champion sur les 'nb_of_games' dernières parties\n",
    "    Si nb_of_games = 0, alors on fait le calcul sur toute la saison.\n",
    "    Renvoie un dictionnaire de la forme :\n",
    "    {\n",
    "        Aatrox: {\n",
    "            wins: int\n",
    "            losses: int\n",
    "            winrate: float\n",
    "            meanKDA: (float,float,float)\n",
    "        }\n",
    "        ...\n",
    "    }\n",
    "    \"\"\"\n",
    "    pass"
   ]
  }
 ],
 "metadata": {
  "kernelspec": {
   "display_name": "Python [conda env:TP1] *",
   "language": "python",
   "name": "conda-env-TP1-py"
  },
  "language_info": {
   "codemirror_mode": {
    "name": "ipython",
    "version": 3
   },
   "file_extension": ".py",
   "mimetype": "text/x-python",
   "name": "python",
   "nbconvert_exporter": "python",
   "pygments_lexer": "ipython3",
   "version": "3.10.6"
  }
 },
 "nbformat": 4,
 "nbformat_minor": 5
}
