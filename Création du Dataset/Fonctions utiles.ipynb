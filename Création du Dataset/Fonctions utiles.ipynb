{
 "cells": [
  {
   "cell_type": "markdown",
   "id": "dd8b429e",
   "metadata": {},
   "source": [
    "# Fonctions Utiles "
   ]
  },
  {
   "cell_type": "markdown",
   "id": "23f97c0c",
   "metadata": {},
   "source": [
    "## Variables Paramètres"
   ]
  },
  {
   "cell_type": "code",
   "execution_count": 1,
   "id": "99e1d52c",
   "metadata": {},
   "outputs": [],
   "source": [
    "KEY = \"\""
   ]
  },
  {
   "cell_type": "code",
   "execution_count": 2,
   "id": "5fd62bff",
   "metadata": {},
   "outputs": [],
   "source": [
    "import requests\n",
    "import pandas as pd\n",
    "import json\n",
    "import time"
   ]
  },
  {
   "cell_type": "markdown",
   "id": "7373003d",
   "metadata": {},
   "source": [
    "## Mémoïzation ?\n",
    "Affin d'éviter de demander plusieurs fois la même chose, on pourrait avoir une classe 'Joueur' qui permet de centraliser les infos, pour que toutes les méthodes y aient accès. Dans ce cas, les fonctions de calcul de données deviendraient des méthodes de cette classe."
   ]
  },
  {
   "cell_type": "code",
   "execution_count": 3,
   "id": "51aa53cc",
   "metadata": {},
   "outputs": [],
   "source": [
    "class Player:\n",
    "    pass"
   ]
  },
  {
   "cell_type": "markdown",
   "id": "b5b80496",
   "metadata": {},
   "source": [
    "## Gestion des \"bad requests\""
   ]
  },
  {
   "cell_type": "code",
   "execution_count": 7,
   "id": "ed8bc44e",
   "metadata": {},
   "outputs": [],
   "source": [
    "def badRequestsHandler(url):\n",
    "    \"\"\"\n",
    "    Permet d'analyser le code de retour de la requête pour gérer les problèmes éventuels.\n",
    "    Pas sûr que cela permette de gérer tous les problèmes, certains seront probablement spécifiques.\n",
    "    \"\"\"\n",
    "    r = requests.get(url)\n",
    "    if r.status_code == 429:\n",
    "        time.sleep(time.sleep(int(r.headers[\"Retry-After\"])+1))\n",
    "        print(\"Quota dépassé ...\", end = \"\\r\")\n",
    "        r = requests.get(url)\n",
    "    elif r.status_code == 400:\n",
    "        raise Exception(\"Requête invalide\")\n",
    "    elif r.status_code == 401:\n",
    "        raise Exception(\"Unauthorized\")\n",
    "    elif r.status_code == 403:\n",
    "        raise Exception(\"Non autorisé: vérifiez la clé\")\n",
    "    elif r.status_code == 404:\n",
    "        raise Exception(\"Données non trouvées\")\n",
    "    elif r.status_code == 405:\n",
    "        raise Exception(\"Méthode non autorisée\")\n",
    "    elif r.status_code == 415:\n",
    "        raise Exception(\"Unsupported media type\")\n",
    "    elif r.status_code == 500:\n",
    "        raise Exception(\"Internal server error\")\n",
    "    elif r.status_code == 502:\n",
    "        raise Exception(\"Bad gateway\")\n",
    "    elif r.status_code == 503:\n",
    "        raise Exception(\"Service non disponible\")\n",
    "    elif r.status_code == 504:\n",
    "        raise Exception(\"Gateway timeout\")\n",
    "    elif r.status_code == 200:\n",
    "        return r.json()"
   ]
  },
  {
   "cell_type": "markdown",
   "id": "9023d7db",
   "metadata": {},
   "source": [
    "## Récupération des données brutes d'un joueur"
   ]
  },
  {
   "cell_type": "code",
   "execution_count": 8,
   "id": "b3de3e5c",
   "metadata": {},
   "outputs": [
    {
     "data": {
      "text/plain": [
       "{'id': 'oIQG68UUDKSt7bUQlBtSBLqzKCelfv4jSrzooNJ_L4iosa5jrtahspGZUw',\n",
       " 'accountId': 's4GxVhnvULshQkAN0icIxFhnOBuY3rcm_dolU43KsJLeAY9HN6RbMrg3',\n",
       " 'puuid': 'TGabv96Z9DC3LHkHNJoqS4j-HJIjLUqqhoyeeJ4FmJwudqjIdh57uvPZbUQJvGd9xtr0ShdUilvzpw',\n",
       " 'name': 'Skeanz',\n",
       " 'profileIconId': 7,\n",
       " 'revisionDate': 1666001193416,\n",
       " 'summonerLevel': 301}"
      ]
     },
     "execution_count": 8,
     "metadata": {},
     "output_type": "execute_result"
    }
   ],
   "source": [
    "def requestSummonerInfo(summoner_name,key):\n",
    "    \"\"\"\n",
    "    Renvoie un dictionnaire contenant des infos sur le joueur 'summoner_name', à savoir :\n",
    "    accountId :    string - Encrypted account ID. Max length 56 characters.\n",
    "    profileIconId:    int - ID of the summoner icon associated with the summoner.\n",
    "    revisionDate:    long - Date summoner was last modified specified as epoch milliseconds. The following events will update this timestamp: summoner name change, summoner level change, or profile icon change.\n",
    "    name:          string - Summoner name.\n",
    "    id:            string - Encrypted summoner ID. Max length 63 characters.\n",
    "    puuid:         string - Encrypted PUUID. Exact length of 78 characters.\n",
    "    summonerLevel:   long - Summoner level associated with the summoner.\n",
    "    \"\"\"\n",
    "    return badRequestsHandler(f\"https://euw1.api.riotgames.com/lol/summoner/v4/summoners/by-name/{summoner_name}?api_key={key}\")\n",
    "\n",
    "requestSummonerInfo('Skeanz',KEY)"
   ]
  },
  {
   "cell_type": "code",
   "execution_count": 22,
   "id": "c500c7ab",
   "metadata": {},
   "outputs": [
    {
     "name": "stdout",
     "output_type": "stream",
     "text": [
      "['EUW1_6125263461', 'EUW1_6125117238', 'EUW1_6124858249', 'EUW1_6124479142', 'EUW1_6124328934', 'EUW1_6124224078', 'EUW1_6123544402', 'EUW1_6123437590', 'EUW1_6123115704', 'EUW1_6122939859', 'EUW1_6122311766', 'EUW1_6122280097', 'EUW1_6122266350', 'EUW1_6122130128', 'EUW1_6122087456', 'EUW1_6122153257', 'EUW1_6121676073', 'EUW1_6121471739', 'EUW1_6121240149', 'EUW1_6121186385', 'EUW1_6121182663', 'EUW1_6121070614', 'EUW1_6121087165', 'EUW1_6120864661', 'EUW1_6120478992', 'EUW1_6120428858', 'EUW1_6120383584', 'EUW1_6119901354', 'EUW1_6119866322', 'EUW1_6119739967', 'EUW1_6119702750', 'EUW1_6119485913', 'EUW1_6119380569', 'EUW1_6118284482', 'EUW1_6118179192', 'EUW1_6118173125', 'EUW1_6118078590', 'EUW1_6118094453', 'EUW1_6117779373', 'EUW1_6117647516', 'EUW1_6116770091', 'EUW1_6116803136', 'EUW1_6116659484', 'EUW1_6116734363', 'EUW1_6116642868', 'EUW1_6116567530', 'EUW1_6116526149', 'EUW1_6116402165', 'EUW1_6116399559', 'EUW1_6115469282']\n"
     ]
    }
   ],
   "source": [
    "def requestMostRecentGamesId(puuid,key, nb_of_games=None, nb_of_days_ago=None):\n",
    "    \"\"\"\n",
    "    Si nb_of_games    != None : Récupère les 'nb_of_games' dernières parties jouées par le joueur.\n",
    "    Si nb_of_days_ago != None : Récupère toutes les parties jouées par le joueur dans les 'nb_of_days_ago' jours.\n",
    "    Si les deux sont != None ou les deux sont == None, renvoie une erreur.\n",
    "    Renvoie une liste contenant les id de ces parties.\n",
    "    \"\"\"\n",
    "    if (nb_of_games==None and nb_of_days_ago==None) or (nb_of_games != None and nb_of_days_ago != None):\n",
    "        raise Exception(\"Erreur d'inputs, les paramètres nb_of_games et nb_of_days_ago ne peuvent pas tous les deux avoir la même valeur\")\n",
    "    elif nb_of_games != None:\n",
    "        res_games = []\n",
    "        start_index = 0 # très important, sinon on récupère en boucle les 100 mêmes games\n",
    "        while nb_of_games >100:    #la valeur max du \"count\" pour avoir une liste de match est de 100\n",
    "            r = badRequestsHandler(f\"https://europe.api.riotgames.com/lol/match/v5/matches/by-puuid/{puuid}/ids?start={start_index}&count=100&api_key={key}\")\n",
    "            start_index+=100\n",
    "            res_games += r\n",
    "            nb_of_games-=100\n",
    "\n",
    "        r = badRequestsHandler(f\"https://europe.api.riotgames.com/lol/match/v5/matches/by-puuid/{puuid}/ids?start={start_index}&count={nb_of_games}&api_key={key}\")\n",
    "        res_games += r\n",
    "\n",
    "    elif nb_of_days_ago != None :\n",
    "        res_games = []\n",
    "        start_index = 0\n",
    "        startTime = int(time.time()-24*60*60*nb_of_days_ago) # l'horaire de départ est \"aujourd'hui\"- nb_of_days_ago si on veut les games dans les nb_of_days_ago derniers jours\n",
    "        while True: \n",
    "            r = badRequestsHandler(f\"https://europe.api.riotgames.com/lol/match/v5/matches/by-puuid/{puuid}/ids?startTime={startTime}&start={start_index}&count=100&api_key={key}\")\n",
    "            if r == [] : #quand il n'y a plus de games à récup, on sort de la boucle\n",
    "                break\n",
    "            start_index+=100\n",
    "            res_games += r\n",
    "    return res_games\n",
    "\n",
    "# GamesId = requestMostRecentGamesId('TGabv96Z9DC3LHkHNJoqS4j-HJIjLUqqhoyeeJ4FmJwudqjIdh57uvPZbUQJvGd9xtr0ShdUilvzpw',KEY,nb_of_games=300)\n",
    "# GamesId_7_last_days = requestMostRecentGamesId('TGabv96Z9DC3LHkHNJoqS4j-HJIjLUqqhoyeeJ4FmJwudqjIdh57uvPZbUQJvGd9xtr0ShdUilvzpw',KEY,nb_of_days_ago=7)\n",
    "# print(GamesId_7_last_days)"
   ]
  },
  {
   "cell_type": "code",
   "execution_count": null,
   "id": "b10a90c1",
   "metadata": {},
   "outputs": [],
   "source": [
    "def requestRankedInfo(summoner_id):\n",
    "    \"\"\"\n",
    "    Renvoie un dictionnaire de dictionnaire contenant des infos sur les résultats du joueur en partie classées, à savoir :\n",
    "    FLEXQ: {\n",
    "        tier: string - Iron -> Challenger\n",
    "        rank: string - IV -> I\n",
    "        lp: int - league points\n",
    "        wins: int\n",
    "        losses: int\n",
    "    }\n",
    "    SOLOQ: {pareil}\n",
    "    \"\"\"\n",
    "    pass"
   ]
  },
  {
   "cell_type": "markdown",
   "id": "ca42f617",
   "metadata": {},
   "source": [
    "## Calculs de données"
   ]
  },
  {
   "cell_type": "code",
   "execution_count": null,
   "id": "7b76c906",
   "metadata": {},
   "outputs": [],
   "source": [
    "def getWinrate(nb_of_games=0):\n",
    "    \"\"\"\n",
    "    Calcule le winrate (float) et le KDA moyen (float,float,float) sur les 'nb_of_games' dernières parties.\n",
    "    Si nb_of_games = 0, alors on fait le calcul sur toute la saison.\n",
    "    Renvoie un dictionnaire de la forme:\n",
    "    {\n",
    "        wins: int\n",
    "        losses: int\n",
    "        winrate: float\n",
    "        meanKDA: (float,float,float)\n",
    "    }\n",
    "    \"\"\"\n",
    "    pass"
   ]
  },
  {
   "cell_type": "code",
   "execution_count": null,
   "id": "4a35edf3",
   "metadata": {},
   "outputs": [],
   "source": [
    "def getWinrateOnChampions(nb_of_games=0):\n",
    "    \"\"\"\n",
    "    Calcule le winrate et le KDA moyen sur chaque champion sur les 'nb_of_games' dernières parties\n",
    "    Si nb_of_games = 0, alors on fait le calcul sur toute la saison.\n",
    "    Renvoie un dictionnaire de la forme :\n",
    "    {\n",
    "        Aatrox: {\n",
    "            wins: int\n",
    "            losses: int\n",
    "            winrate: float\n",
    "            meanKDA: (float,float,float)\n",
    "        }\n",
    "        ...\n",
    "    }\n",
    "    \"\"\"\n",
    "    pass"
   ]
  }
 ],
 "metadata": {
  "kernelspec": {
   "display_name": "Python 3.10.6 ('Projet')",
   "language": "python",
   "name": "python3"
  },
  "language_info": {
   "codemirror_mode": {
    "name": "ipython",
    "version": 3
   },
   "file_extension": ".py",
   "mimetype": "text/x-python",
   "name": "python",
   "nbconvert_exporter": "python",
   "pygments_lexer": "ipython3",
   "version": "3.10.6"
  },
  "vscode": {
   "interpreter": {
    "hash": "63e22c97e4ed8d431fc724019dffa39fd8054b2d28cf3e66fed132b173246b98"
   }
  }
 },
 "nbformat": 4,
 "nbformat_minor": 5
}
