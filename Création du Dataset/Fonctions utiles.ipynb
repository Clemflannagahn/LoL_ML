{
 "cells": [
  {
   "cell_type": "markdown",
   "id": "dd8b429e",
   "metadata": {},
   "source": [
    "# Fonctions Utiles "
   ]
  },
  {
   "cell_type": "markdown",
   "id": "23f97c0c",
   "metadata": {},
   "source": [
    "## Variables Paramètres"
   ]
  },
  {
   "cell_type": "code",
   "execution_count": 1,
   "id": "99e1d52c",
   "metadata": {},
   "outputs": [],
   "source": [
    "KEY = \"\""
   ]
  },
  {
   "cell_type": "code",
   "execution_count": 2,
   "id": "5fd62bff",
   "metadata": {},
   "outputs": [],
   "source": [
    "import requests\n",
    "import pandas as pd\n",
    "import json\n",
    "import time"
   ]
  },
  {
   "cell_type": "markdown",
   "id": "7373003d",
   "metadata": {},
   "source": [
    "## Mémoïzation ?\n",
    "Affin d'éviter de demander plusieurs fois la même chose, on pourrait avoir une classe 'Joueur' qui permet de centraliser les infos, pour que toutes les méthodes y aient accès. Dans ce cas, les fonctions de calcul de données deviendraient des méthodes de cette classe."
   ]
  },
  {
   "cell_type": "code",
   "execution_count": 3,
   "id": "51aa53cc",
   "metadata": {},
   "outputs": [],
   "source": [
    "class Player:\n",
    "    pass"
   ]
  },
  {
   "cell_type": "markdown",
   "id": "b5b80496",
   "metadata": {},
   "source": [
    "## Gestion des \"bad requests\""
   ]
  },
  {
   "cell_type": "code",
   "execution_count": 30,
   "id": "ed8bc44e",
   "metadata": {},
   "outputs": [],
   "source": [
    "def badRequestsHandler(url):\n",
    "    \"\"\"\n",
    "    Permet d'analyser le code de retour de la requête pour gérer les problèmes éventuels.\n",
    "    Pas sûr que cela permette de gérer tous les problèmes, certains seront probablement spécifiques.\n",
    "    \"\"\"\n",
    "    r = requests.get(url)\n",
    "    if r.status_code == 429:\n",
    "        time.sleep(int(r.headers[\"Retry-After\"]))\n",
    "        print(\"Quota dépassé ...\", end = \"\\r\")\n",
    "        r = requests.get(url)\n",
    "    elif r.status_code == 400:\n",
    "        raise Exception(\"Requête invalide\")\n",
    "    elif r.status_code == 401:\n",
    "        raise Exception(\"Unauthorized\")\n",
    "    elif r.status_code == 403:\n",
    "        raise Exception(\"Non autorisé: vérifiez la clé\")\n",
    "    elif r.status_code == 404:\n",
    "        raise Exception(\"Données non trouvées\")\n",
    "    elif r.status_code == 405:\n",
    "        raise Exception(\"Méthode non autorisée\")\n",
    "    elif r.status_code == 415:\n",
    "        raise Exception(\"Unsupported media type\")\n",
    "    elif r.status_code == 500:\n",
    "        raise Exception(\"Internal server error\")\n",
    "    elif r.status_code == 502:\n",
    "        raise Exception(\"Bad gateway\")\n",
    "    elif r.status_code == 503:\n",
    "        raise Exception(\"Service non disponible\")\n",
    "    elif r.status_code == 504:\n",
    "        raise Exception(\"Gateway timeout\")\n",
    "    elif r.status_code == 200:\n",
    "        return r.json()"
   ]
  },
  {
   "cell_type": "markdown",
   "id": "9023d7db",
   "metadata": {},
   "source": [
    "## Récupération des données brutes d'un joueur"
   ]
  },
  {
   "cell_type": "code",
   "execution_count": 27,
   "id": "b3de3e5c",
   "metadata": {},
   "outputs": [
    {
     "data": {
      "text/plain": [
       "{'id': 'oIQG68UUDKSt7bUQlBtSBLqzKCelfv4jSrzooNJ_L4iosa5jrtahspGZUw',\n",
       " 'accountId': 's4GxVhnvULshQkAN0icIxFhnOBuY3rcm_dolU43KsJLeAY9HN6RbMrg3',\n",
       " 'puuid': 'TGabv96Z9DC3LHkHNJoqS4j-HJIjLUqqhoyeeJ4FmJwudqjIdh57uvPZbUQJvGd9xtr0ShdUilvzpw',\n",
       " 'name': 'Skeanz',\n",
       " 'profileIconId': 7,\n",
       " 'revisionDate': 1666001193416,\n",
       " 'summonerLevel': 302}"
      ]
     },
     "execution_count": 27,
     "metadata": {},
     "output_type": "execute_result"
    }
   ],
   "source": [
    "def requestSummonerInfo(summoner_name,key):\n",
    "    \"\"\"\n",
    "    Renvoie un dictionnaire contenant des infos sur le joueur 'summoner_name', à savoir :\n",
    "    accountId :    string - Encrypted account ID. Max length 56 characters.\n",
    "    profileIconId:    int - ID of the summoner icon associated with the summoner.\n",
    "    revisionDate:    long - Date summoner was last modified specified as epoch milliseconds. The following events will update this timestamp: summoner name change, summoner level change, or profile icon change.\n",
    "    name:          string - Summoner name.\n",
    "    id:            string - Encrypted summoner ID. Max length 63 characters.\n",
    "    puuid:         string - Encrypted PUUID. Exact length of 78 characters.\n",
    "    summonerLevel:   long - Summoner level associated with the summoner.\n",
    "    \"\"\"\n",
    "    return badRequestsHandler(f\"https://euw1.api.riotgames.com/lol/summoner/v4/summoners/by-name/{summoner_name}?api_key={key}\")\n",
    "\n",
    "requestSummonerInfo('Skeanz',KEY)"
   ]
  },
  {
   "cell_type": "code",
   "execution_count": 28,
   "id": "c500c7ab",
   "metadata": {},
   "outputs": [],
   "source": [
    "def requestMostRecentGamesId(puuid,key, nb_of_games=None, nb_of_days_ago=None):\n",
    "    \"\"\"\n",
    "    Si nb_of_games    != None : Récupère les 'nb_of_games' dernières parties jouées par le joueur.\n",
    "    Si nb_of_days_ago != None : Récupère toutes les parties jouées par le joueur dans les 'nb_of_days_ago' jours.\n",
    "    Si les deux sont != None ou les deux sont == None, renvoie une erreur.\n",
    "    Renvoie une liste contenant les id de ces parties.\n",
    "    \"\"\"\n",
    "    if (nb_of_games==None and nb_of_days_ago==None) or (nb_of_games != None and nb_of_days_ago != None):\n",
    "        raise Exception(\"Erreur d'inputs, les paramètres nb_of_games et nb_of_days_ago ne peuvent pas tous les deux avoir la même valeur\")\n",
    "    elif nb_of_games != None:\n",
    "        res_games = []\n",
    "        start_index = 0 # très important, sinon on récupère en boucle les 100 mêmes games\n",
    "        while nb_of_games >100:    #la valeur max du \"count\" pour avoir une liste de match est de 100\n",
    "            r = badRequestsHandler(f\"https://europe.api.riotgames.com/lol/match/v5/matches/by-puuid/{puuid}/ids?start={start_index}&count=100&api_key={key}\")\n",
    "            if r == []: # on a atteint le max de games du joueur\n",
    "                break\n",
    "            start_index+=100\n",
    "            res_games += r\n",
    "            nb_of_games-=100\n",
    "\n",
    "        r = badRequestsHandler(f\"https://europe.api.riotgames.com/lol/match/v5/matches/by-puuid/{puuid}/ids?start={start_index}&count={nb_of_games}&api_key={key}\")\n",
    "        res_games += r\n",
    "\n",
    "    elif nb_of_days_ago != None :\n",
    "        res_games = []\n",
    "        start_index = 0\n",
    "        startTime = int(time.time()-24*60*60*nb_of_days_ago) # l'horaire de départ est \"aujourd'hui\"- nb_of_days_ago si on veut les games dans les nb_of_days_ago derniers jours\n",
    "        while True: \n",
    "            r = badRequestsHandler(f\"https://europe.api.riotgames.com/lol/match/v5/matches/by-puuid/{puuid}/ids?startTime={startTime}&start={start_index}&count=100&api_key={key}\")\n",
    "            if r == [] : #quand il n'y a plus de games à récup, on sort de la boucle\n",
    "                break\n",
    "            start_index+=100\n",
    "            res_games += r\n",
    "    return res_games\n",
    "\n",
    "# GamesId = requestMostRecentGamesId('TGabv96Z9DC3LHkHNJoqS4j-HJIjLUqqhoyeeJ4FmJwudqjIdh57uvPZbUQJvGd9xtr0ShdUilvzpw',KEY,nb_of_games=300)\n",
    "# GamesId_7_last_days = requestMostRecentGamesId('TGabv96Z9DC3LHkHNJoqS4j-HJIjLUqqhoyeeJ4FmJwudqjIdh57uvPZbUQJvGd9xtr0ShdUilvzpw',KEY,nb_of_days_ago=7)\n",
    "# print(GamesId_7_last_days)"
   ]
  },
  {
   "cell_type": "code",
   "execution_count": 29,
   "id": "ff5c706f",
   "metadata": {},
   "outputs": [],
   "source": [
    "def requestPlayersOfARank(queue,tier,division,number_of_players,key):\n",
    "    \"\"\" \n",
    "    Pour récupérer des joueurs de même ELO\n",
    "\n",
    "    Args\n",
    "    ----\n",
    "    queue : String\n",
    "        Quelle queue ? Parmis RANKED_SOLO_5x5,RANKED_FLEX_SR,RANKED_FLEX_TT\n",
    "    tier : String\n",
    "        Nom de la ligue en anglais (ex : GOLD, PLATINIUM...)\n",
    "    division : String\n",
    "        numéro de la division : I,II,III,IV\n",
    "    number_of_players : Int\n",
    "        Nombre de joueurs voulus\n",
    "    \n",
    "    Returns\n",
    "    -------\n",
    "    Dict\n",
    "        Dictionnaire rassemblant les informations des différents joueurs\n",
    "        Attention : le nombre de joueurs sera arrondi aux 205 supérieurs (par exemple pour 320, 410 seront donnés)\n",
    "    \"\"\"\n",
    "\n",
    "    tier=tier.upper()\n",
    "    if number_of_players > 205 : # les pages renvoyées par chaque requête contiennent 205 joueurs\n",
    "        liste_joueurs = []\n",
    "        for i in range(1,(number_of_players//205)+2):\n",
    "            print(i)\n",
    "            r = badRequestsHandler(f\"https://euw1.api.riotgames.com/lol/league-exp/v4/entries/{queue}/{tier}/{division}I?page={i}&api_key={key}\")\n",
    "            if r == []:\n",
    "                return liste_joueurs # on a atteint le nombre de joueur total de la division\n",
    "            liste_joueurs += r\n",
    "    else :\n",
    "        liste_joueurs = badRequestsHandler(f\"https://euw1.api.riotgames.com/lol/league-exp/v4/entries/{queue}/{tier}/{division}I?page=1&api_key={key}\")\n",
    "    return liste_joueurs\n",
    "\n",
    "# liste = requestPlayersOfARank(\"RANKED_SOLO_5x5\",\"DIAMOND\",\"I\",100000,KEY)\n",
    "# print(len(liste))"
   ]
  },
  {
   "cell_type": "code",
   "execution_count": 17,
   "id": "b10a90c1",
   "metadata": {},
   "outputs": [
    {
     "name": "stdout",
     "output_type": "stream",
     "text": [
      "[{'leagueId': '76146db3-5c54-40ba-a6b8-ab4f79f5034e', 'queueType': 'RANKED_FLEX_SR', 'tier': 'PLATINUM', 'rank': 'I', 'summonerId': 'oIQG68UUDKSt7bUQlBtSBLqzKCelfv4jSrzooNJ_L4iosa5jrtahspGZUw', 'summonerName': 'Skeanz', 'leaguePoints': 75, 'wins': 24, 'losses': 24, 'veteran': False, 'inactive': False, 'freshBlood': False, 'hotStreak': False}, {'leagueId': '04a0f903-37c7-316f-af90-5f8eed42011c', 'queueType': 'RANKED_SOLO_5x5', 'tier': 'CHALLENGER', 'rank': 'I', 'summonerId': 'oIQG68UUDKSt7bUQlBtSBLqzKCelfv4jSrzooNJ_L4iosa5jrtahspGZUw', 'summonerName': 'Skeanz', 'leaguePoints': 1243, 'wins': 892, 'losses': 815, 'veteran': True, 'inactive': False, 'freshBlood': False, 'hotStreak': False}]\n"
     ]
    }
   ],
   "source": [
    "def requestRankedInfo(summoner_id,key):\n",
    "    \"\"\"\n",
    "    Renvoie un dictionnaire de dictionnaire contenant des infos sur les résultats du joueur en partie classées, à savoir :\n",
    "    FLEXQ: {\n",
    "        tier: string - Iron -> Challenger\n",
    "        rank: string - IV -> I\n",
    "        lp: int - league points\n",
    "        wins: int\n",
    "        losses: int\n",
    "    }\n",
    "    SOLOQ: {pareil}\n",
    "    \"\"\"\n",
    "    return (badRequestsHandler(f\"https://euw1.api.riotgames.com/lol/league/v4/entries/by-summoner/{summoner_id}?api_key={key}\"))\n",
    "\n",
    "# print(requestRankedInfo('oIQG68UUDKSt7bUQlBtSBLqzKCelfv4jSrzooNJ_L4iosa5jrtahspGZUw',KEY))"
   ]
  },
  {
   "cell_type": "markdown",
   "id": "3f23a43d",
   "metadata": {},
   "source": [
    "## Algorithme général pour la création du Dataset"
   ]
  },
  {
   "cell_type": "code",
   "execution_count": 33,
   "id": "d8126d48",
   "metadata": {},
   "outputs": [
    {
     "name": "stdout",
     "output_type": "stream",
     "text": [
      "0\n",
      "Quota dépassé ...\r"
     ]
    },
    {
     "ename": "TypeError",
     "evalue": "'NoneType' object is not iterable",
     "output_type": "error",
     "traceback": [
      "\u001b[1;31m---------------------------------------------------------------------------\u001b[0m",
      "\u001b[1;31mTypeError\u001b[0m                                 Traceback (most recent call last)",
      "Cell \u001b[1;32mIn [33], line 24\u001b[0m\n\u001b[0;32m     20\u001b[0m         dataset_games \u001b[39m+\u001b[39m\u001b[39m=\u001b[39minfos_game\n\u001b[0;32m     22\u001b[0m     \u001b[39mreturn\u001b[39;00m(dataset_games)\n\u001b[1;32m---> 24\u001b[0m \u001b[39mprint\u001b[39m(infos_games(\u001b[39m\"\u001b[39m\u001b[39mRANKED_SOLO_5x5\u001b[39m\u001b[39m\"\u001b[39m,\u001b[39m\"\u001b[39m\u001b[39mDIAMOND\u001b[39m\u001b[39m\"\u001b[39m,\u001b[39m\"\u001b[39m\u001b[39mI\u001b[39m\u001b[39m\"\u001b[39m,\u001b[39m10\u001b[39m,\u001b[39m100\u001b[39m,KEY))\n",
      "Cell \u001b[1;32mIn [33], line 20\u001b[0m, in \u001b[0;36minfos_games\u001b[1;34m(queue, tier, division, number_of_players, number_of_games, key)\u001b[0m\n\u001b[0;32m     18\u001b[0m \u001b[39mfor\u001b[39;00m game \u001b[39min\u001b[39;00m id_games_uniques:\n\u001b[0;32m     19\u001b[0m     infos_game \u001b[39m=\u001b[39m badRequestsHandler(\u001b[39mf\u001b[39m\u001b[39m\"\u001b[39m\u001b[39mhttps://europe.api.riotgames.com/lol/match/v5/matches/\u001b[39m\u001b[39m{\u001b[39;00mgame\u001b[39m}\u001b[39;00m\u001b[39m?api_key=\u001b[39m\u001b[39m{\u001b[39;00mkey\u001b[39m}\u001b[39;00m\u001b[39m\"\u001b[39m)\n\u001b[1;32m---> 20\u001b[0m     dataset_games \u001b[39m+\u001b[39m\u001b[39m=\u001b[39minfos_game\n\u001b[0;32m     22\u001b[0m \u001b[39mreturn\u001b[39;00m(dataset_games)\n",
      "\u001b[1;31mTypeError\u001b[0m: 'NoneType' object is not iterable"
     ]
    }
   ],
   "source": [
    "\n",
    "def infos_games(queue,tier,division,number_of_players,number_of_games,key):\n",
    "    id_games = []\n",
    "    liste_joueurs = requestPlayersOfARank(\"RANKED_SOLO_5x5\",\"DIAMOND\",\"I\",number_of_players,key) # chaque élément de la liste contient le nom des joueurs\n",
    "    liste_joueurs_finale = liste_joueurs[:number_of_players]\n",
    "    i=0\n",
    "    while len(id_games) <number_of_games:\n",
    "        print(len(id_games))\n",
    "        info_joueur = requestSummonerInfo(liste_joueurs_finale[i]['summonerName'],key)\n",
    "        parties_joueur = requestMostRecentGamesId(info_joueur['puuid'],key, nb_of_games=1000) #recup de toute les parties du joueur (on considère qu'il en a fait - de 100 000)\n",
    "        id_games+=parties_joueur\n",
    "        i+=1\n",
    "\n",
    "    # Une fois les games récup, on supprime les doublons car ils sont inutiles et utilise des requêtes\n",
    "    id_games_set = set(id_games)\n",
    "    id_games_uniques = (list(id_games_set))\n",
    "\n",
    "    dataset_games = []\n",
    "    for game in id_games_uniques:\n",
    "        infos_game = badRequestsHandler(f\"https://europe.api.riotgames.com/lol/match/v5/matches/{game}?api_key={key}\")\n",
    "        dataset_games +=infos_game\n",
    "    \n",
    "    return(dataset_games)\n",
    "\n",
    "print(infos_games(\"RANKED_SOLO_5x5\",\"DIAMOND\",\"I\",10,100,KEY))"
   ]
  },
  {
   "cell_type": "markdown",
   "id": "ca42f617",
   "metadata": {},
   "source": [
    "## Calculs de données"
   ]
  },
  {
   "cell_type": "code",
   "execution_count": null,
   "id": "7b76c906",
   "metadata": {},
   "outputs": [],
   "source": [
    "def getWinrate(nb_of_games=0):\n",
    "    \"\"\"\n",
    "    Calcule le winrate (float) et le KDA moyen (float,float,float) sur les 'nb_of_games' dernières parties.\n",
    "    Si nb_of_games = 0, alors on fait le calcul sur toute la saison.\n",
    "    Renvoie un dictionnaire de la forme:\n",
    "    {\n",
    "        wins: int\n",
    "        losses: int\n",
    "        winrate: float\n",
    "        meanKDA: (float,float,float)\n",
    "    }\n",
    "    \"\"\"\n",
    "    pass"
   ]
  },
  {
   "cell_type": "code",
   "execution_count": null,
   "id": "4a35edf3",
   "metadata": {},
   "outputs": [],
   "source": [
    "def getWinrateOnChampions(nb_of_games=0):\n",
    "    \"\"\"\n",
    "    Calcule le winrate et le KDA moyen sur chaque champion sur les 'nb_of_games' dernières parties\n",
    "    Si nb_of_games = 0, alors on fait le calcul sur toute la saison.\n",
    "    Renvoie un dictionnaire de la forme :\n",
    "    {\n",
    "        Aatrox: {\n",
    "            wins: int\n",
    "            losses: int\n",
    "            winrate: float\n",
    "            meanKDA: (float,float,float)\n",
    "        }\n",
    "        ...\n",
    "    }\n",
    "    \"\"\"\n",
    "    pass"
   ]
  }
 ],
 "metadata": {
  "kernelspec": {
   "display_name": "Python 3.10.6 ('Projet')",
   "language": "python",
   "name": "python3"
  },
  "language_info": {
   "codemirror_mode": {
    "name": "ipython",
    "version": 3
   },
   "file_extension": ".py",
   "mimetype": "text/x-python",
   "name": "python",
   "nbconvert_exporter": "python",
   "pygments_lexer": "ipython3",
   "version": "3.10.6"
  },
  "vscode": {
   "interpreter": {
    "hash": "63e22c97e4ed8d431fc724019dffa39fd8054b2d28cf3e66fed132b173246b98"
   }
  }
 },
 "nbformat": 4,
 "nbformat_minor": 5
}
