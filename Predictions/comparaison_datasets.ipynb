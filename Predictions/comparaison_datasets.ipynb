{
 "cells": [
  {
   "attachments": {},
   "cell_type": "markdown",
   "id": "c040f2a3",
   "metadata": {},
   "source": [
    "### Notebook comparaison dataset classique et dataset transformé (min max mean log)"
   ]
  },
  {
   "cell_type": "code",
   "execution_count": 1,
   "id": "73673428",
   "metadata": {},
   "outputs": [],
   "source": [
    "import requests\n",
    "import pandas as pd\n",
    "import numpy as np\n",
    "import json\n",
    "import time\n",
    "import matplotlib.pyplot as plt"
   ]
  },
  {
   "cell_type": "code",
   "execution_count": 2,
   "id": "470fa8ac",
   "metadata": {},
   "outputs": [],
   "source": [
    "roles = [\"TOP\",\"JGL\",\"MID\",\"ADC\",\"SUP\"]\n",
    "#stats = [\"CHAMP\",\"LVL\",\"TOTAL\",\"GWR\",\"WR\",\"NB\",\"HOT\",\"FILL\",\"RANK\",\"VS\",\"MAS\",\"WCH\",\"LCH\",\"TOTCH\",\"WRCH\"]\n",
    "stats = [\"VS\"]\n",
    "columns = []\n",
    "\n",
    "for i in range(2):\n",
    "    for role in roles:\n",
    "        for stat in stats:\n",
    "            columns.append(f\"{role}{i}_{stat}\")"
   ]
  },
  {
   "cell_type": "code",
   "execution_count": 3,
   "id": "e5b4b9fe",
   "metadata": {},
   "outputs": [],
   "source": [
    "df1 = pd.read_pickle(\"../Création du Dataset/datasetv4_base.pkl\")\n",
    "df2 = pd.read_pickle(\"../Création du Dataset/datasetv4_fillmissing.pkl\")\n",
    "df3 = pd.read_pickle(\"../Création du Dataset/datasetv4_numerical.pkl\")\n",
    "df4 = pd.read_pickle(\"../Création du Dataset/datasetv4_transformed.pkl\")"
   ]
  },
  {
   "cell_type": "code",
   "execution_count": 4,
   "id": "ef3ed93e",
   "metadata": {},
   "outputs": [],
   "source": [
    "roles = [\"TOP\",\"JGL\",\"MID\",\"ADC\",\"SUP\"]\n",
    "stats = [\"LVL\",\"TOTAL\",\"GWR\",\"WR\",\"NB\",\"HOT\",\"FILL\",\"RANK\",\"KDA\",\"KDAG\",\"VS\",\"MAS\",\"WCH\",\"LCH\",\"TOTCH\",\"WRCH\"]\n",
    "columns = []\n",
    "\n",
    "for i in range(2):\n",
    "    for role in roles:\n",
    "        for stat in stats:\n",
    "            columns.append(f\"{role}{i}_{stat}\")"
   ]
  },
  {
   "cell_type": "code",
   "execution_count": 5,
   "id": "ac60552e",
   "metadata": {
    "scrolled": true
   },
   "outputs": [
    {
     "data": {
      "text/plain": [
       "(2886, 160)"
      ]
     },
     "execution_count": 5,
     "metadata": {},
     "output_type": "execute_result"
    }
   ],
   "source": [
    "X = df2[columns].to_numpy().astype('float32')\n",
    "X.shape"
   ]
  },
  {
   "cell_type": "code",
   "execution_count": 6,
   "id": "300faa2d",
   "metadata": {},
   "outputs": [
    {
     "data": {
      "text/plain": [
       "(2886, 88)"
      ]
     },
     "execution_count": 6,
     "metadata": {},
     "output_type": "execute_result"
    }
   ],
   "source": [
    "X_t = df4.to_numpy().astype('float32')\n",
    "X_t.shape"
   ]
  },
  {
   "cell_type": "code",
   "execution_count": 7,
   "id": "cd459a23",
   "metadata": {},
   "outputs": [],
   "source": [
    "y = df2[\"Y\"].to_numpy().astype('int')"
   ]
  },
  {
   "attachments": {},
   "cell_type": "markdown",
   "id": "a9586507",
   "metadata": {},
   "source": [
    "### Score cross validation sur XGBoost"
   ]
  },
  {
   "attachments": {},
   "cell_type": "markdown",
   "id": "c594b14c",
   "metadata": {},
   "source": [
    "L'exécution peut prendre un peu de temps (>3 min)"
   ]
  },
  {
   "cell_type": "code",
   "execution_count": 8,
   "id": "1de29bc6",
   "metadata": {},
   "outputs": [
    {
     "ename": "AttributeError",
     "evalue": "'numpy.ndarray' object has no attribute 'columns'",
     "output_type": "error",
     "traceback": [
      "\u001b[1;31m---------------------------------------------------------------------------\u001b[0m",
      "\u001b[1;31mAttributeError\u001b[0m                            Traceback (most recent call last)",
      "Cell \u001b[1;32mIn [8], line 5\u001b[0m\n\u001b[0;32m      3\u001b[0m \u001b[39mfrom\u001b[39;00m \u001b[39msklearn\u001b[39;00m\u001b[39m.\u001b[39;00m\u001b[39mpreprocessing\u001b[39;00m \u001b[39mimport\u001b[39;00m normalize\n\u001b[0;32m      4\u001b[0m \u001b[39mfrom\u001b[39;00m \u001b[39msklearn\u001b[39;00m\u001b[39m.\u001b[39;00m\u001b[39mensemble\u001b[39;00m \u001b[39mimport\u001b[39;00m RandomForestClassifier,GradientBoostingClassifier,RandomForestRegressor\n\u001b[1;32m----> 5\u001b[0m \u001b[39mprint\u001b[39m(X\u001b[39m.\u001b[39mcolumns)\n\u001b[0;32m      7\u001b[0m clf \u001b[39m=\u001b[39m GridSearchCV(GradientBoostingClassifier(), {},n_jobs\u001b[39m=\u001b[39m\u001b[39m-\u001b[39m\u001b[39m1\u001b[39m,cv\u001b[39m=\u001b[39m\u001b[39m15\u001b[39m)\n\u001b[0;32m      8\u001b[0m clf\u001b[39m.\u001b[39mfit(X,y)\n",
      "\u001b[1;31mAttributeError\u001b[0m: 'numpy.ndarray' object has no attribute 'columns'"
     ]
    }
   ],
   "source": [
    "from sklearn.model_selection import GridSearchCV\n",
    "from sklearn.model_selection import train_test_split \n",
    "from sklearn.preprocessing import normalize\n",
    "from sklearn.ensemble import RandomForestClassifier,GradientBoostingClassifier,RandomForestRegressor\n",
    "\n",
    "clf = GridSearchCV(GradientBoostingClassifier(), {},n_jobs=-1,cv=15)\n",
    "clf.fit(X,y)\n",
    "print(f\"score base: {clf.cv_results_['mean_test_score']}\")"
   ]
  },
  {
   "cell_type": "code",
   "execution_count": 9,
   "id": "89a4dc95",
   "metadata": {},
   "outputs": [
    {
     "name": "stdout",
     "output_type": "stream",
     "text": [
      "score transformed: [0.70514716]\n"
     ]
    }
   ],
   "source": [
    "clf = GridSearchCV(GradientBoostingClassifier(), {},n_jobs=-1,cv=15)\n",
    "clf.fit(X_t,y)\n",
    "print(f\"score transformed: {clf.cv_results_['mean_test_score']}\")"
   ]
  },
  {
   "attachments": {},
   "cell_type": "markdown",
   "id": "7581ae0a",
   "metadata": {},
   "source": [
    "On a + 3/4 points avec le dataset transformé (>70%)"
   ]
  }
 ],
 "metadata": {
  "kernelspec": {
   "display_name": "Projet",
   "language": "python",
   "name": "python3"
  },
  "language_info": {
   "codemirror_mode": {
    "name": "ipython",
    "version": 3
   },
   "file_extension": ".py",
   "mimetype": "text/x-python",
   "name": "python",
   "nbconvert_exporter": "python",
   "pygments_lexer": "ipython3",
   "version": "3.10.6"
  },
  "vscode": {
   "interpreter": {
    "hash": "63e22c97e4ed8d431fc724019dffa39fd8054b2d28cf3e66fed132b173246b98"
   }
  }
 },
 "nbformat": 4,
 "nbformat_minor": 5
}
