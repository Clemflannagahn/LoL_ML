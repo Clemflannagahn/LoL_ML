{
 "cells": [
  {
   "cell_type": "markdown",
   "id": "646c42ae",
   "metadata": {},
   "source": [
    "# Construction d'un dataset à features numériques intéressantes"
   ]
  },
  {
   "cell_type": "code",
   "execution_count": 2,
   "id": "4efe7180",
   "metadata": {},
   "outputs": [],
   "source": [
    "import pandas as pd\n",
    "import matplotlib as mpl\n",
    "import matplotlib.pyplot as plt\n",
    "import numpy as np"
   ]
  },
  {
   "cell_type": "code",
   "execution_count": 3,
   "id": "ceba5cae",
   "metadata": {},
   "outputs": [],
   "source": [
    "d = pd.read_pickle(\"../Création du Dataset/datasetv2.pkl\")\n",
    "dataset = d.copy()"
   ]
  },
  {
   "cell_type": "code",
   "execution_count": 14,
   "id": "50a652b7",
   "metadata": {},
   "outputs": [
    {
     "data": {
      "text/plain": [
       "Index(['Y', 'TOP0_CHAMP', 'TOP0_LVL', 'TOP0_TOTAL', 'TOP0_GWR', 'TOP0_VET',\n",
       "       'TOP0_RANK', 'TOP0_HOT', 'TOP0_KDAG', 'TOP0_KDA', 'TOP0_WR', 'TOP0_NB',\n",
       "       'TOP0_FILL', 'JGL0_CHAMP', 'JGL0_LVL', 'JGL0_TOTAL', 'JGL0_GWR',\n",
       "       'JGL0_VET', 'JGL0_RANK', 'JGL0_HOT', 'JGL0_KDAG', 'JGL0_KDA', 'JGL0_WR',\n",
       "       'JGL0_NB', 'JGL0_FILL', 'MID0_CHAMP', 'MID0_LVL', 'MID0_TOTAL',\n",
       "       'MID0_GWR', 'MID0_VET', 'MID0_RANK', 'MID0_HOT', 'MID0_KDAG',\n",
       "       'MID0_KDA', 'MID0_WR', 'MID0_NB', 'MID0_FILL', 'ADC0_CHAMP', 'ADC0_LVL',\n",
       "       'ADC0_TOTAL', 'ADC0_GWR', 'ADC0_VET', 'ADC0_RANK', 'ADC0_HOT',\n",
       "       'ADC0_KDAG', 'ADC0_KDA', 'ADC0_WR', 'ADC0_NB', 'ADC0_FILL',\n",
       "       'SUP0_CHAMP'],\n",
       "      dtype='object')"
      ]
     },
     "execution_count": 14,
     "metadata": {},
     "output_type": "execute_result"
    }
   ],
   "source": [
    "dataset.columns[:50]"
   ]
  },
  {
   "cell_type": "markdown",
   "id": "37aa6322",
   "metadata": {},
   "source": [
    "# Fonctions de conversion "
   ]
  },
  {
   "cell_type": "markdown",
   "id": "0548d870",
   "metadata": {},
   "source": [
    "### Conversion du Rank\n",
    "Convertir le rang en nombre de LP au dessus de Iron IV 0 LP"
   ]
  },
  {
   "cell_type": "code",
   "execution_count": 8,
   "id": "1a28ea18",
   "metadata": {},
   "outputs": [],
   "source": [
    "def add_rank_numerical_value_columns(datasetInput,datasetOutput):\n",
    "    listRankCols = ['TOP0_RANK','TOP1_RANK','JGL0_RANK','JGL1_RANK','MID0_RANK','MID1_RANK','ADC0_RANK','ADC1_RANK','SUP0_RANK','SUP1_RANK']\n",
    "    rankOrder = ['IRON','BRONZE','SILVER','GOLD','PLATINUM','DIAMOND','MASTER','GRANDMASTER','CHALLENGER']\n",
    "    divisionOrder = ['IV','III','II','I']\n",
    "    for col in listRankCols:\n",
    "        rank = pd.DataFrame(datasetInput[col].tolist(),datasetInput.index,columns=['RANK','DIVISION','LP'])\n",
    "        for i in range(len(rankOrder)):\n",
    "            rank.loc[rank['RANK']==rankOrder[i], 'RANK'] = i\n",
    "\n",
    "        for i in range(len(divisionOrder)):\n",
    "            rank.loc[rank['DIVISION']==divisionOrder[i], 'DIVISION'] = i\n",
    "        \n",
    "        datasetOutput[col+'_NUM'] = rank['RANK']*400 + rank['DIVISION']*100 + rank['LP']"
   ]
  },
  {
   "cell_type": "markdown",
   "id": "c898a9f8",
   "metadata": {},
   "source": [
    "### Conversion des KDA/KDAG\n",
    "Calcul du ratio (K+A)/D"
   ]
  },
  {
   "cell_type": "code",
   "execution_count": 7,
   "id": "3e1f1461",
   "metadata": {},
   "outputs": [],
   "source": [
    "def add_kda_ratio_columns(datasetInput,datasetOutput):\n",
    "    listRankCols = ['TOP0_KDA','TOP1_KDA','JGL0_KDA','JGL1_KDA','MID0_KDA','MID1_KDA','ADC0_KDA','ADC1_KDA','SUP0_KDA','SUP1_KDA']\n",
    "    for col in listRankCols:\n",
    "        kda = pd.DataFrame(datasetInput[col].tolist(),datasetInput.index,columns=['K','D','A'])\n",
    "        datasetOutput[col+'_RATIO'] = (kda['K'] + kda['A']) / (kda['D']+1)\n",
    "        kdag = pd.DataFrame(datasetInput[col+'G'].tolist(),datasetInput.index,columns=['K','D','A'])\n",
    "        datasetOutput[col+'G'+'_RATIO'] = (kdag['K'] + kdag['A']) / (kdag['D']+1)"
   ]
  },
  {
   "cell_type": "markdown",
   "id": "d0fc9217",
   "metadata": {},
   "source": [
    "### Conversion des booléens\n",
    "Calcul d'un \"score\", qui représente le nombre de joueurs possédant la caractéristique"
   ]
  },
  {
   "cell_type": "code",
   "execution_count": 9,
   "id": "fab88517",
   "metadata": {},
   "outputs": [],
   "source": [
    "def add_bool_score_column(datasetInput,datasetOutput, boolvar):\n",
    "    listCols = ['TOP0_','TOP1_','JGL0_','JGL1_','MID0_','MID1_','ADC0_','ADC1_','SUP0_','SUP1_']\n",
    "    datasetOutput[boolvar+'_SCORE'] = 0\n",
    "    for i in range(len(listCols)):\n",
    "        if i%2==0:\n",
    "            datasetOutput[boolvar+'_SCORE'] = datasetOutput[boolvar+'_SCORE'] + datasetInput[listCols[i]+boolvar]\n",
    "        else:\n",
    "            datasetOutput[boolvar+'_SCORE'] = datasetOutput[boolvar+'_SCORE'] - datasetInput[listCols[i]+boolvar]"
   ]
  },
  {
   "cell_type": "markdown",
   "id": "9faffc9d",
   "metadata": {},
   "source": []
  }
 ],
 "metadata": {
  "kernelspec": {
   "display_name": "Python [conda env:ECN] *",
   "language": "python",
   "name": "conda-env-ECN-py"
  },
  "language_info": {
   "codemirror_mode": {
    "name": "ipython",
    "version": 3
   },
   "file_extension": ".py",
   "mimetype": "text/x-python",
   "name": "python",
   "nbconvert_exporter": "python",
   "pygments_lexer": "ipython3",
   "version": "3.10.6"
  }
 },
 "nbformat": 4,
 "nbformat_minor": 5
}
